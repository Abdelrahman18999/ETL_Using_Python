{
 "cells": [
  {
   "cell_type": "code",
   "execution_count": 1,
   "id": "b198badb-3444-456f-bfdc-067869526497",
   "metadata": {},
   "outputs": [],
   "source": [
    "import pandas as pd"
   ]
  },
  {
   "cell_type": "code",
   "execution_count": 2,
   "id": "356e4bb5-db7f-400a-8371-848ee580a962",
   "metadata": {},
   "outputs": [
    {
     "data": {
      "text/html": [
       "<div>\n",
       "<style scoped>\n",
       "    .dataframe tbody tr th:only-of-type {\n",
       "        vertical-align: middle;\n",
       "    }\n",
       "\n",
       "    .dataframe tbody tr th {\n",
       "        vertical-align: top;\n",
       "    }\n",
       "\n",
       "    .dataframe thead th {\n",
       "        text-align: right;\n",
       "    }\n",
       "</style>\n",
       "<table border=\"1\" class=\"dataframe\">\n",
       "  <thead>\n",
       "    <tr style=\"text-align: right;\">\n",
       "      <th></th>\n",
       "      <th>customer_id</th>\n",
       "      <th>first_name</th>\n",
       "      <th>last_name</th>\n",
       "      <th>phone</th>\n",
       "      <th>email</th>\n",
       "      <th>street</th>\n",
       "      <th>city</th>\n",
       "      <th>state</th>\n",
       "      <th>zip_code</th>\n",
       "      <th>Extraction_Date</th>\n",
       "      <th>source</th>\n",
       "    </tr>\n",
       "  </thead>\n",
       "  <tbody>\n",
       "    <tr>\n",
       "      <th>0</th>\n",
       "      <td>1</td>\n",
       "      <td>Debra</td>\n",
       "      <td>Burks</td>\n",
       "      <td>NaN</td>\n",
       "      <td>debra.burks@yahoo.com</td>\n",
       "      <td>9273 Thorne Ave.</td>\n",
       "      <td>Orchard Park</td>\n",
       "      <td>NY</td>\n",
       "      <td>14127</td>\n",
       "      <td>1.714564e+09</td>\n",
       "      <td>datalack</td>\n",
       "    </tr>\n",
       "    <tr>\n",
       "      <th>1</th>\n",
       "      <td>2</td>\n",
       "      <td>Kasha</td>\n",
       "      <td>Todd</td>\n",
       "      <td>NaN</td>\n",
       "      <td>kasha.todd@yahoo.com</td>\n",
       "      <td>910 Vine Street</td>\n",
       "      <td>Campbell</td>\n",
       "      <td>CA</td>\n",
       "      <td>95008</td>\n",
       "      <td>1.714564e+09</td>\n",
       "      <td>datalack</td>\n",
       "    </tr>\n",
       "    <tr>\n",
       "      <th>2</th>\n",
       "      <td>3</td>\n",
       "      <td>Tameka</td>\n",
       "      <td>Fisher</td>\n",
       "      <td>NaN</td>\n",
       "      <td>tameka.fisher@aol.com</td>\n",
       "      <td>769C Honey Creek St.</td>\n",
       "      <td>Redondo Beach</td>\n",
       "      <td>CA</td>\n",
       "      <td>90278</td>\n",
       "      <td>1.714564e+09</td>\n",
       "      <td>datalack</td>\n",
       "    </tr>\n",
       "    <tr>\n",
       "      <th>3</th>\n",
       "      <td>4</td>\n",
       "      <td>Daryl</td>\n",
       "      <td>Spence</td>\n",
       "      <td>NaN</td>\n",
       "      <td>daryl.spence@aol.com</td>\n",
       "      <td>988 Pearl Lane</td>\n",
       "      <td>Uniondale</td>\n",
       "      <td>NY</td>\n",
       "      <td>11553</td>\n",
       "      <td>1.714564e+09</td>\n",
       "      <td>datalack</td>\n",
       "    </tr>\n",
       "    <tr>\n",
       "      <th>4</th>\n",
       "      <td>5</td>\n",
       "      <td>Charolette</td>\n",
       "      <td>Rice</td>\n",
       "      <td>(916) 381-6003</td>\n",
       "      <td>charolette.rice@msn.com</td>\n",
       "      <td>107 River Dr.</td>\n",
       "      <td>Sacramento</td>\n",
       "      <td>CA</td>\n",
       "      <td>95820</td>\n",
       "      <td>1.714564e+09</td>\n",
       "      <td>datalack</td>\n",
       "    </tr>\n",
       "    <tr>\n",
       "      <th>5</th>\n",
       "      <td>6</td>\n",
       "      <td>Lyndsey</td>\n",
       "      <td>Bean</td>\n",
       "      <td>NaN</td>\n",
       "      <td>lyndsey.bean@hotmail.com</td>\n",
       "      <td>769 West Road</td>\n",
       "      <td>Fairport</td>\n",
       "      <td>NY</td>\n",
       "      <td>14450</td>\n",
       "      <td>1.714564e+09</td>\n",
       "      <td>datalack</td>\n",
       "    </tr>\n",
       "    <tr>\n",
       "      <th>6</th>\n",
       "      <td>7</td>\n",
       "      <td>Latasha</td>\n",
       "      <td>Hays</td>\n",
       "      <td>(716) 986-3359</td>\n",
       "      <td>latasha.hays@hotmail.com</td>\n",
       "      <td>7014 Manor Station Rd.</td>\n",
       "      <td>Buffalo</td>\n",
       "      <td>NY</td>\n",
       "      <td>14215</td>\n",
       "      <td>1.714564e+09</td>\n",
       "      <td>datalack</td>\n",
       "    </tr>\n",
       "    <tr>\n",
       "      <th>7</th>\n",
       "      <td>8</td>\n",
       "      <td>Jacquline</td>\n",
       "      <td>Duncan</td>\n",
       "      <td>NaN</td>\n",
       "      <td>jacquline.duncan@yahoo.com</td>\n",
       "      <td>15 Brown St.</td>\n",
       "      <td>Jackson Heights</td>\n",
       "      <td>NY</td>\n",
       "      <td>11372</td>\n",
       "      <td>1.714564e+09</td>\n",
       "      <td>datalack</td>\n",
       "    </tr>\n",
       "    <tr>\n",
       "      <th>8</th>\n",
       "      <td>9</td>\n",
       "      <td>Genoveva</td>\n",
       "      <td>Baldwin</td>\n",
       "      <td>NaN</td>\n",
       "      <td>genoveva.baldwin@msn.com</td>\n",
       "      <td>8550 Spruce Drive</td>\n",
       "      <td>Port Washington</td>\n",
       "      <td>NY</td>\n",
       "      <td>11050</td>\n",
       "      <td>1.714564e+09</td>\n",
       "      <td>datalack</td>\n",
       "    </tr>\n",
       "    <tr>\n",
       "      <th>9</th>\n",
       "      <td>10</td>\n",
       "      <td>Pamelia</td>\n",
       "      <td>Newman</td>\n",
       "      <td>NaN</td>\n",
       "      <td>pamelia.newman@gmail.com</td>\n",
       "      <td>476 Chestnut Ave.</td>\n",
       "      <td>Monroe</td>\n",
       "      <td>NY</td>\n",
       "      <td>10950</td>\n",
       "      <td>1.714564e+09</td>\n",
       "      <td>datalack</td>\n",
       "    </tr>\n",
       "  </tbody>\n",
       "</table>\n",
       "</div>"
      ],
      "text/plain": [
       "   customer_id  first_name last_name           phone  \\\n",
       "0            1       Debra     Burks             NaN   \n",
       "1            2       Kasha      Todd             NaN   \n",
       "2            3      Tameka    Fisher             NaN   \n",
       "3            4       Daryl    Spence             NaN   \n",
       "4            5  Charolette      Rice  (916) 381-6003   \n",
       "5            6     Lyndsey      Bean             NaN   \n",
       "6            7     Latasha      Hays  (716) 986-3359   \n",
       "7            8   Jacquline    Duncan             NaN   \n",
       "8            9    Genoveva   Baldwin             NaN   \n",
       "9           10     Pamelia    Newman             NaN   \n",
       "\n",
       "                        email                   street             city state  \\\n",
       "0       debra.burks@yahoo.com        9273 Thorne Ave.      Orchard Park    NY   \n",
       "1        kasha.todd@yahoo.com         910 Vine Street          Campbell    CA   \n",
       "2       tameka.fisher@aol.com    769C Honey Creek St.     Redondo Beach    CA   \n",
       "3        daryl.spence@aol.com          988 Pearl Lane         Uniondale    NY   \n",
       "4     charolette.rice@msn.com           107 River Dr.        Sacramento    CA   \n",
       "5    lyndsey.bean@hotmail.com           769 West Road          Fairport    NY   \n",
       "6    latasha.hays@hotmail.com  7014 Manor Station Rd.           Buffalo    NY   \n",
       "7  jacquline.duncan@yahoo.com            15 Brown St.   Jackson Heights    NY   \n",
       "8    genoveva.baldwin@msn.com       8550 Spruce Drive   Port Washington    NY   \n",
       "9    pamelia.newman@gmail.com       476 Chestnut Ave.            Monroe    NY   \n",
       "\n",
       "   zip_code  Extraction_Date    source  \n",
       "0     14127     1.714564e+09  datalack  \n",
       "1     95008     1.714564e+09  datalack  \n",
       "2     90278     1.714564e+09  datalack  \n",
       "3     11553     1.714564e+09  datalack  \n",
       "4     95820     1.714564e+09  datalack  \n",
       "5     14450     1.714564e+09  datalack  \n",
       "6     14215     1.714564e+09  datalack  \n",
       "7     11372     1.714564e+09  datalack  \n",
       "8     11050     1.714564e+09  datalack  \n",
       "9     10950     1.714564e+09  datalack  "
      ]
     },
     "execution_count": 2,
     "metadata": {},
     "output_type": "execute_result"
    }
   ],
   "source": [
    "df = pd.read_csv(\"D:\\\\ITI\\\\Python\\\\ITI_Python_for_Data_Management\\\\Extraction\\\\landing\\\\customers.csv\")\n",
    "df.head(10)"
   ]
  },
  {
   "cell_type": "code",
   "execution_count": 3,
   "id": "ace1bb93-d078-40d3-bdf6-8807c7a131b6",
   "metadata": {},
   "outputs": [
    {
     "name": "stdout",
     "output_type": "stream",
     "text": [
      "<class 'pandas.core.frame.DataFrame'>\n",
      "RangeIndex: 1445 entries, 0 to 1444\n",
      "Data columns (total 11 columns):\n",
      " #   Column           Non-Null Count  Dtype  \n",
      "---  ------           --------------  -----  \n",
      " 0   customer_id      1445 non-null   int64  \n",
      " 1   first_name       1445 non-null   object \n",
      " 2   last_name        1445 non-null   object \n",
      " 3   phone            178 non-null    object \n",
      " 4   email            1445 non-null   object \n",
      " 5   street           1445 non-null   object \n",
      " 6   city             1445 non-null   object \n",
      " 7   state            1445 non-null   object \n",
      " 8   zip_code         1445 non-null   int64  \n",
      " 9   Extraction_Date  1445 non-null   float64\n",
      " 10  source           1445 non-null   object \n",
      "dtypes: float64(1), int64(2), object(8)\n",
      "memory usage: 124.3+ KB\n"
     ]
    }
   ],
   "source": [
    "df.info()"
   ]
  },
  {
   "cell_type": "code",
   "execution_count": 4,
   "id": "e159109d-ab6e-4816-b81b-f0fcfe5a51fb",
   "metadata": {},
   "outputs": [
    {
     "data": {
      "text/html": [
       "<div>\n",
       "<style scoped>\n",
       "    .dataframe tbody tr th:only-of-type {\n",
       "        vertical-align: middle;\n",
       "    }\n",
       "\n",
       "    .dataframe tbody tr th {\n",
       "        vertical-align: top;\n",
       "    }\n",
       "\n",
       "    .dataframe thead th {\n",
       "        text-align: right;\n",
       "    }\n",
       "</style>\n",
       "<table border=\"1\" class=\"dataframe\">\n",
       "  <thead>\n",
       "    <tr style=\"text-align: right;\">\n",
       "      <th></th>\n",
       "      <th>customer_id</th>\n",
       "      <th>first_name</th>\n",
       "      <th>last_name</th>\n",
       "      <th>phone</th>\n",
       "      <th>email</th>\n",
       "      <th>street</th>\n",
       "      <th>city</th>\n",
       "      <th>state</th>\n",
       "      <th>zip_code</th>\n",
       "      <th>Extraction_Date</th>\n",
       "      <th>source</th>\n",
       "    </tr>\n",
       "  </thead>\n",
       "  <tbody>\n",
       "    <tr>\n",
       "      <th>0</th>\n",
       "      <td>1</td>\n",
       "      <td>Debra</td>\n",
       "      <td>Burks</td>\n",
       "      <td>NaN</td>\n",
       "      <td>debra.burks@yahoo.com</td>\n",
       "      <td>9273 Thorne Ave.</td>\n",
       "      <td>Orchard Park</td>\n",
       "      <td>NY</td>\n",
       "      <td>14127</td>\n",
       "      <td>2024-05-01 11:42:23.564626217</td>\n",
       "      <td>datalack</td>\n",
       "    </tr>\n",
       "    <tr>\n",
       "      <th>1</th>\n",
       "      <td>2</td>\n",
       "      <td>Kasha</td>\n",
       "      <td>Todd</td>\n",
       "      <td>NaN</td>\n",
       "      <td>kasha.todd@yahoo.com</td>\n",
       "      <td>910 Vine Street</td>\n",
       "      <td>Campbell</td>\n",
       "      <td>CA</td>\n",
       "      <td>95008</td>\n",
       "      <td>2024-05-01 11:42:23.564626217</td>\n",
       "      <td>datalack</td>\n",
       "    </tr>\n",
       "    <tr>\n",
       "      <th>2</th>\n",
       "      <td>3</td>\n",
       "      <td>Tameka</td>\n",
       "      <td>Fisher</td>\n",
       "      <td>NaN</td>\n",
       "      <td>tameka.fisher@aol.com</td>\n",
       "      <td>769C Honey Creek St.</td>\n",
       "      <td>Redondo Beach</td>\n",
       "      <td>CA</td>\n",
       "      <td>90278</td>\n",
       "      <td>2024-05-01 11:42:23.564626217</td>\n",
       "      <td>datalack</td>\n",
       "    </tr>\n",
       "    <tr>\n",
       "      <th>3</th>\n",
       "      <td>4</td>\n",
       "      <td>Daryl</td>\n",
       "      <td>Spence</td>\n",
       "      <td>NaN</td>\n",
       "      <td>daryl.spence@aol.com</td>\n",
       "      <td>988 Pearl Lane</td>\n",
       "      <td>Uniondale</td>\n",
       "      <td>NY</td>\n",
       "      <td>11553</td>\n",
       "      <td>2024-05-01 11:42:23.564626217</td>\n",
       "      <td>datalack</td>\n",
       "    </tr>\n",
       "    <tr>\n",
       "      <th>4</th>\n",
       "      <td>5</td>\n",
       "      <td>Charolette</td>\n",
       "      <td>Rice</td>\n",
       "      <td>(916) 381-6003</td>\n",
       "      <td>charolette.rice@msn.com</td>\n",
       "      <td>107 River Dr.</td>\n",
       "      <td>Sacramento</td>\n",
       "      <td>CA</td>\n",
       "      <td>95820</td>\n",
       "      <td>2024-05-01 11:42:23.564626217</td>\n",
       "      <td>datalack</td>\n",
       "    </tr>\n",
       "  </tbody>\n",
       "</table>\n",
       "</div>"
      ],
      "text/plain": [
       "   customer_id  first_name last_name           phone                    email  \\\n",
       "0            1       Debra     Burks             NaN    debra.burks@yahoo.com   \n",
       "1            2       Kasha      Todd             NaN     kasha.todd@yahoo.com   \n",
       "2            3      Tameka    Fisher             NaN    tameka.fisher@aol.com   \n",
       "3            4       Daryl    Spence             NaN     daryl.spence@aol.com   \n",
       "4            5  Charolette      Rice  (916) 381-6003  charolette.rice@msn.com   \n",
       "\n",
       "                  street           city state  zip_code  \\\n",
       "0      9273 Thorne Ave.    Orchard Park    NY     14127   \n",
       "1       910 Vine Street        Campbell    CA     95008   \n",
       "2  769C Honey Creek St.   Redondo Beach    CA     90278   \n",
       "3        988 Pearl Lane       Uniondale    NY     11553   \n",
       "4         107 River Dr.      Sacramento    CA     95820   \n",
       "\n",
       "                Extraction_Date    source  \n",
       "0 2024-05-01 11:42:23.564626217  datalack  \n",
       "1 2024-05-01 11:42:23.564626217  datalack  \n",
       "2 2024-05-01 11:42:23.564626217  datalack  \n",
       "3 2024-05-01 11:42:23.564626217  datalack  \n",
       "4 2024-05-01 11:42:23.564626217  datalack  "
      ]
     },
     "execution_count": 4,
     "metadata": {},
     "output_type": "execute_result"
    }
   ],
   "source": [
    "df['Extraction_Date'] = pd.to_datetime(df['Extraction_Date'], unit='s')\n",
    "df.head()"
   ]
  },
  {
   "cell_type": "markdown",
   "id": "d2f76d84-364d-4dc4-8c74-ede3c9a9c8b3",
   "metadata": {},
   "source": [
    "# Check for nulls"
   ]
  },
  {
   "cell_type": "code",
   "execution_count": 5,
   "id": "c5a66666-d80a-4367-b861-f54840c5f665",
   "metadata": {},
   "outputs": [
    {
     "data": {
      "text/plain": [
       "customer_id           0\n",
       "first_name            0\n",
       "last_name             0\n",
       "phone              1267\n",
       "email                 0\n",
       "street                0\n",
       "city                  0\n",
       "state                 0\n",
       "zip_code              0\n",
       "Extraction_Date       0\n",
       "source                0\n",
       "dtype: int64"
      ]
     },
     "execution_count": 5,
     "metadata": {},
     "output_type": "execute_result"
    }
   ],
   "source": [
    "df.isna().sum()"
   ]
  },
  {
   "cell_type": "code",
   "execution_count": 6,
   "id": "3e38fe9c-b73a-4067-bafd-9bb262f88b8a",
   "metadata": {},
   "outputs": [
    {
     "data": {
      "text/plain": [
       "(1445, 11)"
      ]
     },
     "execution_count": 6,
     "metadata": {},
     "output_type": "execute_result"
    }
   ],
   "source": [
    "df.shape"
   ]
  },
  {
   "cell_type": "code",
   "execution_count": 7,
   "id": "8cf6aebd-cc72-4abe-bcac-60da2fdc8b67",
   "metadata": {},
   "outputs": [
    {
     "name": "stderr",
     "output_type": "stream",
     "text": [
      "C:\\Users\\Abdelrahman\\AppData\\Local\\Temp\\ipykernel_9264\\2957958349.py:1: FutureWarning: A value is trying to be set on a copy of a DataFrame or Series through chained assignment using an inplace method.\n",
      "The behavior will change in pandas 3.0. This inplace method will never work because the intermediate object on which we are setting values always behaves as a copy.\n",
      "\n",
      "For example, when doing 'df[col].method(value, inplace=True)', try using 'df.method({col: value}, inplace=True)' or df[col] = df[col].method(value) instead, to perform the operation inplace on the original object.\n",
      "\n",
      "\n",
      "  df['phone'].fillna('UNKNOWN', inplace=True)\n"
     ]
    }
   ],
   "source": [
    "df['phone'].fillna('UNKNOWN', inplace=True)"
   ]
  },
  {
   "cell_type": "code",
   "execution_count": 8,
   "id": "6e3aa499-b4ed-4e45-aaa1-230085c00b74",
   "metadata": {},
   "outputs": [
    {
     "data": {
      "text/plain": [
       "customer_id        0\n",
       "first_name         0\n",
       "last_name          0\n",
       "phone              0\n",
       "email              0\n",
       "street             0\n",
       "city               0\n",
       "state              0\n",
       "zip_code           0\n",
       "Extraction_Date    0\n",
       "source             0\n",
       "dtype: int64"
      ]
     },
     "execution_count": 8,
     "metadata": {},
     "output_type": "execute_result"
    }
   ],
   "source": [
    "df.isna().sum()"
   ]
  },
  {
   "cell_type": "markdown",
   "id": "deebd7db-e528-4a94-98a8-aa81d5148644",
   "metadata": {},
   "source": [
    "# Check for duplicates"
   ]
  },
  {
   "cell_type": "code",
   "execution_count": 9,
   "id": "8283a3cc-26f6-4e29-9d31-bf4e2d00b7cc",
   "metadata": {},
   "outputs": [
    {
     "data": {
      "text/plain": [
       "0       False\n",
       "1       False\n",
       "2       False\n",
       "3       False\n",
       "4       False\n",
       "        ...  \n",
       "1440    False\n",
       "1441    False\n",
       "1442    False\n",
       "1443    False\n",
       "1444    False\n",
       "Length: 1445, dtype: bool"
      ]
     },
     "execution_count": 9,
     "metadata": {},
     "output_type": "execute_result"
    }
   ],
   "source": [
    "duplicates = df.duplicated(subset=['customer_id'])\n",
    "duplicates"
   ]
  },
  {
   "cell_type": "code",
   "execution_count": 10,
   "id": "1f37ff98-a78d-4fc3-befb-39b8e2b1e675",
   "metadata": {},
   "outputs": [
    {
     "data": {
      "text/plain": [
       "0"
      ]
     },
     "execution_count": 10,
     "metadata": {},
     "output_type": "execute_result"
    }
   ],
   "source": [
    "df.duplicated().sum()"
   ]
  },
  {
   "cell_type": "code",
   "execution_count": 11,
   "id": "750f606c-5532-43e0-8909-445bf1ef5a40",
   "metadata": {},
   "outputs": [],
   "source": [
    "df.to_csv('D:\\\\ITI\\\\Python\\\\ITI_Python_for_Data_Management\\\\Extraction\\\\Staging\\\\Transfomed_Customers.csv', header=True)"
   ]
  },
  {
   "cell_type": "code",
   "execution_count": null,
   "id": "d18f2d55-8be1-40e0-821e-2b44dd362a28",
   "metadata": {},
   "outputs": [],
   "source": []
  }
 ],
 "metadata": {
  "kernelspec": {
   "display_name": "Python 3 (ipykernel)",
   "language": "python",
   "name": "python3"
  },
  "language_info": {
   "codemirror_mode": {
    "name": "ipython",
    "version": 3
   },
   "file_extension": ".py",
   "mimetype": "text/x-python",
   "name": "python",
   "nbconvert_exporter": "python",
   "pygments_lexer": "ipython3",
   "version": "3.12.1"
  }
 },
 "nbformat": 4,
 "nbformat_minor": 5
}
