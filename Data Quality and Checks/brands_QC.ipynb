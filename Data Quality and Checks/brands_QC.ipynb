{
 "cells": [
  {
   "cell_type": "code",
   "execution_count": 1,
   "id": "db154cbe-ad93-4db8-a202-db7dfcce6ae6",
   "metadata": {},
   "outputs": [],
   "source": [
    "import pandas as pd"
   ]
  },
  {
   "cell_type": "code",
   "execution_count": 2,
   "id": "eb6d418b-3111-4495-8e28-e7f7cd511cbf",
   "metadata": {},
   "outputs": [
    {
     "data": {
      "text/html": [
       "<div>\n",
       "<style scoped>\n",
       "    .dataframe tbody tr th:only-of-type {\n",
       "        vertical-align: middle;\n",
       "    }\n",
       "\n",
       "    .dataframe tbody tr th {\n",
       "        vertical-align: top;\n",
       "    }\n",
       "\n",
       "    .dataframe thead th {\n",
       "        text-align: right;\n",
       "    }\n",
       "</style>\n",
       "<table border=\"1\" class=\"dataframe\">\n",
       "  <thead>\n",
       "    <tr style=\"text-align: right;\">\n",
       "      <th></th>\n",
       "      <th>brand_id</th>\n",
       "      <th>brand_name</th>\n",
       "      <th>Extraction_Date</th>\n",
       "      <th>source</th>\n",
       "    </tr>\n",
       "  </thead>\n",
       "  <tbody>\n",
       "    <tr>\n",
       "      <th>0</th>\n",
       "      <td>1</td>\n",
       "      <td>Electra</td>\n",
       "      <td>1.714564e+09</td>\n",
       "      <td>datalack</td>\n",
       "    </tr>\n",
       "    <tr>\n",
       "      <th>1</th>\n",
       "      <td>2</td>\n",
       "      <td>Haro</td>\n",
       "      <td>1.714564e+09</td>\n",
       "      <td>datalack</td>\n",
       "    </tr>\n",
       "    <tr>\n",
       "      <th>2</th>\n",
       "      <td>3</td>\n",
       "      <td>Heller</td>\n",
       "      <td>1.714564e+09</td>\n",
       "      <td>datalack</td>\n",
       "    </tr>\n",
       "    <tr>\n",
       "      <th>3</th>\n",
       "      <td>4</td>\n",
       "      <td>Pure Cycles</td>\n",
       "      <td>1.714564e+09</td>\n",
       "      <td>datalack</td>\n",
       "    </tr>\n",
       "    <tr>\n",
       "      <th>4</th>\n",
       "      <td>5</td>\n",
       "      <td>Ritchey</td>\n",
       "      <td>1.714564e+09</td>\n",
       "      <td>datalack</td>\n",
       "    </tr>\n",
       "    <tr>\n",
       "      <th>5</th>\n",
       "      <td>6</td>\n",
       "      <td>Strider</td>\n",
       "      <td>1.714564e+09</td>\n",
       "      <td>datalack</td>\n",
       "    </tr>\n",
       "    <tr>\n",
       "      <th>6</th>\n",
       "      <td>7</td>\n",
       "      <td>Sun Bicycles</td>\n",
       "      <td>1.714564e+09</td>\n",
       "      <td>datalack</td>\n",
       "    </tr>\n",
       "    <tr>\n",
       "      <th>7</th>\n",
       "      <td>8</td>\n",
       "      <td>Surly</td>\n",
       "      <td>1.714564e+09</td>\n",
       "      <td>datalack</td>\n",
       "    </tr>\n",
       "    <tr>\n",
       "      <th>8</th>\n",
       "      <td>9</td>\n",
       "      <td>Trek</td>\n",
       "      <td>1.714564e+09</td>\n",
       "      <td>datalack</td>\n",
       "    </tr>\n",
       "  </tbody>\n",
       "</table>\n",
       "</div>"
      ],
      "text/plain": [
       "   brand_id    brand_name  Extraction_Date    source\n",
       "0         1       Electra     1.714564e+09  datalack\n",
       "1         2          Haro     1.714564e+09  datalack\n",
       "2         3        Heller     1.714564e+09  datalack\n",
       "3         4   Pure Cycles     1.714564e+09  datalack\n",
       "4         5       Ritchey     1.714564e+09  datalack\n",
       "5         6       Strider     1.714564e+09  datalack\n",
       "6         7  Sun Bicycles     1.714564e+09  datalack\n",
       "7         8         Surly     1.714564e+09  datalack\n",
       "8         9          Trek     1.714564e+09  datalack"
      ]
     },
     "execution_count": 2,
     "metadata": {},
     "output_type": "execute_result"
    }
   ],
   "source": [
    "df = pd.read_csv(\"D:\\\\ITI\\\\Python\\\\ITI_Python_for_Data_Management\\\\Extraction\\\\landing\\\\brands.csv\")\n",
    "df.head(10)"
   ]
  },
  {
   "cell_type": "markdown",
   "id": "b2fbe02c-e09e-492c-a7d4-99545d1d78f6",
   "metadata": {},
   "source": [
    "# Check for datatypes"
   ]
  },
  {
   "cell_type": "code",
   "execution_count": 3,
   "id": "44623894-2816-4b54-9f11-4137e6fe8c40",
   "metadata": {},
   "outputs": [
    {
     "name": "stdout",
     "output_type": "stream",
     "text": [
      "<class 'pandas.core.frame.DataFrame'>\n",
      "RangeIndex: 9 entries, 0 to 8\n",
      "Data columns (total 4 columns):\n",
      " #   Column           Non-Null Count  Dtype  \n",
      "---  ------           --------------  -----  \n",
      " 0   brand_id         9 non-null      int64  \n",
      " 1   brand_name       9 non-null      object \n",
      " 2   Extraction_Date  9 non-null      float64\n",
      " 3   source           9 non-null      object \n",
      "dtypes: float64(1), int64(1), object(2)\n",
      "memory usage: 420.0+ bytes\n"
     ]
    }
   ],
   "source": [
    "df.info()"
   ]
  },
  {
   "cell_type": "markdown",
   "id": "69618fbb-3130-42a6-bd3e-e0ffcad5df52",
   "metadata": {},
   "source": [
    "**`current_timestamp` should be as a timestamp data type**"
   ]
  },
  {
   "cell_type": "code",
   "execution_count": 7,
   "id": "5a89bea5-0d90-4697-8b55-34b66bb63900",
   "metadata": {},
   "outputs": [
    {
     "data": {
      "text/html": [
       "<div>\n",
       "<style scoped>\n",
       "    .dataframe tbody tr th:only-of-type {\n",
       "        vertical-align: middle;\n",
       "    }\n",
       "\n",
       "    .dataframe tbody tr th {\n",
       "        vertical-align: top;\n",
       "    }\n",
       "\n",
       "    .dataframe thead th {\n",
       "        text-align: right;\n",
       "    }\n",
       "</style>\n",
       "<table border=\"1\" class=\"dataframe\">\n",
       "  <thead>\n",
       "    <tr style=\"text-align: right;\">\n",
       "      <th></th>\n",
       "      <th>brand_id</th>\n",
       "      <th>brand_name</th>\n",
       "      <th>Extraction_Date</th>\n",
       "      <th>source</th>\n",
       "    </tr>\n",
       "  </thead>\n",
       "  <tbody>\n",
       "    <tr>\n",
       "      <th>0</th>\n",
       "      <td>1</td>\n",
       "      <td>Electra</td>\n",
       "      <td>2024-05-01 11:42:23.564626217</td>\n",
       "      <td>datalack</td>\n",
       "    </tr>\n",
       "    <tr>\n",
       "      <th>1</th>\n",
       "      <td>2</td>\n",
       "      <td>Haro</td>\n",
       "      <td>2024-05-01 11:42:23.564626217</td>\n",
       "      <td>datalack</td>\n",
       "    </tr>\n",
       "    <tr>\n",
       "      <th>2</th>\n",
       "      <td>3</td>\n",
       "      <td>Heller</td>\n",
       "      <td>2024-05-01 11:42:23.564626217</td>\n",
       "      <td>datalack</td>\n",
       "    </tr>\n",
       "    <tr>\n",
       "      <th>3</th>\n",
       "      <td>4</td>\n",
       "      <td>Pure Cycles</td>\n",
       "      <td>2024-05-01 11:42:23.564626217</td>\n",
       "      <td>datalack</td>\n",
       "    </tr>\n",
       "    <tr>\n",
       "      <th>4</th>\n",
       "      <td>5</td>\n",
       "      <td>Ritchey</td>\n",
       "      <td>2024-05-01 11:42:23.564626217</td>\n",
       "      <td>datalack</td>\n",
       "    </tr>\n",
       "  </tbody>\n",
       "</table>\n",
       "</div>"
      ],
      "text/plain": [
       "   brand_id   brand_name               Extraction_Date    source\n",
       "0         1      Electra 2024-05-01 11:42:23.564626217  datalack\n",
       "1         2         Haro 2024-05-01 11:42:23.564626217  datalack\n",
       "2         3       Heller 2024-05-01 11:42:23.564626217  datalack\n",
       "3         4  Pure Cycles 2024-05-01 11:42:23.564626217  datalack\n",
       "4         5      Ritchey 2024-05-01 11:42:23.564626217  datalack"
      ]
     },
     "execution_count": 7,
     "metadata": {},
     "output_type": "execute_result"
    }
   ],
   "source": [
    "df['Extraction_Date'] = pd.to_datetime(df['Extraction_Date'], unit='s')\n",
    "df.head()"
   ]
  },
  {
   "cell_type": "markdown",
   "id": "b801bbb4-c19b-4283-ade8-41ab337f5036",
   "metadata": {},
   "source": [
    "# Check for Nulls"
   ]
  },
  {
   "cell_type": "code",
   "execution_count": 8,
   "id": "57400465-63f0-43c0-b232-8671b40d1344",
   "metadata": {},
   "outputs": [
    {
     "data": {
      "text/plain": [
       "brand_id           0\n",
       "brand_name         0\n",
       "Extraction_Date    0\n",
       "source             0\n",
       "dtype: int64"
      ]
     },
     "execution_count": 8,
     "metadata": {},
     "output_type": "execute_result"
    }
   ],
   "source": [
    "df.isna().sum()"
   ]
  },
  {
   "cell_type": "markdown",
   "id": "1fb237b8-0a64-4744-93c0-34fbfd8b308e",
   "metadata": {},
   "source": [
    "# Check for the duplicates"
   ]
  },
  {
   "cell_type": "code",
   "execution_count": 9,
   "id": "ad40d8dd-0e5d-47ef-9b35-b5eab5c838a2",
   "metadata": {},
   "outputs": [
    {
     "data": {
      "text/plain": [
       "0    False\n",
       "1    False\n",
       "2    False\n",
       "3    False\n",
       "4    False\n",
       "5    False\n",
       "6    False\n",
       "7    False\n",
       "8    False\n",
       "dtype: bool"
      ]
     },
     "execution_count": 9,
     "metadata": {},
     "output_type": "execute_result"
    }
   ],
   "source": [
    "duplicates = df.duplicated(subset=['brand_id'])\n",
    "duplicates"
   ]
  },
  {
   "cell_type": "code",
   "execution_count": 10,
   "id": "09d8ad05-d068-4faa-a078-98e5118da37d",
   "metadata": {},
   "outputs": [],
   "source": [
    "df.to_csv('D:\\\\ITI\\\\Python\\\\ITI_Python_for_Data_Management\\\\Extraction\\\\Staging\\\\Transfomed_Brands.csv', header=True)"
   ]
  },
  {
   "cell_type": "code",
   "execution_count": null,
   "id": "296f2106-8dba-476a-bd92-3867b4b72dcf",
   "metadata": {},
   "outputs": [],
   "source": []
  }
 ],
 "metadata": {
  "kernelspec": {
   "display_name": "Python 3 (ipykernel)",
   "language": "python",
   "name": "python3"
  },
  "language_info": {
   "codemirror_mode": {
    "name": "ipython",
    "version": 3
   },
   "file_extension": ".py",
   "mimetype": "text/x-python",
   "name": "python",
   "nbconvert_exporter": "python",
   "pygments_lexer": "ipython3",
   "version": "3.12.1"
  }
 },
 "nbformat": 4,
 "nbformat_minor": 5
}
