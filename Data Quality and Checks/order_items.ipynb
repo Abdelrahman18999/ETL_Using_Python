{
 "cells": [
  {
   "cell_type": "code",
   "execution_count": 14,
   "id": "2280e30b-3edb-4f40-9ebc-9ee139c4b164",
   "metadata": {},
   "outputs": [],
   "source": [
    "import pandas as pd"
   ]
  },
  {
   "cell_type": "code",
   "execution_count": 15,
   "id": "b5a292ad-78d0-4561-ac5e-81c60cbb11f4",
   "metadata": {},
   "outputs": [
    {
     "data": {
      "text/html": [
       "<div>\n",
       "<style scoped>\n",
       "    .dataframe tbody tr th:only-of-type {\n",
       "        vertical-align: middle;\n",
       "    }\n",
       "\n",
       "    .dataframe tbody tr th {\n",
       "        vertical-align: top;\n",
       "    }\n",
       "\n",
       "    .dataframe thead th {\n",
       "        text-align: right;\n",
       "    }\n",
       "</style>\n",
       "<table border=\"1\" class=\"dataframe\">\n",
       "  <thead>\n",
       "    <tr style=\"text-align: right;\">\n",
       "      <th></th>\n",
       "      <th>order_id</th>\n",
       "      <th>item_id</th>\n",
       "      <th>product_id</th>\n",
       "      <th>quantity</th>\n",
       "      <th>list_price</th>\n",
       "      <th>discount</th>\n",
       "      <th>Extraction_Date</th>\n",
       "      <th>source</th>\n",
       "    </tr>\n",
       "  </thead>\n",
       "  <tbody>\n",
       "    <tr>\n",
       "      <th>0</th>\n",
       "      <td>1</td>\n",
       "      <td>1</td>\n",
       "      <td>20</td>\n",
       "      <td>1</td>\n",
       "      <td>599.99</td>\n",
       "      <td>0.20</td>\n",
       "      <td>1.714563e+09</td>\n",
       "      <td>SQL-Server</td>\n",
       "    </tr>\n",
       "    <tr>\n",
       "      <th>1</th>\n",
       "      <td>1</td>\n",
       "      <td>2</td>\n",
       "      <td>8</td>\n",
       "      <td>2</td>\n",
       "      <td>1799.99</td>\n",
       "      <td>0.07</td>\n",
       "      <td>1.714563e+09</td>\n",
       "      <td>SQL-Server</td>\n",
       "    </tr>\n",
       "    <tr>\n",
       "      <th>2</th>\n",
       "      <td>1</td>\n",
       "      <td>3</td>\n",
       "      <td>10</td>\n",
       "      <td>2</td>\n",
       "      <td>1549.00</td>\n",
       "      <td>0.05</td>\n",
       "      <td>1.714563e+09</td>\n",
       "      <td>SQL-Server</td>\n",
       "    </tr>\n",
       "    <tr>\n",
       "      <th>3</th>\n",
       "      <td>1</td>\n",
       "      <td>4</td>\n",
       "      <td>16</td>\n",
       "      <td>2</td>\n",
       "      <td>599.99</td>\n",
       "      <td>0.05</td>\n",
       "      <td>1.714563e+09</td>\n",
       "      <td>SQL-Server</td>\n",
       "    </tr>\n",
       "    <tr>\n",
       "      <th>4</th>\n",
       "      <td>1</td>\n",
       "      <td>5</td>\n",
       "      <td>4</td>\n",
       "      <td>1</td>\n",
       "      <td>2899.99</td>\n",
       "      <td>0.20</td>\n",
       "      <td>1.714563e+09</td>\n",
       "      <td>SQL-Server</td>\n",
       "    </tr>\n",
       "    <tr>\n",
       "      <th>5</th>\n",
       "      <td>2</td>\n",
       "      <td>1</td>\n",
       "      <td>20</td>\n",
       "      <td>1</td>\n",
       "      <td>599.99</td>\n",
       "      <td>0.07</td>\n",
       "      <td>1.714563e+09</td>\n",
       "      <td>SQL-Server</td>\n",
       "    </tr>\n",
       "    <tr>\n",
       "      <th>6</th>\n",
       "      <td>2</td>\n",
       "      <td>2</td>\n",
       "      <td>16</td>\n",
       "      <td>2</td>\n",
       "      <td>599.99</td>\n",
       "      <td>0.05</td>\n",
       "      <td>1.714563e+09</td>\n",
       "      <td>SQL-Server</td>\n",
       "    </tr>\n",
       "    <tr>\n",
       "      <th>7</th>\n",
       "      <td>3</td>\n",
       "      <td>1</td>\n",
       "      <td>3</td>\n",
       "      <td>1</td>\n",
       "      <td>999.99</td>\n",
       "      <td>0.05</td>\n",
       "      <td>1.714563e+09</td>\n",
       "      <td>SQL-Server</td>\n",
       "    </tr>\n",
       "    <tr>\n",
       "      <th>8</th>\n",
       "      <td>3</td>\n",
       "      <td>2</td>\n",
       "      <td>20</td>\n",
       "      <td>1</td>\n",
       "      <td>599.99</td>\n",
       "      <td>0.05</td>\n",
       "      <td>1.714563e+09</td>\n",
       "      <td>SQL-Server</td>\n",
       "    </tr>\n",
       "    <tr>\n",
       "      <th>9</th>\n",
       "      <td>4</td>\n",
       "      <td>1</td>\n",
       "      <td>2</td>\n",
       "      <td>2</td>\n",
       "      <td>749.99</td>\n",
       "      <td>0.10</td>\n",
       "      <td>1.714563e+09</td>\n",
       "      <td>SQL-Server</td>\n",
       "    </tr>\n",
       "  </tbody>\n",
       "</table>\n",
       "</div>"
      ],
      "text/plain": [
       "   order_id item_id  product_id  quantity  list_price  discount  \\\n",
       "0         1       1          20         1      599.99      0.20   \n",
       "1         1       2           8         2     1799.99      0.07   \n",
       "2         1       3          10         2     1549.00      0.05   \n",
       "3         1       4          16         2      599.99      0.05   \n",
       "4         1       5           4         1     2899.99      0.20   \n",
       "5         2       1          20         1      599.99      0.07   \n",
       "6         2       2          16         2      599.99      0.05   \n",
       "7         3       1           3         1      999.99      0.05   \n",
       "8         3       2          20         1      599.99      0.05   \n",
       "9         4       1           2         2      749.99      0.10   \n",
       "\n",
       "   Extraction_Date      source  \n",
       "0     1.714563e+09  SQL-Server  \n",
       "1     1.714563e+09  SQL-Server  \n",
       "2     1.714563e+09  SQL-Server  \n",
       "3     1.714563e+09  SQL-Server  \n",
       "4     1.714563e+09  SQL-Server  \n",
       "5     1.714563e+09  SQL-Server  \n",
       "6     1.714563e+09  SQL-Server  \n",
       "7     1.714563e+09  SQL-Server  \n",
       "8     1.714563e+09  SQL-Server  \n",
       "9     1.714563e+09  SQL-Server  "
      ]
     },
     "execution_count": 15,
     "metadata": {},
     "output_type": "execute_result"
    }
   ],
   "source": [
    "df = pd.read_csv(\"D:\\\\ITI\\\\Python\\\\ITI_Python_for_Data_Management\\\\Extraction\\\\landing\\\\order_items.csv\")\n",
    "df.head(10)"
   ]
  },
  {
   "cell_type": "code",
   "execution_count": 16,
   "id": "86c9cb34-1089-4e0d-ac15-77678cfdb470",
   "metadata": {},
   "outputs": [
    {
     "name": "stdout",
     "output_type": "stream",
     "text": [
      "<class 'pandas.core.frame.DataFrame'>\n",
      "RangeIndex: 4764 entries, 0 to 4763\n",
      "Data columns (total 8 columns):\n",
      " #   Column           Non-Null Count  Dtype  \n",
      "---  ------           --------------  -----  \n",
      " 0   order_id         4764 non-null   int64  \n",
      " 1   item_id          4764 non-null   object \n",
      " 2   product_id       4764 non-null   int64  \n",
      " 3   quantity         4764 non-null   int64  \n",
      " 4   list_price       4764 non-null   float64\n",
      " 5   discount         4764 non-null   float64\n",
      " 6   Extraction_Date  4764 non-null   float64\n",
      " 7   source           4764 non-null   object \n",
      "dtypes: float64(3), int64(3), object(2)\n",
      "memory usage: 297.9+ KB\n"
     ]
    }
   ],
   "source": [
    "df.info()"
   ]
  },
  {
   "cell_type": "markdown",
   "id": "737dade2-4451-4a92-9e09-7e1fbdb1e9e8",
   "metadata": {},
   "source": [
    "# Data Cleansing"
   ]
  },
  {
   "cell_type": "code",
   "execution_count": 17,
   "id": "987872d7-622f-4ff2-8ca7-820680c451c4",
   "metadata": {},
   "outputs": [],
   "source": [
    "# Replace non-numeric values with NaN\n",
    "df['item_id'] = pd.to_numeric(df['item_id'], errors='coerce')\n",
    "\n",
    "# Convert to integers, NaN values will become missing integers\n",
    "df['item_id'] = df['item_id'].astype('Int64')"
   ]
  },
  {
   "cell_type": "code",
   "execution_count": 18,
   "id": "03071701-2dfd-47c5-b662-4a0834252032",
   "metadata": {},
   "outputs": [
    {
     "name": "stdout",
     "output_type": "stream",
     "text": [
      "<class 'pandas.core.frame.DataFrame'>\n",
      "RangeIndex: 4764 entries, 0 to 4763\n",
      "Data columns (total 8 columns):\n",
      " #   Column           Non-Null Count  Dtype  \n",
      "---  ------           --------------  -----  \n",
      " 0   order_id         4764 non-null   int64  \n",
      " 1   item_id          4760 non-null   Int64  \n",
      " 2   product_id       4764 non-null   int64  \n",
      " 3   quantity         4764 non-null   int64  \n",
      " 4   list_price       4764 non-null   float64\n",
      " 5   discount         4764 non-null   float64\n",
      " 6   Extraction_Date  4764 non-null   float64\n",
      " 7   source           4764 non-null   object \n",
      "dtypes: Int64(1), float64(3), int64(3), object(1)\n",
      "memory usage: 302.5+ KB\n"
     ]
    }
   ],
   "source": [
    "df.info()"
   ]
  },
  {
   "cell_type": "code",
   "execution_count": 19,
   "id": "11c945f6-eaba-4047-b86c-3a020fc33181",
   "metadata": {},
   "outputs": [
    {
     "data": {
      "text/plain": [
       "(4764, 8)"
      ]
     },
     "execution_count": 19,
     "metadata": {},
     "output_type": "execute_result"
    }
   ],
   "source": [
    "df.shape"
   ]
  },
  {
   "cell_type": "code",
   "execution_count": 20,
   "id": "f643b203-a756-4b11-a1af-b2d47679b278",
   "metadata": {},
   "outputs": [
    {
     "data": {
      "text/plain": [
       "(3184, 8)"
      ]
     },
     "execution_count": 20,
     "metadata": {},
     "output_type": "execute_result"
    }
   ],
   "source": [
    "# Get the that that fall in the valid range \n",
    "filtered_df = df[(df['list_price'] >= 200) & (df['list_price'] <= 1000)]\n",
    "filtered_df.shape"
   ]
  },
  {
   "cell_type": "code",
   "execution_count": 21,
   "id": "6deb7adc-3920-4ff9-80a7-b376ca305257",
   "metadata": {},
   "outputs": [
    {
     "data": {
      "text/plain": [
       "pandas.core.frame.DataFrame"
      ]
     },
     "execution_count": 21,
     "metadata": {},
     "output_type": "execute_result"
    }
   ],
   "source": [
    "type(filtered_df)"
   ]
  },
  {
   "cell_type": "code",
   "execution_count": 22,
   "id": "9aea6249-49ba-4535-884b-59397b2df6ef",
   "metadata": {},
   "outputs": [
    {
     "data": {
      "text/plain": [
       "order_id           0\n",
       "item_id            3\n",
       "product_id         0\n",
       "quantity           0\n",
       "list_price         0\n",
       "discount           0\n",
       "Extraction_Date    0\n",
       "source             0\n",
       "dtype: int64"
      ]
     },
     "execution_count": 22,
     "metadata": {},
     "output_type": "execute_result"
    }
   ],
   "source": [
    "# check for Missing data\n",
    "filtered_df.isna().sum()"
   ]
  },
  {
   "cell_type": "code",
   "execution_count": 23,
   "id": "0af97e46-8477-4386-9074-938fb732124d",
   "metadata": {},
   "outputs": [
    {
     "name": "stderr",
     "output_type": "stream",
     "text": [
      "C:\\Users\\Abdelrahman\\AppData\\Local\\Temp\\ipykernel_8856\\724713040.py:1: SettingWithCopyWarning: \n",
      "A value is trying to be set on a copy of a slice from a DataFrame\n",
      "\n",
      "See the caveats in the documentation: https://pandas.pydata.org/pandas-docs/stable/user_guide/indexing.html#returning-a-view-versus-a-copy\n",
      "  filtered_df.dropna(inplace=True)\n"
     ]
    }
   ],
   "source": [
    "filtered_df.dropna(inplace=True)"
   ]
  },
  {
   "cell_type": "code",
   "execution_count": 24,
   "id": "83d8ef6a-ea65-49eb-804a-e9f9d5ec2eed",
   "metadata": {},
   "outputs": [
    {
     "data": {
      "text/plain": [
       "(3181, 8)"
      ]
     },
     "execution_count": 24,
     "metadata": {},
     "output_type": "execute_result"
    }
   ],
   "source": [
    "filtered_df.shape"
   ]
  },
  {
   "cell_type": "code",
   "execution_count": 25,
   "id": "d2153882-5225-4d27-a1e7-bdc63411a876",
   "metadata": {},
   "outputs": [
    {
     "data": {
      "text/plain": [
       "order_id           0\n",
       "item_id            0\n",
       "product_id         0\n",
       "quantity           0\n",
       "list_price         0\n",
       "discount           0\n",
       "Extraction_Date    0\n",
       "source             0\n",
       "dtype: int64"
      ]
     },
     "execution_count": 25,
     "metadata": {},
     "output_type": "execute_result"
    }
   ],
   "source": [
    "filtered_df.isna().sum()"
   ]
  },
  {
   "cell_type": "code",
   "execution_count": 26,
   "id": "4ae31fed-14d7-4152-b61c-e0be7c5062f3",
   "metadata": {},
   "outputs": [
    {
     "name": "stderr",
     "output_type": "stream",
     "text": [
      "C:\\Users\\Abdelrahman\\AppData\\Local\\Temp\\ipykernel_8856\\2410306567.py:1: SettingWithCopyWarning: \n",
      "A value is trying to be set on a copy of a slice from a DataFrame.\n",
      "Try using .loc[row_indexer,col_indexer] = value instead\n",
      "\n",
      "See the caveats in the documentation: https://pandas.pydata.org/pandas-docs/stable/user_guide/indexing.html#returning-a-view-versus-a-copy\n",
      "  filtered_df['Extraction_Date'] = pd.to_datetime(filtered_df['Extraction_Date'], unit='s')\n"
     ]
    },
    {
     "data": {
      "text/html": [
       "<div>\n",
       "<style scoped>\n",
       "    .dataframe tbody tr th:only-of-type {\n",
       "        vertical-align: middle;\n",
       "    }\n",
       "\n",
       "    .dataframe tbody tr th {\n",
       "        vertical-align: top;\n",
       "    }\n",
       "\n",
       "    .dataframe thead th {\n",
       "        text-align: right;\n",
       "    }\n",
       "</style>\n",
       "<table border=\"1\" class=\"dataframe\">\n",
       "  <thead>\n",
       "    <tr style=\"text-align: right;\">\n",
       "      <th></th>\n",
       "      <th>order_id</th>\n",
       "      <th>item_id</th>\n",
       "      <th>product_id</th>\n",
       "      <th>quantity</th>\n",
       "      <th>list_price</th>\n",
       "      <th>discount</th>\n",
       "      <th>Extraction_Date</th>\n",
       "      <th>source</th>\n",
       "    </tr>\n",
       "  </thead>\n",
       "  <tbody>\n",
       "    <tr>\n",
       "      <th>0</th>\n",
       "      <td>1</td>\n",
       "      <td>1</td>\n",
       "      <td>20</td>\n",
       "      <td>1</td>\n",
       "      <td>599.99</td>\n",
       "      <td>0.20</td>\n",
       "      <td>2024-05-01 11:37:45.450598001</td>\n",
       "      <td>SQL-Server</td>\n",
       "    </tr>\n",
       "    <tr>\n",
       "      <th>3</th>\n",
       "      <td>1</td>\n",
       "      <td>4</td>\n",
       "      <td>16</td>\n",
       "      <td>2</td>\n",
       "      <td>599.99</td>\n",
       "      <td>0.05</td>\n",
       "      <td>2024-05-01 11:37:45.450598001</td>\n",
       "      <td>SQL-Server</td>\n",
       "    </tr>\n",
       "    <tr>\n",
       "      <th>5</th>\n",
       "      <td>2</td>\n",
       "      <td>1</td>\n",
       "      <td>20</td>\n",
       "      <td>1</td>\n",
       "      <td>599.99</td>\n",
       "      <td>0.07</td>\n",
       "      <td>2024-05-01 11:37:45.450598001</td>\n",
       "      <td>SQL-Server</td>\n",
       "    </tr>\n",
       "    <tr>\n",
       "      <th>6</th>\n",
       "      <td>2</td>\n",
       "      <td>2</td>\n",
       "      <td>16</td>\n",
       "      <td>2</td>\n",
       "      <td>599.99</td>\n",
       "      <td>0.05</td>\n",
       "      <td>2024-05-01 11:37:45.450598001</td>\n",
       "      <td>SQL-Server</td>\n",
       "    </tr>\n",
       "    <tr>\n",
       "      <th>7</th>\n",
       "      <td>3</td>\n",
       "      <td>1</td>\n",
       "      <td>3</td>\n",
       "      <td>1</td>\n",
       "      <td>999.99</td>\n",
       "      <td>0.05</td>\n",
       "      <td>2024-05-01 11:37:45.450598001</td>\n",
       "      <td>SQL-Server</td>\n",
       "    </tr>\n",
       "  </tbody>\n",
       "</table>\n",
       "</div>"
      ],
      "text/plain": [
       "   order_id  item_id  product_id  quantity  list_price  discount  \\\n",
       "0         1        1          20         1      599.99      0.20   \n",
       "3         1        4          16         2      599.99      0.05   \n",
       "5         2        1          20         1      599.99      0.07   \n",
       "6         2        2          16         2      599.99      0.05   \n",
       "7         3        1           3         1      999.99      0.05   \n",
       "\n",
       "                Extraction_Date      source  \n",
       "0 2024-05-01 11:37:45.450598001  SQL-Server  \n",
       "3 2024-05-01 11:37:45.450598001  SQL-Server  \n",
       "5 2024-05-01 11:37:45.450598001  SQL-Server  \n",
       "6 2024-05-01 11:37:45.450598001  SQL-Server  \n",
       "7 2024-05-01 11:37:45.450598001  SQL-Server  "
      ]
     },
     "execution_count": 26,
     "metadata": {},
     "output_type": "execute_result"
    }
   ],
   "source": [
    "filtered_df['Extraction_Date'] = pd.to_datetime(filtered_df['Extraction_Date'], unit='s')\n",
    "filtered_df.head()"
   ]
  },
  {
   "cell_type": "code",
   "execution_count": 27,
   "id": "4fa7dd3d-c633-4937-8414-438d1ff48ee9",
   "metadata": {},
   "outputs": [],
   "source": [
    "filtered_df.to_csv(\"D:\\\\ITI\\\\Python\\\\ITI_Python_for_Data_Management\\\\Extraction\\\\Staging\\\\order_items\\\\order_items.csv\")"
   ]
  },
  {
   "cell_type": "code",
   "execution_count": null,
   "id": "bdc430ac-2a02-4759-9bd3-370c52ec5ae2",
   "metadata": {},
   "outputs": [],
   "source": []
  }
 ],
 "metadata": {
  "kernelspec": {
   "display_name": "Python 3 (ipykernel)",
   "language": "python",
   "name": "python3"
  },
  "language_info": {
   "codemirror_mode": {
    "name": "ipython",
    "version": 3
   },
   "file_extension": ".py",
   "mimetype": "text/x-python",
   "name": "python",
   "nbconvert_exporter": "python",
   "pygments_lexer": "ipython3",
   "version": "3.12.1"
  }
 },
 "nbformat": 4,
 "nbformat_minor": 5
}
