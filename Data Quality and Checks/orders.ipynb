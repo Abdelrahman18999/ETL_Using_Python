{
 "cells": [
  {
   "cell_type": "code",
   "execution_count": 1,
   "id": "070f2e17-42ac-4736-9d8a-ae6c17e38fda",
   "metadata": {},
   "outputs": [],
   "source": [
    "import pandas as pd"
   ]
  },
  {
   "cell_type": "code",
   "execution_count": 2,
   "id": "c2e1027d-c688-479b-bea2-acdb69fdb83e",
   "metadata": {},
   "outputs": [
    {
     "data": {
      "text/html": [
       "<div>\n",
       "<style scoped>\n",
       "    .dataframe tbody tr th:only-of-type {\n",
       "        vertical-align: middle;\n",
       "    }\n",
       "\n",
       "    .dataframe tbody tr th {\n",
       "        vertical-align: top;\n",
       "    }\n",
       "\n",
       "    .dataframe thead th {\n",
       "        text-align: right;\n",
       "    }\n",
       "</style>\n",
       "<table border=\"1\" class=\"dataframe\">\n",
       "  <thead>\n",
       "    <tr style=\"text-align: right;\">\n",
       "      <th></th>\n",
       "      <th>order_id</th>\n",
       "      <th>customer_id</th>\n",
       "      <th>order_status</th>\n",
       "      <th>order_date</th>\n",
       "      <th>required_date</th>\n",
       "      <th>shipped_date</th>\n",
       "      <th>store_id</th>\n",
       "      <th>staff_id</th>\n",
       "      <th>Extraction_Date</th>\n",
       "      <th>source</th>\n",
       "    </tr>\n",
       "  </thead>\n",
       "  <tbody>\n",
       "    <tr>\n",
       "      <th>0</th>\n",
       "      <td>1</td>\n",
       "      <td>259</td>\n",
       "      <td>4</td>\n",
       "      <td>2016-01-01</td>\n",
       "      <td>2016-01-03</td>\n",
       "      <td>2016-01-03</td>\n",
       "      <td>1</td>\n",
       "      <td>2</td>\n",
       "      <td>1.714563e+09</td>\n",
       "      <td>SQL-Server</td>\n",
       "    </tr>\n",
       "    <tr>\n",
       "      <th>1</th>\n",
       "      <td>2</td>\n",
       "      <td>1212</td>\n",
       "      <td>4</td>\n",
       "      <td>2016-01-01</td>\n",
       "      <td>2016-01-04</td>\n",
       "      <td>2016-01-03</td>\n",
       "      <td>2</td>\n",
       "      <td>6</td>\n",
       "      <td>1.714563e+09</td>\n",
       "      <td>SQL-Server</td>\n",
       "    </tr>\n",
       "    <tr>\n",
       "      <th>2</th>\n",
       "      <td>3</td>\n",
       "      <td>523</td>\n",
       "      <td>4</td>\n",
       "      <td>2016-01-02</td>\n",
       "      <td>2016-01-05</td>\n",
       "      <td>2016-01-03</td>\n",
       "      <td>2</td>\n",
       "      <td>7</td>\n",
       "      <td>1.714563e+09</td>\n",
       "      <td>SQL-Server</td>\n",
       "    </tr>\n",
       "    <tr>\n",
       "      <th>3</th>\n",
       "      <td>4</td>\n",
       "      <td>175</td>\n",
       "      <td>4</td>\n",
       "      <td>2016-01-03</td>\n",
       "      <td>2016-01-04</td>\n",
       "      <td>2016-01-05</td>\n",
       "      <td>1</td>\n",
       "      <td>3</td>\n",
       "      <td>1.714563e+09</td>\n",
       "      <td>SQL-Server</td>\n",
       "    </tr>\n",
       "    <tr>\n",
       "      <th>4</th>\n",
       "      <td>5</td>\n",
       "      <td>1324</td>\n",
       "      <td>4</td>\n",
       "      <td>2016-01-03</td>\n",
       "      <td>2016-01-06</td>\n",
       "      <td>2016-01-06</td>\n",
       "      <td>2</td>\n",
       "      <td>6</td>\n",
       "      <td>1.714563e+09</td>\n",
       "      <td>SQL-Server</td>\n",
       "    </tr>\n",
       "    <tr>\n",
       "      <th>5</th>\n",
       "      <td>6</td>\n",
       "      <td>94</td>\n",
       "      <td>4</td>\n",
       "      <td>2016-01-04</td>\n",
       "      <td>2016-01-07</td>\n",
       "      <td>2016-01-05</td>\n",
       "      <td>2</td>\n",
       "      <td>6</td>\n",
       "      <td>1.714563e+09</td>\n",
       "      <td>SQL-Server</td>\n",
       "    </tr>\n",
       "    <tr>\n",
       "      <th>6</th>\n",
       "      <td>7</td>\n",
       "      <td>324</td>\n",
       "      <td>4</td>\n",
       "      <td>2016-01-04</td>\n",
       "      <td>2016-01-07</td>\n",
       "      <td>2016-01-05</td>\n",
       "      <td>2</td>\n",
       "      <td>6</td>\n",
       "      <td>1.714563e+09</td>\n",
       "      <td>SQL-Server</td>\n",
       "    </tr>\n",
       "    <tr>\n",
       "      <th>7</th>\n",
       "      <td>8</td>\n",
       "      <td>1204</td>\n",
       "      <td>4</td>\n",
       "      <td>2016-01-04</td>\n",
       "      <td>2016-01-05</td>\n",
       "      <td>2016-01-05</td>\n",
       "      <td>2</td>\n",
       "      <td>7</td>\n",
       "      <td>1.714563e+09</td>\n",
       "      <td>SQL-Server</td>\n",
       "    </tr>\n",
       "    <tr>\n",
       "      <th>8</th>\n",
       "      <td>9</td>\n",
       "      <td>60</td>\n",
       "      <td>4</td>\n",
       "      <td>2016-01-05</td>\n",
       "      <td>2016-01-08</td>\n",
       "      <td>2016-01-08</td>\n",
       "      <td>1</td>\n",
       "      <td>2</td>\n",
       "      <td>1.714563e+09</td>\n",
       "      <td>SQL-Server</td>\n",
       "    </tr>\n",
       "    <tr>\n",
       "      <th>9</th>\n",
       "      <td>10</td>\n",
       "      <td>442</td>\n",
       "      <td>4</td>\n",
       "      <td>2016-01-05</td>\n",
       "      <td>2016-01-06</td>\n",
       "      <td>2016-01-06</td>\n",
       "      <td>2</td>\n",
       "      <td>6</td>\n",
       "      <td>1.714563e+09</td>\n",
       "      <td>SQL-Server</td>\n",
       "    </tr>\n",
       "  </tbody>\n",
       "</table>\n",
       "</div>"
      ],
      "text/plain": [
       "   order_id  customer_id  order_status  order_date required_date shipped_date  \\\n",
       "0         1          259             4  2016-01-01    2016-01-03   2016-01-03   \n",
       "1         2         1212             4  2016-01-01    2016-01-04   2016-01-03   \n",
       "2         3          523             4  2016-01-02    2016-01-05   2016-01-03   \n",
       "3         4          175             4  2016-01-03    2016-01-04   2016-01-05   \n",
       "4         5         1324             4  2016-01-03    2016-01-06   2016-01-06   \n",
       "5         6           94             4  2016-01-04    2016-01-07   2016-01-05   \n",
       "6         7          324             4  2016-01-04    2016-01-07   2016-01-05   \n",
       "7         8         1204             4  2016-01-04    2016-01-05   2016-01-05   \n",
       "8         9           60             4  2016-01-05    2016-01-08   2016-01-08   \n",
       "9        10          442             4  2016-01-05    2016-01-06   2016-01-06   \n",
       "\n",
       "   store_id  staff_id  Extraction_Date      source  \n",
       "0         1         2     1.714563e+09  SQL-Server  \n",
       "1         2         6     1.714563e+09  SQL-Server  \n",
       "2         2         7     1.714563e+09  SQL-Server  \n",
       "3         1         3     1.714563e+09  SQL-Server  \n",
       "4         2         6     1.714563e+09  SQL-Server  \n",
       "5         2         6     1.714563e+09  SQL-Server  \n",
       "6         2         6     1.714563e+09  SQL-Server  \n",
       "7         2         7     1.714563e+09  SQL-Server  \n",
       "8         1         2     1.714563e+09  SQL-Server  \n",
       "9         2         6     1.714563e+09  SQL-Server  "
      ]
     },
     "execution_count": 2,
     "metadata": {},
     "output_type": "execute_result"
    }
   ],
   "source": [
    "df = pd.read_csv(\"D:\\\\ITI\\\\Python\\\\ITI_Python_for_Data_Management\\\\Extraction\\\\landing\\\\orders.csv\")\n",
    "df.head(10)"
   ]
  },
  {
   "cell_type": "markdown",
   "id": "5845f6f1-0ead-49d7-836f-83ae80b9b138",
   "metadata": {},
   "source": [
    "# Data Cleaning"
   ]
  },
  {
   "cell_type": "code",
   "execution_count": 3,
   "id": "b0ceb3e6-591c-4202-868c-66baffdd2765",
   "metadata": {},
   "outputs": [
    {
     "name": "stdout",
     "output_type": "stream",
     "text": [
      "<class 'pandas.core.frame.DataFrame'>\n",
      "RangeIndex: 1445 entries, 0 to 1444\n",
      "Data columns (total 10 columns):\n",
      " #   Column           Non-Null Count  Dtype  \n",
      "---  ------           --------------  -----  \n",
      " 0   order_id         1445 non-null   int64  \n",
      " 1   customer_id      1445 non-null   int64  \n",
      " 2   order_status     1445 non-null   int64  \n",
      " 3   order_date       1445 non-null   object \n",
      " 4   required_date    1445 non-null   object \n",
      " 5   shipped_date     1445 non-null   object \n",
      " 6   store_id         1445 non-null   int64  \n",
      " 7   staff_id         1445 non-null   int64  \n",
      " 8   Extraction_Date  1445 non-null   float64\n",
      " 9   source           1445 non-null   object \n",
      "dtypes: float64(1), int64(5), object(4)\n",
      "memory usage: 113.0+ KB\n"
     ]
    }
   ],
   "source": [
    "df.info()"
   ]
  },
  {
   "cell_type": "code",
   "execution_count": 4,
   "id": "e33d56dd-0eb3-4c7b-a022-d04e3be6916b",
   "metadata": {},
   "outputs": [
    {
     "name": "stdout",
     "output_type": "stream",
     "text": [
      "<class 'pandas.core.frame.DataFrame'>\n",
      "RangeIndex: 1445 entries, 0 to 1444\n",
      "Data columns (total 10 columns):\n",
      " #   Column           Non-Null Count  Dtype         \n",
      "---  ------           --------------  -----         \n",
      " 0   order_id         1445 non-null   int64         \n",
      " 1   customer_id      1445 non-null   int64         \n",
      " 2   order_status     1445 non-null   int64         \n",
      " 3   order_date       1445 non-null   datetime64[ns]\n",
      " 4   required_date    1445 non-null   datetime64[ns]\n",
      " 5   shipped_date     1445 non-null   datetime64[ns]\n",
      " 6   store_id         1445 non-null   int64         \n",
      " 7   staff_id         1445 non-null   int64         \n",
      " 8   Extraction_Date  1445 non-null   float64       \n",
      " 9   source           1445 non-null   object        \n",
      "dtypes: datetime64[ns](3), float64(1), int64(5), object(1)\n",
      "memory usage: 113.0+ KB\n"
     ]
    }
   ],
   "source": [
    "# convert order_date, required_date, and shipped_date into datetime\n",
    "df['order_date'] = pd.to_datetime(df['order_date'])\n",
    "df['required_date'] = pd.to_datetime(df['required_date'])\n",
    "df['shipped_date'] = pd.to_datetime(df['shipped_date'])\n",
    "df.info()"
   ]
  },
  {
   "cell_type": "code",
   "execution_count": 5,
   "id": "65e2616b-7660-4797-89e0-a511e5681cfb",
   "metadata": {},
   "outputs": [
    {
     "data": {
      "text/plain": [
       "(1445, 10)"
      ]
     },
     "execution_count": 5,
     "metadata": {},
     "output_type": "execute_result"
    }
   ],
   "source": [
    "df.shape"
   ]
  },
  {
   "cell_type": "code",
   "execution_count": 6,
   "id": "a4eddbfe-3789-4604-b30c-980da60ea34a",
   "metadata": {},
   "outputs": [
    {
     "data": {
      "text/plain": [
       "(1445, 10)"
      ]
     },
     "execution_count": 6,
     "metadata": {},
     "output_type": "execute_result"
    }
   ],
   "source": [
    "filtered_df = df[(df['order_date'].dt.year >= 2000) & (df['order_date'].dt.year <= 2024)]\n",
    "filtered_df.shape"
   ]
  },
  {
   "cell_type": "code",
   "execution_count": 9,
   "id": "5f73dae2-9c96-4046-9462-691b96ba8b0e",
   "metadata": {},
   "outputs": [
    {
     "data": {
      "text/plain": [
       "order_id           0\n",
       "customer_id        0\n",
       "order_status       0\n",
       "order_date         0\n",
       "required_date      0\n",
       "shipped_date       0\n",
       "store_id           0\n",
       "staff_id           0\n",
       "Extraction_Date    0\n",
       "source             0\n",
       "dtype: int64"
      ]
     },
     "execution_count": 9,
     "metadata": {},
     "output_type": "execute_result"
    }
   ],
   "source": [
    "# check for Missing data\n",
    "filtered_df.isna().sum()"
   ]
  },
  {
   "cell_type": "code",
   "execution_count": 10,
   "id": "315448b2-f425-4c42-b1f3-cf7d91d07e98",
   "metadata": {},
   "outputs": [
    {
     "data": {
      "text/plain": [
       "0"
      ]
     },
     "execution_count": 10,
     "metadata": {},
     "output_type": "execute_result"
    }
   ],
   "source": [
    "# check for duplicates\n",
    "filtered_df.duplicated().sum()"
   ]
  },
  {
   "cell_type": "code",
   "execution_count": 11,
   "id": "afef1ac9-e283-450d-bab1-ae8be4a2770d",
   "metadata": {},
   "outputs": [
    {
     "data": {
      "text/html": [
       "<div>\n",
       "<style scoped>\n",
       "    .dataframe tbody tr th:only-of-type {\n",
       "        vertical-align: middle;\n",
       "    }\n",
       "\n",
       "    .dataframe tbody tr th {\n",
       "        vertical-align: top;\n",
       "    }\n",
       "\n",
       "    .dataframe thead th {\n",
       "        text-align: right;\n",
       "    }\n",
       "</style>\n",
       "<table border=\"1\" class=\"dataframe\">\n",
       "  <thead>\n",
       "    <tr style=\"text-align: right;\">\n",
       "      <th></th>\n",
       "      <th>order_id</th>\n",
       "      <th>customer_id</th>\n",
       "      <th>order_status</th>\n",
       "      <th>order_date</th>\n",
       "      <th>required_date</th>\n",
       "      <th>shipped_date</th>\n",
       "      <th>store_id</th>\n",
       "      <th>staff_id</th>\n",
       "      <th>Extraction_Date</th>\n",
       "      <th>source</th>\n",
       "    </tr>\n",
       "  </thead>\n",
       "  <tbody>\n",
       "    <tr>\n",
       "      <th>0</th>\n",
       "      <td>1</td>\n",
       "      <td>259</td>\n",
       "      <td>4</td>\n",
       "      <td>2016-01-01</td>\n",
       "      <td>2016-01-03</td>\n",
       "      <td>2016-01-03</td>\n",
       "      <td>1</td>\n",
       "      <td>2</td>\n",
       "      <td>2024-05-01 11:37:28.021257401</td>\n",
       "      <td>SQL-Server</td>\n",
       "    </tr>\n",
       "    <tr>\n",
       "      <th>1</th>\n",
       "      <td>2</td>\n",
       "      <td>1212</td>\n",
       "      <td>4</td>\n",
       "      <td>2016-01-01</td>\n",
       "      <td>2016-01-04</td>\n",
       "      <td>2016-01-03</td>\n",
       "      <td>2</td>\n",
       "      <td>6</td>\n",
       "      <td>2024-05-01 11:37:28.021257401</td>\n",
       "      <td>SQL-Server</td>\n",
       "    </tr>\n",
       "    <tr>\n",
       "      <th>2</th>\n",
       "      <td>3</td>\n",
       "      <td>523</td>\n",
       "      <td>4</td>\n",
       "      <td>2016-01-02</td>\n",
       "      <td>2016-01-05</td>\n",
       "      <td>2016-01-03</td>\n",
       "      <td>2</td>\n",
       "      <td>7</td>\n",
       "      <td>2024-05-01 11:37:28.021257401</td>\n",
       "      <td>SQL-Server</td>\n",
       "    </tr>\n",
       "    <tr>\n",
       "      <th>3</th>\n",
       "      <td>4</td>\n",
       "      <td>175</td>\n",
       "      <td>4</td>\n",
       "      <td>2016-01-03</td>\n",
       "      <td>2016-01-04</td>\n",
       "      <td>2016-01-05</td>\n",
       "      <td>1</td>\n",
       "      <td>3</td>\n",
       "      <td>2024-05-01 11:37:28.021257401</td>\n",
       "      <td>SQL-Server</td>\n",
       "    </tr>\n",
       "    <tr>\n",
       "      <th>4</th>\n",
       "      <td>5</td>\n",
       "      <td>1324</td>\n",
       "      <td>4</td>\n",
       "      <td>2016-01-03</td>\n",
       "      <td>2016-01-06</td>\n",
       "      <td>2016-01-06</td>\n",
       "      <td>2</td>\n",
       "      <td>6</td>\n",
       "      <td>2024-05-01 11:37:28.021257401</td>\n",
       "      <td>SQL-Server</td>\n",
       "    </tr>\n",
       "  </tbody>\n",
       "</table>\n",
       "</div>"
      ],
      "text/plain": [
       "   order_id  customer_id  order_status order_date required_date shipped_date  \\\n",
       "0         1          259             4 2016-01-01    2016-01-03   2016-01-03   \n",
       "1         2         1212             4 2016-01-01    2016-01-04   2016-01-03   \n",
       "2         3          523             4 2016-01-02    2016-01-05   2016-01-03   \n",
       "3         4          175             4 2016-01-03    2016-01-04   2016-01-05   \n",
       "4         5         1324             4 2016-01-03    2016-01-06   2016-01-06   \n",
       "\n",
       "   store_id  staff_id               Extraction_Date      source  \n",
       "0         1         2 2024-05-01 11:37:28.021257401  SQL-Server  \n",
       "1         2         6 2024-05-01 11:37:28.021257401  SQL-Server  \n",
       "2         2         7 2024-05-01 11:37:28.021257401  SQL-Server  \n",
       "3         1         3 2024-05-01 11:37:28.021257401  SQL-Server  \n",
       "4         2         6 2024-05-01 11:37:28.021257401  SQL-Server  "
      ]
     },
     "execution_count": 11,
     "metadata": {},
     "output_type": "execute_result"
    }
   ],
   "source": [
    "filtered_df['Extraction_Date'] = pd.to_datetime(filtered_df['Extraction_Date'], unit='s')\n",
    "filtered_df.head()"
   ]
  },
  {
   "cell_type": "code",
   "execution_count": 12,
   "id": "5eb128fb-7f5a-4065-b529-c03957890de5",
   "metadata": {},
   "outputs": [],
   "source": [
    "filtered_df.to_csv(\"D:\\\\ITI\\\\Python\\\\ITI_Python_for_Data_Management\\\\Extraction\\\\Staging\\\\orders\\\\orders.csv\")"
   ]
  },
  {
   "cell_type": "code",
   "execution_count": null,
   "id": "67f295d4-4b80-4f73-81a8-6d471960ccf4",
   "metadata": {},
   "outputs": [],
   "source": []
  }
 ],
 "metadata": {
  "kernelspec": {
   "display_name": "Python 3 (ipykernel)",
   "language": "python",
   "name": "python3"
  },
  "language_info": {
   "codemirror_mode": {
    "name": "ipython",
    "version": 3
   },
   "file_extension": ".py",
   "mimetype": "text/x-python",
   "name": "python",
   "nbconvert_exporter": "python",
   "pygments_lexer": "ipython3",
   "version": "3.12.1"
  }
 },
 "nbformat": 4,
 "nbformat_minor": 5
}
