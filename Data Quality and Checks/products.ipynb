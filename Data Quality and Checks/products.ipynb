{
 "cells": [
  {
   "cell_type": "code",
   "execution_count": 1,
   "id": "f25aa7c0-51a2-4832-bd78-3efe89cc8046",
   "metadata": {},
   "outputs": [],
   "source": [
    "import pandas as pd"
   ]
  },
  {
   "cell_type": "code",
   "execution_count": 4,
   "id": "317f8222-4275-4750-b411-22b2cb0106e5",
   "metadata": {},
   "outputs": [
    {
     "data": {
      "text/html": [
       "<div>\n",
       "<style scoped>\n",
       "    .dataframe tbody tr th:only-of-type {\n",
       "        vertical-align: middle;\n",
       "    }\n",
       "\n",
       "    .dataframe tbody tr th {\n",
       "        vertical-align: top;\n",
       "    }\n",
       "\n",
       "    .dataframe thead th {\n",
       "        text-align: right;\n",
       "    }\n",
       "</style>\n",
       "<table border=\"1\" class=\"dataframe\">\n",
       "  <thead>\n",
       "    <tr style=\"text-align: right;\">\n",
       "      <th></th>\n",
       "      <th>product_id</th>\n",
       "      <th>product_name</th>\n",
       "      <th>brand_id</th>\n",
       "      <th>category_id</th>\n",
       "      <th>model_year</th>\n",
       "      <th>list_price</th>\n",
       "      <th>Extraction_Date</th>\n",
       "      <th>source</th>\n",
       "    </tr>\n",
       "  </thead>\n",
       "  <tbody>\n",
       "    <tr>\n",
       "      <th>0</th>\n",
       "      <td>1</td>\n",
       "      <td>Trek 820 - 2016</td>\n",
       "      <td>9</td>\n",
       "      <td>6</td>\n",
       "      <td>2016</td>\n",
       "      <td>379.99</td>\n",
       "      <td>1.714564e+09</td>\n",
       "      <td>datalack</td>\n",
       "    </tr>\n",
       "    <tr>\n",
       "      <th>1</th>\n",
       "      <td>2</td>\n",
       "      <td>Ritchey Timberwolf Frameset - 2016</td>\n",
       "      <td>5</td>\n",
       "      <td>6</td>\n",
       "      <td>2016</td>\n",
       "      <td>749.99</td>\n",
       "      <td>1.714564e+09</td>\n",
       "      <td>datalack</td>\n",
       "    </tr>\n",
       "    <tr>\n",
       "      <th>2</th>\n",
       "      <td>3</td>\n",
       "      <td>Surly Wednesday Frameset - 2016</td>\n",
       "      <td>8</td>\n",
       "      <td>6</td>\n",
       "      <td>2016</td>\n",
       "      <td>999.99</td>\n",
       "      <td>1.714564e+09</td>\n",
       "      <td>datalack</td>\n",
       "    </tr>\n",
       "    <tr>\n",
       "      <th>3</th>\n",
       "      <td>4</td>\n",
       "      <td>Trek Fuel EX 8 29 - 2016</td>\n",
       "      <td>9</td>\n",
       "      <td>6</td>\n",
       "      <td>2016</td>\n",
       "      <td>2899.99</td>\n",
       "      <td>1.714564e+09</td>\n",
       "      <td>datalack</td>\n",
       "    </tr>\n",
       "    <tr>\n",
       "      <th>4</th>\n",
       "      <td>5</td>\n",
       "      <td>Heller Shagamaw Frame - 2016</td>\n",
       "      <td>3</td>\n",
       "      <td>6</td>\n",
       "      <td>2016</td>\n",
       "      <td>1320.99</td>\n",
       "      <td>1.714564e+09</td>\n",
       "      <td>datalack</td>\n",
       "    </tr>\n",
       "    <tr>\n",
       "      <th>5</th>\n",
       "      <td>6</td>\n",
       "      <td>Surly Ice Cream Truck Frameset - 2016</td>\n",
       "      <td>8</td>\n",
       "      <td>6</td>\n",
       "      <td>2016</td>\n",
       "      <td>469.99</td>\n",
       "      <td>1.714564e+09</td>\n",
       "      <td>datalack</td>\n",
       "    </tr>\n",
       "    <tr>\n",
       "      <th>6</th>\n",
       "      <td>7</td>\n",
       "      <td>Trek Slash 8 27.5 - 2016</td>\n",
       "      <td>9</td>\n",
       "      <td>6</td>\n",
       "      <td>2016</td>\n",
       "      <td>3999.99</td>\n",
       "      <td>1.714564e+09</td>\n",
       "      <td>datalack</td>\n",
       "    </tr>\n",
       "    <tr>\n",
       "      <th>7</th>\n",
       "      <td>8</td>\n",
       "      <td>Trek Remedy 29 Carbon Frameset - 2016</td>\n",
       "      <td>9</td>\n",
       "      <td>6</td>\n",
       "      <td>2016</td>\n",
       "      <td>1799.99</td>\n",
       "      <td>1.714564e+09</td>\n",
       "      <td>datalack</td>\n",
       "    </tr>\n",
       "    <tr>\n",
       "      <th>8</th>\n",
       "      <td>9</td>\n",
       "      <td>Trek Conduit+ - 2016</td>\n",
       "      <td>9</td>\n",
       "      <td>5</td>\n",
       "      <td>2016</td>\n",
       "      <td>2999.99</td>\n",
       "      <td>1.714564e+09</td>\n",
       "      <td>datalack</td>\n",
       "    </tr>\n",
       "    <tr>\n",
       "      <th>9</th>\n",
       "      <td>10</td>\n",
       "      <td>Surly Straggler - 2016</td>\n",
       "      <td>8</td>\n",
       "      <td>4</td>\n",
       "      <td>2016</td>\n",
       "      <td>1549.00</td>\n",
       "      <td>1.714564e+09</td>\n",
       "      <td>datalack</td>\n",
       "    </tr>\n",
       "  </tbody>\n",
       "</table>\n",
       "</div>"
      ],
      "text/plain": [
       "   product_id                           product_name  brand_id  category_id  \\\n",
       "0           1                        Trek 820 - 2016         9            6   \n",
       "1           2     Ritchey Timberwolf Frameset - 2016         5            6   \n",
       "2           3        Surly Wednesday Frameset - 2016         8            6   \n",
       "3           4               Trek Fuel EX 8 29 - 2016         9            6   \n",
       "4           5           Heller Shagamaw Frame - 2016         3            6   \n",
       "5           6  Surly Ice Cream Truck Frameset - 2016         8            6   \n",
       "6           7               Trek Slash 8 27.5 - 2016         9            6   \n",
       "7           8  Trek Remedy 29 Carbon Frameset - 2016         9            6   \n",
       "8           9                   Trek Conduit+ - 2016         9            5   \n",
       "9          10                 Surly Straggler - 2016         8            4   \n",
       "\n",
       "   model_year  list_price  Extraction_Date    source  \n",
       "0        2016      379.99     1.714564e+09  datalack  \n",
       "1        2016      749.99     1.714564e+09  datalack  \n",
       "2        2016      999.99     1.714564e+09  datalack  \n",
       "3        2016     2899.99     1.714564e+09  datalack  \n",
       "4        2016     1320.99     1.714564e+09  datalack  \n",
       "5        2016      469.99     1.714564e+09  datalack  \n",
       "6        2016     3999.99     1.714564e+09  datalack  \n",
       "7        2016     1799.99     1.714564e+09  datalack  \n",
       "8        2016     2999.99     1.714564e+09  datalack  \n",
       "9        2016     1549.00     1.714564e+09  datalack  "
      ]
     },
     "execution_count": 4,
     "metadata": {},
     "output_type": "execute_result"
    }
   ],
   "source": [
    "df = pd.read_csv(\"D:\\\\ITI\\\\Python\\\\ITI_Python_for_Data_Management\\\\Extraction\\\\landing\\\\products.csv\")\n",
    "df.head(10)"
   ]
  },
  {
   "cell_type": "code",
   "execution_count": 5,
   "id": "e662e844-a427-4989-9f90-3f5aead2274e",
   "metadata": {},
   "outputs": [
    {
     "name": "stdout",
     "output_type": "stream",
     "text": [
      "<class 'pandas.core.frame.DataFrame'>\n",
      "RangeIndex: 334 entries, 0 to 333\n",
      "Data columns (total 8 columns):\n",
      " #   Column           Non-Null Count  Dtype  \n",
      "---  ------           --------------  -----  \n",
      " 0   product_id       334 non-null    int64  \n",
      " 1   product_name     334 non-null    object \n",
      " 2   brand_id         334 non-null    int64  \n",
      " 3   category_id      334 non-null    int64  \n",
      " 4   model_year       334 non-null    int64  \n",
      " 5   list_price       334 non-null    float64\n",
      " 6   Extraction_Date  334 non-null    float64\n",
      " 7   source           334 non-null    object \n",
      "dtypes: float64(2), int64(4), object(2)\n",
      "memory usage: 21.0+ KB\n"
     ]
    }
   ],
   "source": [
    "df.info()"
   ]
  },
  {
   "cell_type": "code",
   "execution_count": 6,
   "id": "00c26d49-e24b-4997-8b42-f6b2f996fe53",
   "metadata": {},
   "outputs": [
    {
     "data": {
      "text/html": [
       "<div>\n",
       "<style scoped>\n",
       "    .dataframe tbody tr th:only-of-type {\n",
       "        vertical-align: middle;\n",
       "    }\n",
       "\n",
       "    .dataframe tbody tr th {\n",
       "        vertical-align: top;\n",
       "    }\n",
       "\n",
       "    .dataframe thead th {\n",
       "        text-align: right;\n",
       "    }\n",
       "</style>\n",
       "<table border=\"1\" class=\"dataframe\">\n",
       "  <thead>\n",
       "    <tr style=\"text-align: right;\">\n",
       "      <th></th>\n",
       "      <th>product_id</th>\n",
       "      <th>product_name</th>\n",
       "      <th>brand_id</th>\n",
       "      <th>category_id</th>\n",
       "      <th>model_year</th>\n",
       "      <th>list_price</th>\n",
       "      <th>Extraction_Date</th>\n",
       "      <th>source</th>\n",
       "    </tr>\n",
       "  </thead>\n",
       "  <tbody>\n",
       "    <tr>\n",
       "      <th>0</th>\n",
       "      <td>1</td>\n",
       "      <td>Trek 820 - 2016</td>\n",
       "      <td>9</td>\n",
       "      <td>6</td>\n",
       "      <td>2016</td>\n",
       "      <td>379.99</td>\n",
       "      <td>2024-05-01 11:42:23.564626217</td>\n",
       "      <td>datalack</td>\n",
       "    </tr>\n",
       "    <tr>\n",
       "      <th>1</th>\n",
       "      <td>2</td>\n",
       "      <td>Ritchey Timberwolf Frameset - 2016</td>\n",
       "      <td>5</td>\n",
       "      <td>6</td>\n",
       "      <td>2016</td>\n",
       "      <td>749.99</td>\n",
       "      <td>2024-05-01 11:42:23.564626217</td>\n",
       "      <td>datalack</td>\n",
       "    </tr>\n",
       "    <tr>\n",
       "      <th>2</th>\n",
       "      <td>3</td>\n",
       "      <td>Surly Wednesday Frameset - 2016</td>\n",
       "      <td>8</td>\n",
       "      <td>6</td>\n",
       "      <td>2016</td>\n",
       "      <td>999.99</td>\n",
       "      <td>2024-05-01 11:42:23.564626217</td>\n",
       "      <td>datalack</td>\n",
       "    </tr>\n",
       "    <tr>\n",
       "      <th>3</th>\n",
       "      <td>4</td>\n",
       "      <td>Trek Fuel EX 8 29 - 2016</td>\n",
       "      <td>9</td>\n",
       "      <td>6</td>\n",
       "      <td>2016</td>\n",
       "      <td>2899.99</td>\n",
       "      <td>2024-05-01 11:42:23.564626217</td>\n",
       "      <td>datalack</td>\n",
       "    </tr>\n",
       "    <tr>\n",
       "      <th>4</th>\n",
       "      <td>5</td>\n",
       "      <td>Heller Shagamaw Frame - 2016</td>\n",
       "      <td>3</td>\n",
       "      <td>6</td>\n",
       "      <td>2016</td>\n",
       "      <td>1320.99</td>\n",
       "      <td>2024-05-01 11:42:23.564626217</td>\n",
       "      <td>datalack</td>\n",
       "    </tr>\n",
       "  </tbody>\n",
       "</table>\n",
       "</div>"
      ],
      "text/plain": [
       "   product_id                        product_name  brand_id  category_id  \\\n",
       "0           1                     Trek 820 - 2016         9            6   \n",
       "1           2  Ritchey Timberwolf Frameset - 2016         5            6   \n",
       "2           3     Surly Wednesday Frameset - 2016         8            6   \n",
       "3           4            Trek Fuel EX 8 29 - 2016         9            6   \n",
       "4           5        Heller Shagamaw Frame - 2016         3            6   \n",
       "\n",
       "   model_year  list_price               Extraction_Date    source  \n",
       "0        2016      379.99 2024-05-01 11:42:23.564626217  datalack  \n",
       "1        2016      749.99 2024-05-01 11:42:23.564626217  datalack  \n",
       "2        2016      999.99 2024-05-01 11:42:23.564626217  datalack  \n",
       "3        2016     2899.99 2024-05-01 11:42:23.564626217  datalack  \n",
       "4        2016     1320.99 2024-05-01 11:42:23.564626217  datalack  "
      ]
     },
     "execution_count": 6,
     "metadata": {},
     "output_type": "execute_result"
    }
   ],
   "source": [
    "# Convert current_timestamp column to datetime\n",
    "df['Extraction_Date'] = pd.to_datetime(df['Extraction_Date'], unit='s')\n",
    "df.head()"
   ]
  },
  {
   "cell_type": "markdown",
   "id": "0fe54805-dd7d-4e93-b149-ff53da663fb6",
   "metadata": {},
   "source": [
    "# Check Missing Values"
   ]
  },
  {
   "cell_type": "code",
   "execution_count": 7,
   "id": "3bcc6418-a239-42af-b697-8e17250e31e9",
   "metadata": {},
   "outputs": [
    {
     "data": {
      "text/plain": [
       "product_id         0\n",
       "product_name       0\n",
       "brand_id           0\n",
       "category_id        0\n",
       "model_year         0\n",
       "list_price         0\n",
       "Extraction_Date    0\n",
       "source             0\n",
       "dtype: int64"
      ]
     },
     "execution_count": 7,
     "metadata": {},
     "output_type": "execute_result"
    }
   ],
   "source": [
    "df.isna().sum()"
   ]
  },
  {
   "cell_type": "markdown",
   "id": "e28b68b6-2d4b-423a-87f9-d14237e880d1",
   "metadata": {},
   "source": [
    "# Check for Duplicates"
   ]
  },
  {
   "cell_type": "code",
   "execution_count": 8,
   "id": "4bce2244-a6b3-4e42-af1b-4085a510ff9f",
   "metadata": {},
   "outputs": [
    {
     "data": {
      "text/plain": [
       "0      False\n",
       "1      False\n",
       "2      False\n",
       "3      False\n",
       "4      False\n",
       "       ...  \n",
       "329    False\n",
       "330    False\n",
       "331    False\n",
       "332    False\n",
       "333    False\n",
       "Length: 334, dtype: bool"
      ]
     },
     "execution_count": 8,
     "metadata": {},
     "output_type": "execute_result"
    }
   ],
   "source": [
    "duplicates = df.duplicated(subset=['product_id'])\n",
    "duplicates"
   ]
  },
  {
   "cell_type": "code",
   "execution_count": 9,
   "id": "569b3003-aa8f-41af-ab4d-66f2f9702158",
   "metadata": {},
   "outputs": [
    {
     "data": {
      "text/plain": [
       "13"
      ]
     },
     "execution_count": 9,
     "metadata": {},
     "output_type": "execute_result"
    }
   ],
   "source": [
    "df.duplicated().sum()"
   ]
  },
  {
   "cell_type": "code",
   "execution_count": 10,
   "id": "545cf2bb-f170-426d-b6af-f517df78114a",
   "metadata": {},
   "outputs": [
    {
     "data": {
      "text/plain": [
       "0"
      ]
     },
     "execution_count": 10,
     "metadata": {},
     "output_type": "execute_result"
    }
   ],
   "source": [
    "df.drop_duplicates(subset=['product_id'], inplace=True)\n",
    "df.duplicated().sum()"
   ]
  },
  {
   "cell_type": "code",
   "execution_count": 12,
   "id": "a26d8c1d-c14b-4371-9fd3-0e2102920b11",
   "metadata": {},
   "outputs": [],
   "source": [
    "df.to_csv(\"D:\\\\ITI\\\\Python\\\\ITI_Python_for_Data_Management\\\\Extraction\\\\Staging\\\\products\\\\products.csv\")"
   ]
  },
  {
   "cell_type": "code",
   "execution_count": null,
   "id": "943c43cc-fd00-4c6d-9246-cd6cd62b969f",
   "metadata": {},
   "outputs": [],
   "source": []
  }
 ],
 "metadata": {
  "kernelspec": {
   "display_name": "Python 3 (ipykernel)",
   "language": "python",
   "name": "python3"
  },
  "language_info": {
   "codemirror_mode": {
    "name": "ipython",
    "version": 3
   },
   "file_extension": ".py",
   "mimetype": "text/x-python",
   "name": "python",
   "nbconvert_exporter": "python",
   "pygments_lexer": "ipython3",
   "version": "3.12.1"
  }
 },
 "nbformat": 4,
 "nbformat_minor": 5
}
