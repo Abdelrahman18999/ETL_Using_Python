{
 "cells": [
  {
   "cell_type": "code",
   "execution_count": 1,
   "id": "c06420cb-631d-4fd6-b9b0-3d15e28c5925",
   "metadata": {},
   "outputs": [],
   "source": [
    "import pandas as pd"
   ]
  },
  {
   "cell_type": "code",
   "execution_count": 2,
   "id": "e5f99981-c63c-4d0e-a020-d8281f841cb8",
   "metadata": {},
   "outputs": [
    {
     "data": {
      "text/html": [
       "<div>\n",
       "<style scoped>\n",
       "    .dataframe tbody tr th:only-of-type {\n",
       "        vertical-align: middle;\n",
       "    }\n",
       "\n",
       "    .dataframe tbody tr th {\n",
       "        vertical-align: top;\n",
       "    }\n",
       "\n",
       "    .dataframe thead th {\n",
       "        text-align: right;\n",
       "    }\n",
       "</style>\n",
       "<table border=\"1\" class=\"dataframe\">\n",
       "  <thead>\n",
       "    <tr style=\"text-align: right;\">\n",
       "      <th></th>\n",
       "      <th>EGP</th>\n",
       "      <th>timestamp</th>\n",
       "      <th>Extraction_Date</th>\n",
       "      <th>source</th>\n",
       "    </tr>\n",
       "  </thead>\n",
       "  <tbody>\n",
       "    <tr>\n",
       "      <th>0</th>\n",
       "      <td>47.8665</td>\n",
       "      <td>1714561200</td>\n",
       "      <td>1.714564e+09</td>\n",
       "      <td>api</td>\n",
       "    </tr>\n",
       "  </tbody>\n",
       "</table>\n",
       "</div>"
      ],
      "text/plain": [
       "       EGP   timestamp  Extraction_Date source\n",
       "0  47.8665  1714561200     1.714564e+09    api"
      ]
     },
     "execution_count": 2,
     "metadata": {},
     "output_type": "execute_result"
    }
   ],
   "source": [
    "df = pd.read_csv(\"D:\\\\ITI\\\\Python\\\\ITI_Python_for_Data_Management\\\\Extraction\\\\landing\\\\rateexchange.csv\")\n",
    "df.head(10)"
   ]
  },
  {
   "cell_type": "code",
   "execution_count": 3,
   "id": "de13e174-dee5-4acc-aedd-d364dc907955",
   "metadata": {},
   "outputs": [
    {
     "data": {
      "text/html": [
       "<div>\n",
       "<style scoped>\n",
       "    .dataframe tbody tr th:only-of-type {\n",
       "        vertical-align: middle;\n",
       "    }\n",
       "\n",
       "    .dataframe tbody tr th {\n",
       "        vertical-align: top;\n",
       "    }\n",
       "\n",
       "    .dataframe thead th {\n",
       "        text-align: right;\n",
       "    }\n",
       "</style>\n",
       "<table border=\"1\" class=\"dataframe\">\n",
       "  <thead>\n",
       "    <tr style=\"text-align: right;\">\n",
       "      <th></th>\n",
       "      <th>EGP</th>\n",
       "      <th>timestamp</th>\n",
       "      <th>Extraction_Date</th>\n",
       "      <th>source</th>\n",
       "    </tr>\n",
       "  </thead>\n",
       "  <tbody>\n",
       "    <tr>\n",
       "      <th>0</th>\n",
       "      <td>47.8665</td>\n",
       "      <td>1714561200</td>\n",
       "      <td>2024-05-01 11:40:57.346049070</td>\n",
       "      <td>api</td>\n",
       "    </tr>\n",
       "  </tbody>\n",
       "</table>\n",
       "</div>"
      ],
      "text/plain": [
       "       EGP   timestamp               Extraction_Date source\n",
       "0  47.8665  1714561200 2024-05-01 11:40:57.346049070    api"
      ]
     },
     "execution_count": 3,
     "metadata": {},
     "output_type": "execute_result"
    }
   ],
   "source": [
    "# Convert current_timestamp column to datetime\n",
    "df['Extraction_Date'] = pd.to_datetime(df['Extraction_Date'], unit='s')\n",
    "df.head()"
   ]
  },
  {
   "cell_type": "code",
   "execution_count": 4,
   "id": "52cbd201-fdca-4697-8a6d-fc44a086e2c1",
   "metadata": {},
   "outputs": [],
   "source": [
    "df.to_csv(\"D:\\\\ITI\\\\Python\\\\ITI_Python_for_Data_Management\\\\Extraction\\\\Staging\\\\rateexchange\\\\rateexchange.csv\")"
   ]
  },
  {
   "cell_type": "code",
   "execution_count": null,
   "id": "73146555-089c-44fd-a5a4-9691a44c306d",
   "metadata": {},
   "outputs": [],
   "source": []
  }
 ],
 "metadata": {
  "kernelspec": {
   "display_name": "Python 3 (ipykernel)",
   "language": "python",
   "name": "python3"
  },
  "language_info": {
   "codemirror_mode": {
    "name": "ipython",
    "version": 3
   },
   "file_extension": ".py",
   "mimetype": "text/x-python",
   "name": "python",
   "nbconvert_exporter": "python",
   "pygments_lexer": "ipython3",
   "version": "3.12.1"
  }
 },
 "nbformat": 4,
 "nbformat_minor": 5
}
