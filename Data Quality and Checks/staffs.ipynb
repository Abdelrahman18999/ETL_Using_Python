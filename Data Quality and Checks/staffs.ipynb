{
 "cells": [
  {
   "cell_type": "code",
   "execution_count": 1,
   "id": "5977d2a3-a5fc-41ac-b683-3bdc575d9f2b",
   "metadata": {},
   "outputs": [],
   "source": [
    "import pandas as pd"
   ]
  },
  {
   "cell_type": "code",
   "execution_count": 3,
   "id": "11b10b87-4d20-4901-9428-5e2ac67eba3e",
   "metadata": {},
   "outputs": [
    {
     "data": {
      "text/html": [
       "<div>\n",
       "<style scoped>\n",
       "    .dataframe tbody tr th:only-of-type {\n",
       "        vertical-align: middle;\n",
       "    }\n",
       "\n",
       "    .dataframe tbody tr th {\n",
       "        vertical-align: top;\n",
       "    }\n",
       "\n",
       "    .dataframe thead th {\n",
       "        text-align: right;\n",
       "    }\n",
       "</style>\n",
       "<table border=\"1\" class=\"dataframe\">\n",
       "  <thead>\n",
       "    <tr style=\"text-align: right;\">\n",
       "      <th></th>\n",
       "      <th>staff_id</th>\n",
       "      <th>first_name</th>\n",
       "      <th>last_name</th>\n",
       "      <th>email</th>\n",
       "      <th>phone</th>\n",
       "      <th>active</th>\n",
       "      <th>store_id</th>\n",
       "      <th>manager_id</th>\n",
       "      <th>Extraction_Date</th>\n",
       "      <th>source</th>\n",
       "    </tr>\n",
       "  </thead>\n",
       "  <tbody>\n",
       "    <tr>\n",
       "      <th>0</th>\n",
       "      <td>1</td>\n",
       "      <td>Fabiola</td>\n",
       "      <td>Jackson</td>\n",
       "      <td>fabiola.jackson@bikes.shop</td>\n",
       "      <td>NaN</td>\n",
       "      <td>1</td>\n",
       "      <td>NaN</td>\n",
       "      <td>NaN</td>\n",
       "      <td>1.714564e+09</td>\n",
       "      <td>datalack</td>\n",
       "    </tr>\n",
       "    <tr>\n",
       "      <th>1</th>\n",
       "      <td>2</td>\n",
       "      <td>Mireya</td>\n",
       "      <td>NaN</td>\n",
       "      <td>mireya.copeland@bikes.shop</td>\n",
       "      <td>(831) 555-5555</td>\n",
       "      <td>1</td>\n",
       "      <td>1.0</td>\n",
       "      <td>1.0</td>\n",
       "      <td>1.714564e+09</td>\n",
       "      <td>datalack</td>\n",
       "    </tr>\n",
       "    <tr>\n",
       "      <th>2</th>\n",
       "      <td>3</td>\n",
       "      <td>Genna</td>\n",
       "      <td>Serrano</td>\n",
       "      <td>genna.serrano@bikes.shop</td>\n",
       "      <td>(831) 555-5556</td>\n",
       "      <td>1</td>\n",
       "      <td>1.0</td>\n",
       "      <td>2.0</td>\n",
       "      <td>1.714564e+09</td>\n",
       "      <td>datalack</td>\n",
       "    </tr>\n",
       "    <tr>\n",
       "      <th>3</th>\n",
       "      <td>4</td>\n",
       "      <td>Virgie</td>\n",
       "      <td>Wiggins</td>\n",
       "      <td>virgie.wiggins@bikes.shop</td>\n",
       "      <td>(831) 555-5557</td>\n",
       "      <td>1</td>\n",
       "      <td>1.0</td>\n",
       "      <td>2.0</td>\n",
       "      <td>1.714564e+09</td>\n",
       "      <td>datalack</td>\n",
       "    </tr>\n",
       "    <tr>\n",
       "      <th>4</th>\n",
       "      <td>5</td>\n",
       "      <td>Jannette</td>\n",
       "      <td>David</td>\n",
       "      <td>jannette.david@bikes.shop</td>\n",
       "      <td>(516) 379-4444</td>\n",
       "      <td>1</td>\n",
       "      <td>2.0</td>\n",
       "      <td>1.0</td>\n",
       "      <td>1.714564e+09</td>\n",
       "      <td>datalack</td>\n",
       "    </tr>\n",
       "    <tr>\n",
       "      <th>5</th>\n",
       "      <td>6</td>\n",
       "      <td>Marcelene</td>\n",
       "      <td>Boyer</td>\n",
       "      <td>NaN</td>\n",
       "      <td>(516) 379-4445</td>\n",
       "      <td>1</td>\n",
       "      <td>2.0</td>\n",
       "      <td>5.0</td>\n",
       "      <td>1.714564e+09</td>\n",
       "      <td>datalack</td>\n",
       "    </tr>\n",
       "    <tr>\n",
       "      <th>6</th>\n",
       "      <td>7</td>\n",
       "      <td>Venita</td>\n",
       "      <td>Daniel</td>\n",
       "      <td>venita.daniel@bikes.shop</td>\n",
       "      <td>NaN</td>\n",
       "      <td>1</td>\n",
       "      <td>2.0</td>\n",
       "      <td>5.0</td>\n",
       "      <td>1.714564e+09</td>\n",
       "      <td>datalack</td>\n",
       "    </tr>\n",
       "    <tr>\n",
       "      <th>7</th>\n",
       "      <td>8</td>\n",
       "      <td>Kali</td>\n",
       "      <td>Vargas</td>\n",
       "      <td>kali.vargas@bikes.shop</td>\n",
       "      <td>(972) 530-5555</td>\n",
       "      <td>1</td>\n",
       "      <td>3.0</td>\n",
       "      <td>1.0</td>\n",
       "      <td>1.714564e+09</td>\n",
       "      <td>datalack</td>\n",
       "    </tr>\n",
       "    <tr>\n",
       "      <th>8</th>\n",
       "      <td>9</td>\n",
       "      <td>Layla</td>\n",
       "      <td>Terrell</td>\n",
       "      <td>layla.terrell@bikes.shop</td>\n",
       "      <td>(972) 530-5556</td>\n",
       "      <td>1</td>\n",
       "      <td>3.0</td>\n",
       "      <td>7.0</td>\n",
       "      <td>1.714564e+09</td>\n",
       "      <td>datalack</td>\n",
       "    </tr>\n",
       "    <tr>\n",
       "      <th>9</th>\n",
       "      <td>10</td>\n",
       "      <td>Bernardine</td>\n",
       "      <td>Houston</td>\n",
       "      <td>bernardine.houston@bikes.shop</td>\n",
       "      <td>(972) 530-5557</td>\n",
       "      <td>1</td>\n",
       "      <td>3.0</td>\n",
       "      <td>7.0</td>\n",
       "      <td>1.714564e+09</td>\n",
       "      <td>datalack</td>\n",
       "    </tr>\n",
       "  </tbody>\n",
       "</table>\n",
       "</div>"
      ],
      "text/plain": [
       "   staff_id  first_name last_name                          email  \\\n",
       "0         1     Fabiola   Jackson     fabiola.jackson@bikes.shop   \n",
       "1         2      Mireya       NaN     mireya.copeland@bikes.shop   \n",
       "2         3       Genna   Serrano       genna.serrano@bikes.shop   \n",
       "3         4      Virgie   Wiggins      virgie.wiggins@bikes.shop   \n",
       "4         5    Jannette     David      jannette.david@bikes.shop   \n",
       "5         6   Marcelene     Boyer                            NaN   \n",
       "6         7      Venita    Daniel       venita.daniel@bikes.shop   \n",
       "7         8        Kali    Vargas         kali.vargas@bikes.shop   \n",
       "8         9       Layla   Terrell       layla.terrell@bikes.shop   \n",
       "9        10  Bernardine   Houston  bernardine.houston@bikes.shop   \n",
       "\n",
       "            phone  active  store_id  manager_id  Extraction_Date    source  \n",
       "0             NaN       1       NaN         NaN     1.714564e+09  datalack  \n",
       "1  (831) 555-5555       1       1.0         1.0     1.714564e+09  datalack  \n",
       "2  (831) 555-5556       1       1.0         2.0     1.714564e+09  datalack  \n",
       "3  (831) 555-5557       1       1.0         2.0     1.714564e+09  datalack  \n",
       "4  (516) 379-4444       1       2.0         1.0     1.714564e+09  datalack  \n",
       "5  (516) 379-4445       1       2.0         5.0     1.714564e+09  datalack  \n",
       "6             NaN       1       2.0         5.0     1.714564e+09  datalack  \n",
       "7  (972) 530-5555       1       3.0         1.0     1.714564e+09  datalack  \n",
       "8  (972) 530-5556       1       3.0         7.0     1.714564e+09  datalack  \n",
       "9  (972) 530-5557       1       3.0         7.0     1.714564e+09  datalack  "
      ]
     },
     "execution_count": 3,
     "metadata": {},
     "output_type": "execute_result"
    }
   ],
   "source": [
    "df = pd.read_csv(\"D:\\\\ITI\\\\Python\\\\ITI_Python_for_Data_Management\\\\Extraction\\\\landing\\\\staffs.csv\")\n",
    "df.head(10)"
   ]
  },
  {
   "cell_type": "markdown",
   "id": "3392aab5-6027-42b4-acd2-2b5d14495ba5",
   "metadata": {},
   "source": [
    "# Check for Missing Values"
   ]
  },
  {
   "cell_type": "code",
   "execution_count": 4,
   "id": "9fe4b238-6ae0-4dab-b8c0-e43ff8e16f78",
   "metadata": {},
   "outputs": [
    {
     "data": {
      "text/plain": [
       "staff_id           0\n",
       "first_name         0\n",
       "last_name          1\n",
       "email              1\n",
       "phone              2\n",
       "active             0\n",
       "store_id           1\n",
       "manager_id         1\n",
       "Extraction_Date    0\n",
       "source             0\n",
       "dtype: int64"
      ]
     },
     "execution_count": 4,
     "metadata": {},
     "output_type": "execute_result"
    }
   ],
   "source": [
    "df.isna().sum()"
   ]
  },
  {
   "cell_type": "code",
   "execution_count": 5,
   "id": "d7cd9bb4-5736-473b-9ba2-936f15a140b3",
   "metadata": {},
   "outputs": [
    {
     "data": {
      "text/plain": [
       "staff_id           0\n",
       "first_name         0\n",
       "last_name          0\n",
       "email              0\n",
       "phone              0\n",
       "active             0\n",
       "store_id           0\n",
       "manager_id         0\n",
       "Extraction_Date    0\n",
       "source             0\n",
       "dtype: int64"
      ]
     },
     "execution_count": 5,
     "metadata": {},
     "output_type": "execute_result"
    }
   ],
   "source": [
    "df.dropna(inplace=True)\n",
    "df.isna().sum()"
   ]
  },
  {
   "cell_type": "markdown",
   "id": "50c4221f-9e84-432d-9753-1df177b460fb",
   "metadata": {},
   "source": [
    "# Check for datatypes"
   ]
  },
  {
   "cell_type": "code",
   "execution_count": 6,
   "id": "ef7951ab-461f-4b41-8f09-2bd01012ce46",
   "metadata": {},
   "outputs": [
    {
     "name": "stdout",
     "output_type": "stream",
     "text": [
      "<class 'pandas.core.frame.DataFrame'>\n",
      "Index: 6 entries, 2 to 9\n",
      "Data columns (total 10 columns):\n",
      " #   Column           Non-Null Count  Dtype  \n",
      "---  ------           --------------  -----  \n",
      " 0   staff_id         6 non-null      int64  \n",
      " 1   first_name       6 non-null      object \n",
      " 2   last_name        6 non-null      object \n",
      " 3   email            6 non-null      object \n",
      " 4   phone            6 non-null      object \n",
      " 5   active           6 non-null      int64  \n",
      " 6   store_id         6 non-null      float64\n",
      " 7   manager_id       6 non-null      float64\n",
      " 8   Extraction_Date  6 non-null      float64\n",
      " 9   source           6 non-null      object \n",
      "dtypes: float64(3), int64(2), object(5)\n",
      "memory usage: 528.0+ bytes\n"
     ]
    }
   ],
   "source": [
    "df.info()"
   ]
  },
  {
   "cell_type": "code",
   "execution_count": 7,
   "id": "bb518900-560b-4c5e-bac2-1ce907147d41",
   "metadata": {},
   "outputs": [
    {
     "name": "stdout",
     "output_type": "stream",
     "text": [
      "<class 'pandas.core.frame.DataFrame'>\n",
      "Index: 6 entries, 2 to 9\n",
      "Data columns (total 10 columns):\n",
      " #   Column           Non-Null Count  Dtype  \n",
      "---  ------           --------------  -----  \n",
      " 0   staff_id         6 non-null      int64  \n",
      " 1   first_name       6 non-null      object \n",
      " 2   last_name        6 non-null      object \n",
      " 3   email            6 non-null      object \n",
      " 4   phone            6 non-null      object \n",
      " 5   active           6 non-null      int64  \n",
      " 6   store_id         6 non-null      int32  \n",
      " 7   manager_id       6 non-null      int32  \n",
      " 8   Extraction_Date  6 non-null      float64\n",
      " 9   source           6 non-null      object \n",
      "dtypes: float64(1), int32(2), int64(2), object(5)\n",
      "memory usage: 480.0+ bytes\n"
     ]
    }
   ],
   "source": [
    "# Convert store_id and manager_id into integers \n",
    "df[['store_id', 'manager_id']] = df[['store_id', 'manager_id']].astype(int)\n",
    "df.info()"
   ]
  },
  {
   "cell_type": "code",
   "execution_count": 11,
   "id": "2e0bf167-d143-4936-9214-e04a39210ffa",
   "metadata": {},
   "outputs": [
    {
     "data": {
      "text/html": [
       "<div>\n",
       "<style scoped>\n",
       "    .dataframe tbody tr th:only-of-type {\n",
       "        vertical-align: middle;\n",
       "    }\n",
       "\n",
       "    .dataframe tbody tr th {\n",
       "        vertical-align: top;\n",
       "    }\n",
       "\n",
       "    .dataframe thead th {\n",
       "        text-align: right;\n",
       "    }\n",
       "</style>\n",
       "<table border=\"1\" class=\"dataframe\">\n",
       "  <thead>\n",
       "    <tr style=\"text-align: right;\">\n",
       "      <th></th>\n",
       "      <th>staff_id</th>\n",
       "      <th>first_name</th>\n",
       "      <th>last_name</th>\n",
       "      <th>email</th>\n",
       "      <th>phone</th>\n",
       "      <th>active</th>\n",
       "      <th>store_id</th>\n",
       "      <th>manager_id</th>\n",
       "      <th>Extraction_Date</th>\n",
       "      <th>source</th>\n",
       "    </tr>\n",
       "  </thead>\n",
       "  <tbody>\n",
       "    <tr>\n",
       "      <th>2</th>\n",
       "      <td>3</td>\n",
       "      <td>Genna</td>\n",
       "      <td>Serrano</td>\n",
       "      <td>genna.serrano@bikes.shop</td>\n",
       "      <td>(831) 555-5556</td>\n",
       "      <td>1</td>\n",
       "      <td>1</td>\n",
       "      <td>2</td>\n",
       "      <td>2024-05-01 11:42:23.564626217</td>\n",
       "      <td>datalack</td>\n",
       "    </tr>\n",
       "    <tr>\n",
       "      <th>3</th>\n",
       "      <td>4</td>\n",
       "      <td>Virgie</td>\n",
       "      <td>Wiggins</td>\n",
       "      <td>virgie.wiggins@bikes.shop</td>\n",
       "      <td>(831) 555-5557</td>\n",
       "      <td>1</td>\n",
       "      <td>1</td>\n",
       "      <td>2</td>\n",
       "      <td>2024-05-01 11:42:23.564626217</td>\n",
       "      <td>datalack</td>\n",
       "    </tr>\n",
       "    <tr>\n",
       "      <th>4</th>\n",
       "      <td>5</td>\n",
       "      <td>Jannette</td>\n",
       "      <td>David</td>\n",
       "      <td>jannette.david@bikes.shop</td>\n",
       "      <td>(516) 379-4444</td>\n",
       "      <td>1</td>\n",
       "      <td>2</td>\n",
       "      <td>1</td>\n",
       "      <td>2024-05-01 11:42:23.564626217</td>\n",
       "      <td>datalack</td>\n",
       "    </tr>\n",
       "    <tr>\n",
       "      <th>7</th>\n",
       "      <td>8</td>\n",
       "      <td>Kali</td>\n",
       "      <td>Vargas</td>\n",
       "      <td>kali.vargas@bikes.shop</td>\n",
       "      <td>(972) 530-5555</td>\n",
       "      <td>1</td>\n",
       "      <td>3</td>\n",
       "      <td>1</td>\n",
       "      <td>2024-05-01 11:42:23.564626217</td>\n",
       "      <td>datalack</td>\n",
       "    </tr>\n",
       "    <tr>\n",
       "      <th>8</th>\n",
       "      <td>9</td>\n",
       "      <td>Layla</td>\n",
       "      <td>Terrell</td>\n",
       "      <td>layla.terrell@bikes.shop</td>\n",
       "      <td>(972) 530-5556</td>\n",
       "      <td>1</td>\n",
       "      <td>3</td>\n",
       "      <td>7</td>\n",
       "      <td>2024-05-01 11:42:23.564626217</td>\n",
       "      <td>datalack</td>\n",
       "    </tr>\n",
       "  </tbody>\n",
       "</table>\n",
       "</div>"
      ],
      "text/plain": [
       "   staff_id first_name last_name                      email           phone  \\\n",
       "2         3      Genna   Serrano   genna.serrano@bikes.shop  (831) 555-5556   \n",
       "3         4     Virgie   Wiggins  virgie.wiggins@bikes.shop  (831) 555-5557   \n",
       "4         5   Jannette     David  jannette.david@bikes.shop  (516) 379-4444   \n",
       "7         8       Kali    Vargas     kali.vargas@bikes.shop  (972) 530-5555   \n",
       "8         9      Layla   Terrell   layla.terrell@bikes.shop  (972) 530-5556   \n",
       "\n",
       "   active  store_id  manager_id               Extraction_Date    source  \n",
       "2       1         1           2 2024-05-01 11:42:23.564626217  datalack  \n",
       "3       1         1           2 2024-05-01 11:42:23.564626217  datalack  \n",
       "4       1         2           1 2024-05-01 11:42:23.564626217  datalack  \n",
       "7       1         3           1 2024-05-01 11:42:23.564626217  datalack  \n",
       "8       1         3           7 2024-05-01 11:42:23.564626217  datalack  "
      ]
     },
     "execution_count": 11,
     "metadata": {},
     "output_type": "execute_result"
    }
   ],
   "source": [
    "# Convert current_timestamp column to datetime\n",
    "df['Extraction_Date'] = pd.to_datetime(df['Extraction_Date'], unit='s')\n",
    "df.head()"
   ]
  },
  {
   "cell_type": "markdown",
   "id": "be8c1dd5-ccf2-4a11-8564-26dbdf57b545",
   "metadata": {},
   "source": [
    "# Check for Duplicates"
   ]
  },
  {
   "cell_type": "code",
   "execution_count": 12,
   "id": "65a2c339-b15e-43bb-bf30-8a966644ca12",
   "metadata": {},
   "outputs": [
    {
     "data": {
      "text/plain": [
       "2    False\n",
       "3    False\n",
       "4    False\n",
       "7    False\n",
       "8    False\n",
       "9    False\n",
       "dtype: bool"
      ]
     },
     "execution_count": 12,
     "metadata": {},
     "output_type": "execute_result"
    }
   ],
   "source": [
    "duplicates = df.duplicated(subset=['staff_id'])\n",
    "duplicates"
   ]
  },
  {
   "cell_type": "code",
   "execution_count": 13,
   "id": "660cc42c-8091-4a17-8220-fd9e4580deaf",
   "metadata": {},
   "outputs": [],
   "source": [
    "df.to_csv(\"D:\\\\ITI\\\\Python\\\\ITI_Python_for_Data_Management\\\\Extraction\\\\Staging\\\\staffs\\\\staffs.csv\")"
   ]
  },
  {
   "cell_type": "code",
   "execution_count": null,
   "id": "17d01949-d0b6-41c6-9252-ffbf15caaa46",
   "metadata": {},
   "outputs": [],
   "source": []
  }
 ],
 "metadata": {
  "kernelspec": {
   "display_name": "Python 3 (ipykernel)",
   "language": "python",
   "name": "python3"
  },
  "language_info": {
   "codemirror_mode": {
    "name": "ipython",
    "version": 3
   },
   "file_extension": ".py",
   "mimetype": "text/x-python",
   "name": "python",
   "nbconvert_exporter": "python",
   "pygments_lexer": "ipython3",
   "version": "3.12.1"
  }
 },
 "nbformat": 4,
 "nbformat_minor": 5
}
