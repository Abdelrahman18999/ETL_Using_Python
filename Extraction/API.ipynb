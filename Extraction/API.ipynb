{
 "cells": [
  {
   "cell_type": "code",
   "execution_count": 1,
   "id": "2a7ccff9-842b-4463-8240-33a4855f3d60",
   "metadata": {},
   "outputs": [],
   "source": [
    "import json\n",
    "import pandas as pd\n",
    "from pandas import json_normalize"
   ]
  },
  {
   "cell_type": "code",
   "execution_count": 2,
   "id": "4e97fd5e-fc09-4a6f-afa2-4fc94410e8d6",
   "metadata": {},
   "outputs": [],
   "source": [
    "id = '96d521ed60b0494b9f74682a6a824abe'\n",
    "parametrs = {'app_id' : id}\n",
    "\n",
    "url = 'https://openexchangerates.org/api/latest.json'"
   ]
  },
  {
   "cell_type": "code",
   "execution_count": 3,
   "id": "c161fe33-a058-40b0-aa2e-dc855d3819af",
   "metadata": {},
   "outputs": [
    {
     "data": {
      "text/plain": [
       "200"
      ]
     },
     "execution_count": 3,
     "metadata": {},
     "output_type": "execute_result"
    }
   ],
   "source": [
    "import requests\n",
    "# .get() method :: to send a request and recieve the replay\n",
    "response = requests.get(url, parametrs)\n",
    "# status_code :: attribute if returns with 200 it means that its a successful request\n",
    "response.status_code"
   ]
  },
  {
   "cell_type": "code",
   "execution_count": 4,
   "id": "9d6dba3d-8e29-4ebb-81f8-68da1831cce0",
   "metadata": {},
   "outputs": [
    {
     "data": {
      "text/plain": [
       "{'disclaimer': 'Usage subject to terms: https://openexchangerates.org/terms',\n",
       " 'license': 'https://openexchangerates.org/license',\n",
       " 'timestamp': 1714561200,\n",
       " 'base': 'USD',\n",
       " 'rates': {'AED': 3.6729,\n",
       "  'AFN': 71.612406,\n",
       "  'ALL': 94.398939,\n",
       "  'AMD': 390.4493,\n",
       "  'ANG': 1.813518,\n",
       "  'AOA': 834.54,\n",
       "  'ARS': 881.603672,\n",
       "  'AUD': 1.543306,\n",
       "  'AWG': 1.80125,\n",
       "  'AZN': 1.7,\n",
       "  'BAM': 1.834417,\n",
       "  'BBD': 2,\n",
       "  'BDT': 110.432659,\n",
       "  'BGN': 1.833125,\n",
       "  'BHD': 0.377238,\n",
       "  'BIF': 2868.569084,\n",
       "  'BMD': 1,\n",
       "  'BND': 1.361644,\n",
       "  'BOB': 6.956187,\n",
       "  'BRL': 5.1957,\n",
       "  'BSD': 1,\n",
       "  'BTC': 1.7348213e-05,\n",
       "  'BTN': 83.495196,\n",
       "  'BWP': 14.289334,\n",
       "  'BYN': 3.273932,\n",
       "  'BZD': 2.028307,\n",
       "  'CAD': 1.37725,\n",
       "  'CDF': 2803.554739,\n",
       "  'CHF': 0.921183,\n",
       "  'CLF': 0.034719,\n",
       "  'CLP': 961.538462,\n",
       "  'CNH': 7.245713,\n",
       "  'CNY': 7.241,\n",
       "  'COP': 3879.015575,\n",
       "  'CRC': 511.780935,\n",
       "  'CUC': 1,\n",
       "  'CUP': 25.75,\n",
       "  'CVE': 102.82269,\n",
       "  'CZK': 23.586799,\n",
       "  'DJF': 179.26418,\n",
       "  'DKK': 6.99031,\n",
       "  'DOP': 58.891424,\n",
       "  'DZD': 134.646,\n",
       "  'EGP': 47.8665,\n",
       "  'ERN': 15,\n",
       "  'ETB': 57.345839,\n",
       "  'EUR': 0.937273,\n",
       "  'FJD': 2.2855,\n",
       "  'FKP': 0.800936,\n",
       "  'GBP': 0.800936,\n",
       "  'GEL': 2.675,\n",
       "  'GGP': 0.800936,\n",
       "  'GHS': 13.735145,\n",
       "  'GIP': 0.800936,\n",
       "  'GMD': 67.775,\n",
       "  'GNF': 8646.847771,\n",
       "  'GTQ': 7.820868,\n",
       "  'GYD': 210.632434,\n",
       "  'HKD': 7.823735,\n",
       "  'HNL': 24.86523,\n",
       "  'HRK': 7.061872,\n",
       "  'HTG': 132.658217,\n",
       "  'HUF': 366.201804,\n",
       "  'IDR': 16246.483272,\n",
       "  'ILS': 3.741697,\n",
       "  'IMP': 0.800936,\n",
       "  'INR': 83.4858,\n",
       "  'IQD': 1318.179076,\n",
       "  'IRR': 42075,\n",
       "  'ISK': 140.5,\n",
       "  'JEP': 0.800936,\n",
       "  'JMD': 156.179605,\n",
       "  'JOD': 0.7087,\n",
       "  'JPY': 157.90975,\n",
       "  'KES': 133.390253,\n",
       "  'KGS': 88.6821,\n",
       "  'KHR': 4091.28818,\n",
       "  'KMF': 461.499977,\n",
       "  'KPW': 900,\n",
       "  'KRW': 1386.470731,\n",
       "  'KWD': 0.308422,\n",
       "  'KYD': 0.83366,\n",
       "  'KZT': 442.818808,\n",
       "  'LAK': 21466.532099,\n",
       "  'LBP': 89606.798908,\n",
       "  'LKR': 296.639303,\n",
       "  'LRD': 193.399983,\n",
       "  'LSL': 18.802155,\n",
       "  'LYD': 4.873404,\n",
       "  'MAD': 10.176415,\n",
       "  'MDL': 17.759916,\n",
       "  'MGA': 4464.650116,\n",
       "  'MKD': 57.818093,\n",
       "  'MMK': 2113.095549,\n",
       "  'MNT': 3450,\n",
       "  'MOP': 8.059514,\n",
       "  'MRU': 39.7,\n",
       "  'MUR': 46.369997,\n",
       "  'MVR': 15.46,\n",
       "  'MWK': 1744.949077,\n",
       "  'MXN': 17.102659,\n",
       "  'MYR': 4.7675,\n",
       "  'MZN': 63.974996,\n",
       "  'NAD': 18.802155,\n",
       "  'NGN': 1325.13,\n",
       "  'NIO': 37.039121,\n",
       "  'NOK': 11.09964,\n",
       "  'NPR': 133.589747,\n",
       "  'NZD': 1.698172,\n",
       "  'OMR': 0.384958,\n",
       "  'PAB': 1,\n",
       "  'PEN': 3.767758,\n",
       "  'PGK': 3.885746,\n",
       "  'PHP': 57.822,\n",
       "  'PKR': 280.039727,\n",
       "  'PLN': 4.068422,\n",
       "  'PYG': 7519.433286,\n",
       "  'QAR': 3.676474,\n",
       "  'RON': 4.6633,\n",
       "  'RSD': 109.742,\n",
       "  'RUB': 93.457944,\n",
       "  'RWF': 1299.33523,\n",
       "  'SAR': 3.750498,\n",
       "  'SBD': 8.478975,\n",
       "  'SCR': 13.798318,\n",
       "  'SDG': 586,\n",
       "  'SEK': 10.99869,\n",
       "  'SGD': 1.364878,\n",
       "  'SHP': 0.800936,\n",
       "  'SLL': 20969.5,\n",
       "  'SOS': 575.300849,\n",
       "  'SRD': 33.8135,\n",
       "  'SSP': 130.26,\n",
       "  'STD': 22281.8,\n",
       "  'STN': 22.984625,\n",
       "  'SVC': 8.753427,\n",
       "  'SYP': 2512.53,\n",
       "  'SZL': 18.805656,\n",
       "  'THB': 37.16,\n",
       "  'TJS': 10.924783,\n",
       "  'TMT': 3.51,\n",
       "  'TND': 3.149,\n",
       "  'TOP': 2.388286,\n",
       "  'TRY': 32.4572,\n",
       "  'TTD': 6.79063,\n",
       "  'TWD': 32.625001,\n",
       "  'TZS': 2607.288,\n",
       "  'UAH': 39.774233,\n",
       "  'UGX': 3836.152812,\n",
       "  'USD': 1,\n",
       "  'UYU': 38.575765,\n",
       "  'UZS': 12699.044983,\n",
       "  'VES': 36.381644,\n",
       "  'VND': 25345,\n",
       "  'VUV': 118.722,\n",
       "  'WST': 2.8,\n",
       "  'XAF': 614.810864,\n",
       "  'XAG': 0.03775794,\n",
       "  'XAU': 0.00043608,\n",
       "  'XCD': 2.70255,\n",
       "  'XDR': 0.763824,\n",
       "  'XOF': 614.810864,\n",
       "  'XPD': 0.00106478,\n",
       "  'XPF': 111.846434,\n",
       "  'XPT': 0.00105918,\n",
       "  'YER': 250.375049,\n",
       "  'ZAR': 18.6717,\n",
       "  'ZMW': 26.948426,\n",
       "  'ZWL': 322}}"
      ]
     },
     "execution_count": 4,
     "metadata": {},
     "output_type": "execute_result"
    }
   ],
   "source": [
    "data = response.json()\n",
    "data"
   ]
  },
  {
   "cell_type": "code",
   "execution_count": 5,
   "id": "677a6e22-3999-42b6-9711-13aa3f89ca3c",
   "metadata": {},
   "outputs": [
    {
     "data": {
      "text/html": [
       "<div>\n",
       "<style scoped>\n",
       "    .dataframe tbody tr th:only-of-type {\n",
       "        vertical-align: middle;\n",
       "    }\n",
       "\n",
       "    .dataframe tbody tr th {\n",
       "        vertical-align: top;\n",
       "    }\n",
       "\n",
       "    .dataframe thead th {\n",
       "        text-align: right;\n",
       "    }\n",
       "</style>\n",
       "<table border=\"1\" class=\"dataframe\">\n",
       "  <thead>\n",
       "    <tr style=\"text-align: right;\">\n",
       "      <th></th>\n",
       "      <th>disclaimer</th>\n",
       "      <th>license</th>\n",
       "      <th>timestamp</th>\n",
       "      <th>base</th>\n",
       "      <th>rates.AED</th>\n",
       "      <th>rates.AFN</th>\n",
       "      <th>rates.ALL</th>\n",
       "      <th>rates.AMD</th>\n",
       "      <th>rates.ANG</th>\n",
       "      <th>rates.AOA</th>\n",
       "      <th>...</th>\n",
       "      <th>rates.XCD</th>\n",
       "      <th>rates.XDR</th>\n",
       "      <th>rates.XOF</th>\n",
       "      <th>rates.XPD</th>\n",
       "      <th>rates.XPF</th>\n",
       "      <th>rates.XPT</th>\n",
       "      <th>rates.YER</th>\n",
       "      <th>rates.ZAR</th>\n",
       "      <th>rates.ZMW</th>\n",
       "      <th>rates.ZWL</th>\n",
       "    </tr>\n",
       "  </thead>\n",
       "  <tbody>\n",
       "    <tr>\n",
       "      <th>0</th>\n",
       "      <td>Usage subject to terms: https://openexchangera...</td>\n",
       "      <td>https://openexchangerates.org/license</td>\n",
       "      <td>1714561200</td>\n",
       "      <td>USD</td>\n",
       "      <td>3.6729</td>\n",
       "      <td>71.612406</td>\n",
       "      <td>94.398939</td>\n",
       "      <td>390.4493</td>\n",
       "      <td>1.813518</td>\n",
       "      <td>834.54</td>\n",
       "      <td>...</td>\n",
       "      <td>2.70255</td>\n",
       "      <td>0.763824</td>\n",
       "      <td>614.810864</td>\n",
       "      <td>0.001065</td>\n",
       "      <td>111.846434</td>\n",
       "      <td>0.001059</td>\n",
       "      <td>250.375049</td>\n",
       "      <td>18.6717</td>\n",
       "      <td>26.948426</td>\n",
       "      <td>322</td>\n",
       "    </tr>\n",
       "  </tbody>\n",
       "</table>\n",
       "<p>1 rows × 173 columns</p>\n",
       "</div>"
      ],
      "text/plain": [
       "                                          disclaimer  \\\n",
       "0  Usage subject to terms: https://openexchangera...   \n",
       "\n",
       "                                 license   timestamp base  rates.AED  \\\n",
       "0  https://openexchangerates.org/license  1714561200  USD     3.6729   \n",
       "\n",
       "   rates.AFN  rates.ALL  rates.AMD  rates.ANG  rates.AOA  ...  rates.XCD  \\\n",
       "0  71.612406  94.398939   390.4493   1.813518     834.54  ...    2.70255   \n",
       "\n",
       "   rates.XDR   rates.XOF  rates.XPD   rates.XPF  rates.XPT   rates.YER  \\\n",
       "0   0.763824  614.810864   0.001065  111.846434   0.001059  250.375049   \n",
       "\n",
       "   rates.ZAR  rates.ZMW  rates.ZWL  \n",
       "0    18.6717  26.948426        322  \n",
       "\n",
       "[1 rows x 173 columns]"
      ]
     },
     "execution_count": 5,
     "metadata": {},
     "output_type": "execute_result"
    }
   ],
   "source": [
    "EGP = json_normalize(data)\n",
    "EGP.head()"
   ]
  },
  {
   "cell_type": "code",
   "execution_count": 6,
   "id": "524e13f3-05f7-4249-b74f-084aa93a4793",
   "metadata": {},
   "outputs": [
    {
     "data": {
      "text/plain": [
       "(1, 173)"
      ]
     },
     "execution_count": 6,
     "metadata": {},
     "output_type": "execute_result"
    }
   ],
   "source": [
    "EGP.shape"
   ]
  },
  {
   "cell_type": "code",
   "execution_count": 7,
   "id": "c38a7ade-bbe3-46e0-aee8-8541045d1e6d",
   "metadata": {},
   "outputs": [
    {
     "data": {
      "text/plain": [
       "Index(['disclaimer', 'license', 'timestamp', 'base', 'rates.AED', 'rates.AFN',\n",
       "       'rates.ALL', 'rates.AMD', 'rates.ANG', 'rates.AOA',\n",
       "       ...\n",
       "       'rates.XCD', 'rates.XDR', 'rates.XOF', 'rates.XPD', 'rates.XPF',\n",
       "       'rates.XPT', 'rates.YER', 'rates.ZAR', 'rates.ZMW', 'rates.ZWL'],\n",
       "      dtype='object', length=173)"
      ]
     },
     "execution_count": 7,
     "metadata": {},
     "output_type": "execute_result"
    }
   ],
   "source": [
    "EGP.columns"
   ]
  },
  {
   "cell_type": "code",
   "execution_count": 8,
   "id": "3bd3d961-fc0a-40e6-930c-c7bdcd106b99",
   "metadata": {},
   "outputs": [],
   "source": [
    "EGP = EGP.loc[:, ['rates.EGP', 'timestamp']]"
   ]
  },
  {
   "cell_type": "code",
   "execution_count": 10,
   "id": "45b55d70-751c-4570-a00d-70dd581a08c6",
   "metadata": {},
   "outputs": [],
   "source": [
    "EGP = EGP.rename(columns={'rates.EGP': 'EGP'})"
   ]
  },
  {
   "cell_type": "code",
   "execution_count": 11,
   "id": "612f99f6-d740-47be-8b1b-2f3ba18e941e",
   "metadata": {},
   "outputs": [
    {
     "data": {
      "text/html": [
       "<div>\n",
       "<style scoped>\n",
       "    .dataframe tbody tr th:only-of-type {\n",
       "        vertical-align: middle;\n",
       "    }\n",
       "\n",
       "    .dataframe tbody tr th {\n",
       "        vertical-align: top;\n",
       "    }\n",
       "\n",
       "    .dataframe thead th {\n",
       "        text-align: right;\n",
       "    }\n",
       "</style>\n",
       "<table border=\"1\" class=\"dataframe\">\n",
       "  <thead>\n",
       "    <tr style=\"text-align: right;\">\n",
       "      <th></th>\n",
       "      <th>EGP</th>\n",
       "      <th>timestamp</th>\n",
       "    </tr>\n",
       "  </thead>\n",
       "  <tbody>\n",
       "    <tr>\n",
       "      <th>0</th>\n",
       "      <td>47.8665</td>\n",
       "      <td>1714561200</td>\n",
       "    </tr>\n",
       "  </tbody>\n",
       "</table>\n",
       "</div>"
      ],
      "text/plain": [
       "       EGP   timestamp\n",
       "0  47.8665  1714561200"
      ]
     },
     "execution_count": 11,
     "metadata": {},
     "output_type": "execute_result"
    }
   ],
   "source": [
    "EGP.head()"
   ]
  },
  {
   "cell_type": "code",
   "execution_count": 12,
   "id": "8820f35a-c59e-483b-b090-fb238e6aafd6",
   "metadata": {},
   "outputs": [],
   "source": [
    "import pandas as pd\n",
    "import time\n",
    "\n",
    "# Add new columns with the specified variables\n",
    "EGP['Extraction_Date'] = time.time()\n",
    "EGP['source'] = 'api'"
   ]
  },
  {
   "cell_type": "code",
   "execution_count": 13,
   "id": "46f754f2-fb22-49ed-a0c6-853c4b5c24f3",
   "metadata": {},
   "outputs": [
    {
     "data": {
      "text/html": [
       "<div>\n",
       "<style scoped>\n",
       "    .dataframe tbody tr th:only-of-type {\n",
       "        vertical-align: middle;\n",
       "    }\n",
       "\n",
       "    .dataframe tbody tr th {\n",
       "        vertical-align: top;\n",
       "    }\n",
       "\n",
       "    .dataframe thead th {\n",
       "        text-align: right;\n",
       "    }\n",
       "</style>\n",
       "<table border=\"1\" class=\"dataframe\">\n",
       "  <thead>\n",
       "    <tr style=\"text-align: right;\">\n",
       "      <th></th>\n",
       "      <th>EGP</th>\n",
       "      <th>timestamp</th>\n",
       "      <th>Extraction_Date</th>\n",
       "      <th>source</th>\n",
       "    </tr>\n",
       "  </thead>\n",
       "  <tbody>\n",
       "    <tr>\n",
       "      <th>0</th>\n",
       "      <td>47.8665</td>\n",
       "      <td>1714561200</td>\n",
       "      <td>1.714564e+09</td>\n",
       "      <td>api</td>\n",
       "    </tr>\n",
       "  </tbody>\n",
       "</table>\n",
       "</div>"
      ],
      "text/plain": [
       "       EGP   timestamp  Extraction_Date source\n",
       "0  47.8665  1714561200     1.714564e+09    api"
      ]
     },
     "execution_count": 13,
     "metadata": {},
     "output_type": "execute_result"
    }
   ],
   "source": [
    "EGP.head()"
   ]
  },
  {
   "cell_type": "code",
   "execution_count": 14,
   "id": "7cde1a2f-abea-4875-905e-2b2bf951e216",
   "metadata": {},
   "outputs": [],
   "source": [
    "EGP.to_csv('landing\\\\rateexchange.csv', index=False)"
   ]
  },
  {
   "cell_type": "code",
   "execution_count": null,
   "id": "c19f7151-759a-434b-9f4b-54d60964aec7",
   "metadata": {},
   "outputs": [],
   "source": []
  }
 ],
 "metadata": {
  "kernelspec": {
   "display_name": "Python 3 (ipykernel)",
   "language": "python",
   "name": "python3"
  },
  "language_info": {
   "codemirror_mode": {
    "name": "ipython",
    "version": 3
   },
   "file_extension": ".py",
   "mimetype": "text/x-python",
   "name": "python",
   "nbconvert_exporter": "python",
   "pygments_lexer": "ipython3",
   "version": "3.12.1"
  }
 },
 "nbformat": 4,
 "nbformat_minor": 5
}
