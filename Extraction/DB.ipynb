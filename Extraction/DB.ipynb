{
 "cells": [
  {
   "cell_type": "code",
   "execution_count": 1,
   "id": "664da427-ee9c-4852-a3a8-b257388445e1",
   "metadata": {},
   "outputs": [],
   "source": [
    "import pyodbc\n",
    "import pandas as pd"
   ]
  },
  {
   "cell_type": "code",
   "execution_count": 2,
   "id": "75fc992c-3bac-415f-848c-3919ff39297c",
   "metadata": {},
   "outputs": [],
   "source": [
    "conn = pyodbc.connect('Driver={SQL Server};'\n",
    "                      'Server=DESKTOP-DTV5FRB\\\\SQLEXPRESS;'\n",
    "                      'Database=bikestore;'\n",
    "                      'Trusted_connection=yes')"
   ]
  },
  {
   "cell_type": "code",
   "execution_count": 3,
   "id": "109f1cef-69a5-4ecb-9510-26d040f993b7",
   "metadata": {},
   "outputs": [
    {
     "name": "stdout",
     "output_type": "stream",
     "text": [
      "True\n"
     ]
    }
   ],
   "source": [
    "if conn:\n",
    "    print (True)"
   ]
  },
  {
   "cell_type": "markdown",
   "id": "47760131-ec82-4f7b-89df-61b87fdbc22a",
   "metadata": {},
   "source": [
    "# Make sure of csv data file columns data types"
   ]
  },
  {
   "cell_type": "markdown",
   "id": "dc0a6bd3-2efc-419d-a43c-81acaf089f95",
   "metadata": {},
   "source": [
    "## `orders` data"
   ]
  },
  {
   "cell_type": "markdown",
   "id": "2b030546-749f-46b9-9d10-c7df4dbfa091",
   "metadata": {},
   "source": [
    "*Before tables creation let's explore the info about the tables we want to create using pandas*"
   ]
  },
  {
   "cell_type": "code",
   "execution_count": 51,
   "id": "8fae21fd-b45e-419c-a0b5-b4f83dc2e883",
   "metadata": {},
   "outputs": [
    {
     "data": {
      "text/html": [
       "<div>\n",
       "<style scoped>\n",
       "    .dataframe tbody tr th:only-of-type {\n",
       "        vertical-align: middle;\n",
       "    }\n",
       "\n",
       "    .dataframe tbody tr th {\n",
       "        vertical-align: top;\n",
       "    }\n",
       "\n",
       "    .dataframe thead th {\n",
       "        text-align: right;\n",
       "    }\n",
       "</style>\n",
       "<table border=\"1\" class=\"dataframe\">\n",
       "  <thead>\n",
       "    <tr style=\"text-align: right;\">\n",
       "      <th></th>\n",
       "      <th>order_id</th>\n",
       "      <th>customer_id</th>\n",
       "      <th>order_status</th>\n",
       "      <th>order_date</th>\n",
       "      <th>required_date</th>\n",
       "      <th>shipped_date</th>\n",
       "      <th>store_id</th>\n",
       "      <th>staff_id</th>\n",
       "    </tr>\n",
       "  </thead>\n",
       "  <tbody>\n",
       "    <tr>\n",
       "      <th>0</th>\n",
       "      <td>1</td>\n",
       "      <td>259</td>\n",
       "      <td>4</td>\n",
       "      <td>2016-01-01</td>\n",
       "      <td>2016-01-03</td>\n",
       "      <td>2016-01-03</td>\n",
       "      <td>1</td>\n",
       "      <td>2</td>\n",
       "    </tr>\n",
       "    <tr>\n",
       "      <th>1</th>\n",
       "      <td>2</td>\n",
       "      <td>1212</td>\n",
       "      <td>4</td>\n",
       "      <td>2016-01-01</td>\n",
       "      <td>2016-01-04</td>\n",
       "      <td>2016-01-03</td>\n",
       "      <td>2</td>\n",
       "      <td>6</td>\n",
       "    </tr>\n",
       "    <tr>\n",
       "      <th>2</th>\n",
       "      <td>3</td>\n",
       "      <td>523</td>\n",
       "      <td>4</td>\n",
       "      <td>2016-01-02</td>\n",
       "      <td>2016-01-05</td>\n",
       "      <td>2016-01-03</td>\n",
       "      <td>2</td>\n",
       "      <td>7</td>\n",
       "    </tr>\n",
       "    <tr>\n",
       "      <th>3</th>\n",
       "      <td>4</td>\n",
       "      <td>175</td>\n",
       "      <td>4</td>\n",
       "      <td>2016-01-03</td>\n",
       "      <td>2016-01-04</td>\n",
       "      <td>2016-01-05</td>\n",
       "      <td>1</td>\n",
       "      <td>3</td>\n",
       "    </tr>\n",
       "    <tr>\n",
       "      <th>4</th>\n",
       "      <td>5</td>\n",
       "      <td>1324</td>\n",
       "      <td>4</td>\n",
       "      <td>2016-01-03</td>\n",
       "      <td>2016-01-06</td>\n",
       "      <td>2016-01-06</td>\n",
       "      <td>2</td>\n",
       "      <td>6</td>\n",
       "    </tr>\n",
       "    <tr>\n",
       "      <th>5</th>\n",
       "      <td>6</td>\n",
       "      <td>94</td>\n",
       "      <td>4</td>\n",
       "      <td>1016-01-04</td>\n",
       "      <td>1016-01-07</td>\n",
       "      <td>1016-01-05</td>\n",
       "      <td>2</td>\n",
       "      <td>6</td>\n",
       "    </tr>\n",
       "    <tr>\n",
       "      <th>6</th>\n",
       "      <td>7</td>\n",
       "      <td>324</td>\n",
       "      <td>4</td>\n",
       "      <td>1016-01-04</td>\n",
       "      <td>1016-01-07</td>\n",
       "      <td>1016-01-05</td>\n",
       "      <td>2</td>\n",
       "      <td>6</td>\n",
       "    </tr>\n",
       "    <tr>\n",
       "      <th>7</th>\n",
       "      <td>8</td>\n",
       "      <td>1204</td>\n",
       "      <td>4</td>\n",
       "      <td>1016-01-04</td>\n",
       "      <td>1016-01-05</td>\n",
       "      <td>1016-01-05</td>\n",
       "      <td>2</td>\n",
       "      <td>7</td>\n",
       "    </tr>\n",
       "  </tbody>\n",
       "</table>\n",
       "</div>"
      ],
      "text/plain": [
       "   order_id  customer_id  order_status  order_date required_date shipped_date  \\\n",
       "0         1          259             4  2016-01-01    2016-01-03   2016-01-03   \n",
       "1         2         1212             4  2016-01-01    2016-01-04   2016-01-03   \n",
       "2         3          523             4  2016-01-02    2016-01-05   2016-01-03   \n",
       "3         4          175             4  2016-01-03    2016-01-04   2016-01-05   \n",
       "4         5         1324             4  2016-01-03    2016-01-06   2016-01-06   \n",
       "5         6           94             4  1016-01-04    1016-01-07   1016-01-05   \n",
       "6         7          324             4  1016-01-04    1016-01-07   1016-01-05   \n",
       "7         8         1204             4  1016-01-04    1016-01-05   1016-01-05   \n",
       "\n",
       "   store_id  staff_id  \n",
       "0         1         2  \n",
       "1         2         6  \n",
       "2         2         7  \n",
       "3         1         3  \n",
       "4         2         6  \n",
       "5         2         6  \n",
       "6         2         6  \n",
       "7         2         7  "
      ]
     },
     "execution_count": 51,
     "metadata": {},
     "output_type": "execute_result"
    }
   ],
   "source": [
    "orders = pd.read_csv(\"data/source/orders.csv\")\n",
    "orders.head(8)"
   ]
  },
  {
   "cell_type": "code",
   "execution_count": 52,
   "id": "5ed2e5a7-cbb0-4951-8276-4babb6ccfbc8",
   "metadata": {},
   "outputs": [
    {
     "name": "stdout",
     "output_type": "stream",
     "text": [
      "<class 'pandas.core.frame.DataFrame'>\n",
      "RangeIndex: 1615 entries, 0 to 1614\n",
      "Data columns (total 8 columns):\n",
      " #   Column         Non-Null Count  Dtype \n",
      "---  ------         --------------  ----- \n",
      " 0   order_id       1615 non-null   int64 \n",
      " 1   customer_id    1615 non-null   int64 \n",
      " 2   order_status   1615 non-null   int64 \n",
      " 3   order_date     1615 non-null   object\n",
      " 4   required_date  1615 non-null   object\n",
      " 5   shipped_date   1445 non-null   object\n",
      " 6   store_id       1615 non-null   int64 \n",
      " 7   staff_id       1615 non-null   int64 \n",
      "dtypes: int64(5), object(3)\n",
      "memory usage: 101.1+ KB\n"
     ]
    }
   ],
   "source": [
    "orders.info()"
   ]
  },
  {
   "cell_type": "code",
   "execution_count": 53,
   "id": "a6bd008f-79fe-4f1f-b3dd-d9833e21c16a",
   "metadata": {},
   "outputs": [
    {
     "data": {
      "text/plain": [
       "(1615, 8)"
      ]
     },
     "execution_count": 53,
     "metadata": {},
     "output_type": "execute_result"
    }
   ],
   "source": [
    "orders.shape"
   ]
  },
  {
   "cell_type": "code",
   "execution_count": 54,
   "id": "4397e086-3e8f-414e-94eb-8e60025faaeb",
   "metadata": {},
   "outputs": [],
   "source": [
    "orders.dropna(subset=['order_date', 'required_date', 'shipped_date'], inplace=True)"
   ]
  },
  {
   "cell_type": "code",
   "execution_count": 55,
   "id": "d7963d50-0ccd-4d2f-a28b-b323e9a1857f",
   "metadata": {},
   "outputs": [
    {
     "data": {
      "text/plain": [
       "(1445, 8)"
      ]
     },
     "execution_count": 55,
     "metadata": {},
     "output_type": "execute_result"
    }
   ],
   "source": [
    "orders.shape"
   ]
  },
  {
   "cell_type": "code",
   "execution_count": 56,
   "id": "8a4def15-ac8a-4908-b89c-fdcb5a91fdbf",
   "metadata": {},
   "outputs": [],
   "source": [
    "# Define a custom function\n",
    "def process_date(date_str):\n",
    "    parts = date_str.split('-')\n",
    "    if parts[0].startswith('1'):\n",
    "        parts[0] = '2' + parts[0][1:]\n",
    "    return '-'.join(parts)\n",
    "\n",
    "# Apply the custom function to the 'date_column'\n",
    "orders['order_date'] = orders['order_date'].apply(process_date)\n",
    "orders['required_date'] = orders['required_date'].apply(process_date)\n",
    "orders['shipped_date'] = orders['shipped_date'].apply(process_date)"
   ]
  },
  {
   "cell_type": "code",
   "execution_count": 57,
   "id": "244491ca-9c70-41b1-bf35-37de900cd65a",
   "metadata": {},
   "outputs": [
    {
     "data": {
      "text/html": [
       "<div>\n",
       "<style scoped>\n",
       "    .dataframe tbody tr th:only-of-type {\n",
       "        vertical-align: middle;\n",
       "    }\n",
       "\n",
       "    .dataframe tbody tr th {\n",
       "        vertical-align: top;\n",
       "    }\n",
       "\n",
       "    .dataframe thead th {\n",
       "        text-align: right;\n",
       "    }\n",
       "</style>\n",
       "<table border=\"1\" class=\"dataframe\">\n",
       "  <thead>\n",
       "    <tr style=\"text-align: right;\">\n",
       "      <th></th>\n",
       "      <th>order_id</th>\n",
       "      <th>customer_id</th>\n",
       "      <th>order_status</th>\n",
       "      <th>order_date</th>\n",
       "      <th>required_date</th>\n",
       "      <th>shipped_date</th>\n",
       "      <th>store_id</th>\n",
       "      <th>staff_id</th>\n",
       "    </tr>\n",
       "  </thead>\n",
       "  <tbody>\n",
       "    <tr>\n",
       "      <th>0</th>\n",
       "      <td>1</td>\n",
       "      <td>259</td>\n",
       "      <td>4</td>\n",
       "      <td>2016-01-01</td>\n",
       "      <td>2016-01-03</td>\n",
       "      <td>2016-01-03</td>\n",
       "      <td>1</td>\n",
       "      <td>2</td>\n",
       "    </tr>\n",
       "    <tr>\n",
       "      <th>1</th>\n",
       "      <td>2</td>\n",
       "      <td>1212</td>\n",
       "      <td>4</td>\n",
       "      <td>2016-01-01</td>\n",
       "      <td>2016-01-04</td>\n",
       "      <td>2016-01-03</td>\n",
       "      <td>2</td>\n",
       "      <td>6</td>\n",
       "    </tr>\n",
       "    <tr>\n",
       "      <th>2</th>\n",
       "      <td>3</td>\n",
       "      <td>523</td>\n",
       "      <td>4</td>\n",
       "      <td>2016-01-02</td>\n",
       "      <td>2016-01-05</td>\n",
       "      <td>2016-01-03</td>\n",
       "      <td>2</td>\n",
       "      <td>7</td>\n",
       "    </tr>\n",
       "    <tr>\n",
       "      <th>3</th>\n",
       "      <td>4</td>\n",
       "      <td>175</td>\n",
       "      <td>4</td>\n",
       "      <td>2016-01-03</td>\n",
       "      <td>2016-01-04</td>\n",
       "      <td>2016-01-05</td>\n",
       "      <td>1</td>\n",
       "      <td>3</td>\n",
       "    </tr>\n",
       "    <tr>\n",
       "      <th>4</th>\n",
       "      <td>5</td>\n",
       "      <td>1324</td>\n",
       "      <td>4</td>\n",
       "      <td>2016-01-03</td>\n",
       "      <td>2016-01-06</td>\n",
       "      <td>2016-01-06</td>\n",
       "      <td>2</td>\n",
       "      <td>6</td>\n",
       "    </tr>\n",
       "    <tr>\n",
       "      <th>5</th>\n",
       "      <td>6</td>\n",
       "      <td>94</td>\n",
       "      <td>4</td>\n",
       "      <td>2016-01-04</td>\n",
       "      <td>2016-01-07</td>\n",
       "      <td>2016-01-05</td>\n",
       "      <td>2</td>\n",
       "      <td>6</td>\n",
       "    </tr>\n",
       "    <tr>\n",
       "      <th>6</th>\n",
       "      <td>7</td>\n",
       "      <td>324</td>\n",
       "      <td>4</td>\n",
       "      <td>2016-01-04</td>\n",
       "      <td>2016-01-07</td>\n",
       "      <td>2016-01-05</td>\n",
       "      <td>2</td>\n",
       "      <td>6</td>\n",
       "    </tr>\n",
       "    <tr>\n",
       "      <th>7</th>\n",
       "      <td>8</td>\n",
       "      <td>1204</td>\n",
       "      <td>4</td>\n",
       "      <td>2016-01-04</td>\n",
       "      <td>2016-01-05</td>\n",
       "      <td>2016-01-05</td>\n",
       "      <td>2</td>\n",
       "      <td>7</td>\n",
       "    </tr>\n",
       "  </tbody>\n",
       "</table>\n",
       "</div>"
      ],
      "text/plain": [
       "   order_id  customer_id  order_status  order_date required_date shipped_date  \\\n",
       "0         1          259             4  2016-01-01    2016-01-03   2016-01-03   \n",
       "1         2         1212             4  2016-01-01    2016-01-04   2016-01-03   \n",
       "2         3          523             4  2016-01-02    2016-01-05   2016-01-03   \n",
       "3         4          175             4  2016-01-03    2016-01-04   2016-01-05   \n",
       "4         5         1324             4  2016-01-03    2016-01-06   2016-01-06   \n",
       "5         6           94             4  2016-01-04    2016-01-07   2016-01-05   \n",
       "6         7          324             4  2016-01-04    2016-01-07   2016-01-05   \n",
       "7         8         1204             4  2016-01-04    2016-01-05   2016-01-05   \n",
       "\n",
       "   store_id  staff_id  \n",
       "0         1         2  \n",
       "1         2         6  \n",
       "2         2         7  \n",
       "3         1         3  \n",
       "4         2         6  \n",
       "5         2         6  \n",
       "6         2         6  \n",
       "7         2         7  "
      ]
     },
     "execution_count": 57,
     "metadata": {},
     "output_type": "execute_result"
    }
   ],
   "source": [
    "orders.head(8)"
   ]
  },
  {
   "cell_type": "code",
   "execution_count": 58,
   "id": "0912f0ec-cf05-460e-82b3-9303e0fe9687",
   "metadata": {},
   "outputs": [
    {
     "data": {
      "text/html": [
       "<div>\n",
       "<style scoped>\n",
       "    .dataframe tbody tr th:only-of-type {\n",
       "        vertical-align: middle;\n",
       "    }\n",
       "\n",
       "    .dataframe tbody tr th {\n",
       "        vertical-align: top;\n",
       "    }\n",
       "\n",
       "    .dataframe thead th {\n",
       "        text-align: right;\n",
       "    }\n",
       "</style>\n",
       "<table border=\"1\" class=\"dataframe\">\n",
       "  <thead>\n",
       "    <tr style=\"text-align: right;\">\n",
       "      <th></th>\n",
       "      <th>order_id</th>\n",
       "      <th>customer_id</th>\n",
       "      <th>order_status</th>\n",
       "      <th>order_date</th>\n",
       "      <th>required_date</th>\n",
       "      <th>shipped_date</th>\n",
       "      <th>store_id</th>\n",
       "      <th>staff_id</th>\n",
       "    </tr>\n",
       "  </thead>\n",
       "  <tbody>\n",
       "    <tr>\n",
       "      <th>0</th>\n",
       "      <td>1</td>\n",
       "      <td>259</td>\n",
       "      <td>4</td>\n",
       "      <td>2016-01-01</td>\n",
       "      <td>2016-01-03</td>\n",
       "      <td>2016-01-03</td>\n",
       "      <td>1</td>\n",
       "      <td>2</td>\n",
       "    </tr>\n",
       "    <tr>\n",
       "      <th>1</th>\n",
       "      <td>2</td>\n",
       "      <td>1212</td>\n",
       "      <td>4</td>\n",
       "      <td>2016-01-01</td>\n",
       "      <td>2016-01-04</td>\n",
       "      <td>2016-01-03</td>\n",
       "      <td>2</td>\n",
       "      <td>6</td>\n",
       "    </tr>\n",
       "    <tr>\n",
       "      <th>2</th>\n",
       "      <td>3</td>\n",
       "      <td>523</td>\n",
       "      <td>4</td>\n",
       "      <td>2016-01-02</td>\n",
       "      <td>2016-01-05</td>\n",
       "      <td>2016-01-03</td>\n",
       "      <td>2</td>\n",
       "      <td>7</td>\n",
       "    </tr>\n",
       "    <tr>\n",
       "      <th>3</th>\n",
       "      <td>4</td>\n",
       "      <td>175</td>\n",
       "      <td>4</td>\n",
       "      <td>2016-01-03</td>\n",
       "      <td>2016-01-04</td>\n",
       "      <td>2016-01-05</td>\n",
       "      <td>1</td>\n",
       "      <td>3</td>\n",
       "    </tr>\n",
       "    <tr>\n",
       "      <th>4</th>\n",
       "      <td>5</td>\n",
       "      <td>1324</td>\n",
       "      <td>4</td>\n",
       "      <td>2016-01-03</td>\n",
       "      <td>2016-01-06</td>\n",
       "      <td>2016-01-06</td>\n",
       "      <td>2</td>\n",
       "      <td>6</td>\n",
       "    </tr>\n",
       "  </tbody>\n",
       "</table>\n",
       "</div>"
      ],
      "text/plain": [
       "   order_id  customer_id  order_status order_date required_date shipped_date  \\\n",
       "0         1          259             4 2016-01-01    2016-01-03   2016-01-03   \n",
       "1         2         1212             4 2016-01-01    2016-01-04   2016-01-03   \n",
       "2         3          523             4 2016-01-02    2016-01-05   2016-01-03   \n",
       "3         4          175             4 2016-01-03    2016-01-04   2016-01-05   \n",
       "4         5         1324             4 2016-01-03    2016-01-06   2016-01-06   \n",
       "\n",
       "   store_id  staff_id  \n",
       "0         1         2  \n",
       "1         2         6  \n",
       "2         2         7  \n",
       "3         1         3  \n",
       "4         2         6  "
      ]
     },
     "execution_count": 58,
     "metadata": {},
     "output_type": "execute_result"
    }
   ],
   "source": [
    "# convert order_date , required_date, and shipped_date from object to datetime\n",
    "orders['order_date'] = pd.to_datetime(orders['order_date'], errors='coerce')\n",
    "orders['required_date'] = pd.to_datetime(orders['required_date'], errors='coerce')\n",
    "orders['shipped_date'] = pd.to_datetime(orders['shipped_date'], errors='coerce')\n",
    "orders.head()"
   ]
  },
  {
   "cell_type": "code",
   "execution_count": 59,
   "id": "8ffe4cd0-eeb8-448f-9899-094c834157be",
   "metadata": {},
   "outputs": [
    {
     "name": "stdout",
     "output_type": "stream",
     "text": [
      "<class 'pandas.core.frame.DataFrame'>\n",
      "Index: 1445 entries, 0 to 1477\n",
      "Data columns (total 8 columns):\n",
      " #   Column         Non-Null Count  Dtype         \n",
      "---  ------         --------------  -----         \n",
      " 0   order_id       1445 non-null   int64         \n",
      " 1   customer_id    1445 non-null   int64         \n",
      " 2   order_status   1445 non-null   int64         \n",
      " 3   order_date     1445 non-null   datetime64[ns]\n",
      " 4   required_date  1445 non-null   datetime64[ns]\n",
      " 5   shipped_date   1445 non-null   datetime64[ns]\n",
      " 6   store_id       1445 non-null   int64         \n",
      " 7   staff_id       1445 non-null   int64         \n",
      "dtypes: datetime64[ns](3), int64(5)\n",
      "memory usage: 101.6 KB\n"
     ]
    }
   ],
   "source": [
    "orders.info()"
   ]
  },
  {
   "cell_type": "code",
   "execution_count": 60,
   "id": "9cc423c8-09e4-4d69-bef6-4cce625273b1",
   "metadata": {},
   "outputs": [
    {
     "data": {
      "text/plain": [
       "order_id         0\n",
       "customer_id      0\n",
       "order_status     0\n",
       "order_date       0\n",
       "required_date    0\n",
       "shipped_date     0\n",
       "store_id         0\n",
       "staff_id         0\n",
       "dtype: int64"
      ]
     },
     "execution_count": 60,
     "metadata": {},
     "output_type": "execute_result"
    }
   ],
   "source": [
    "orders.isna().sum()"
   ]
  },
  {
   "cell_type": "code",
   "execution_count": null,
   "id": "c05c5f69-d6cc-4a2a-9e70-0bd30b9efdf7",
   "metadata": {},
   "outputs": [],
   "source": []
  },
  {
   "cell_type": "code",
   "execution_count": null,
   "id": "4e477916-616f-484f-b292-77fa96eb03ed",
   "metadata": {},
   "outputs": [],
   "source": []
  },
  {
   "cell_type": "code",
   "execution_count": null,
   "id": "0f7666ae-b547-4eba-b39e-eba3c6938ee0",
   "metadata": {},
   "outputs": [],
   "source": []
  },
  {
   "cell_type": "markdown",
   "id": "51d5ad73-4045-4d3b-921c-15e925bd3ec0",
   "metadata": {},
   "source": [
    "## `order_items` data"
   ]
  },
  {
   "cell_type": "code",
   "execution_count": 4,
   "id": "ab3436c4-dfa8-487b-ad4d-f6ae4737b8a9",
   "metadata": {},
   "outputs": [
    {
     "data": {
      "text/html": [
       "<div>\n",
       "<style scoped>\n",
       "    .dataframe tbody tr th:only-of-type {\n",
       "        vertical-align: middle;\n",
       "    }\n",
       "\n",
       "    .dataframe tbody tr th {\n",
       "        vertical-align: top;\n",
       "    }\n",
       "\n",
       "    .dataframe thead th {\n",
       "        text-align: right;\n",
       "    }\n",
       "</style>\n",
       "<table border=\"1\" class=\"dataframe\">\n",
       "  <thead>\n",
       "    <tr style=\"text-align: right;\">\n",
       "      <th></th>\n",
       "      <th>order_id</th>\n",
       "      <th>item_id</th>\n",
       "      <th>product_id</th>\n",
       "      <th>quantity</th>\n",
       "      <th>list_price</th>\n",
       "      <th>discount</th>\n",
       "    </tr>\n",
       "  </thead>\n",
       "  <tbody>\n",
       "    <tr>\n",
       "      <th>0</th>\n",
       "      <td>1</td>\n",
       "      <td>1</td>\n",
       "      <td>20</td>\n",
       "      <td>1</td>\n",
       "      <td>599.99</td>\n",
       "      <td>0.20</td>\n",
       "    </tr>\n",
       "    <tr>\n",
       "      <th>1</th>\n",
       "      <td>1</td>\n",
       "      <td>2</td>\n",
       "      <td>8</td>\n",
       "      <td>2</td>\n",
       "      <td>1799.99</td>\n",
       "      <td>0.07</td>\n",
       "    </tr>\n",
       "    <tr>\n",
       "      <th>2</th>\n",
       "      <td>1</td>\n",
       "      <td>3</td>\n",
       "      <td>10</td>\n",
       "      <td>2</td>\n",
       "      <td>1549.00</td>\n",
       "      <td>0.05</td>\n",
       "    </tr>\n",
       "    <tr>\n",
       "      <th>3</th>\n",
       "      <td>1</td>\n",
       "      <td>4</td>\n",
       "      <td>16</td>\n",
       "      <td>2</td>\n",
       "      <td>599.99</td>\n",
       "      <td>0.05</td>\n",
       "    </tr>\n",
       "    <tr>\n",
       "      <th>4</th>\n",
       "      <td>1</td>\n",
       "      <td>5</td>\n",
       "      <td>4</td>\n",
       "      <td>1</td>\n",
       "      <td>2899.99</td>\n",
       "      <td>0.20</td>\n",
       "    </tr>\n",
       "  </tbody>\n",
       "</table>\n",
       "</div>"
      ],
      "text/plain": [
       "   order_id item_id  product_id  quantity  list_price  discount\n",
       "0         1       1          20         1      599.99      0.20\n",
       "1         1       2           8         2     1799.99      0.07\n",
       "2         1       3          10         2     1549.00      0.05\n",
       "3         1       4          16         2      599.99      0.05\n",
       "4         1       5           4         1     2899.99      0.20"
      ]
     },
     "execution_count": 4,
     "metadata": {},
     "output_type": "execute_result"
    }
   ],
   "source": [
    "data_path = \"D:\\\\ITI\\\\Python\\\\ITI_Python_for_Data_Management\\\\data\\\\source\\\\order_items.csv\"\n",
    "orderitems = pd.read_csv(data_path)\n",
    "orderitems.head()"
   ]
  },
  {
   "cell_type": "code",
   "execution_count": 5,
   "id": "95fe5562-1b79-47ae-9f4c-ab8ae14a2001",
   "metadata": {},
   "outputs": [
    {
     "name": "stdout",
     "output_type": "stream",
     "text": [
      "<class 'pandas.core.frame.DataFrame'>\n",
      "RangeIndex: 4764 entries, 0 to 4763\n",
      "Data columns (total 6 columns):\n",
      " #   Column      Non-Null Count  Dtype  \n",
      "---  ------      --------------  -----  \n",
      " 0   order_id    4764 non-null   int64  \n",
      " 1   item_id     4764 non-null   object \n",
      " 2   product_id  4764 non-null   int64  \n",
      " 3   quantity    4764 non-null   int64  \n",
      " 4   list_price  4764 non-null   float64\n",
      " 5   discount    4764 non-null   float64\n",
      "dtypes: float64(2), int64(3), object(1)\n",
      "memory usage: 223.4+ KB\n"
     ]
    }
   ],
   "source": [
    "orderitems.info()"
   ]
  },
  {
   "cell_type": "code",
   "execution_count": 6,
   "id": "f9ae3132-d5b1-49f5-800a-14bd2d415fc5",
   "metadata": {},
   "outputs": [
    {
     "data": {
      "text/plain": [
       "order_id      0\n",
       "item_id       0\n",
       "product_id    0\n",
       "quantity      0\n",
       "list_price    0\n",
       "discount      0\n",
       "dtype: int64"
      ]
     },
     "execution_count": 6,
     "metadata": {},
     "output_type": "execute_result"
    }
   ],
   "source": [
    "orderitems.isna().sum()"
   ]
  },
  {
   "cell_type": "markdown",
   "id": "3ff959f5-9d14-433c-a0c9-20f6912496c6",
   "metadata": {},
   "source": [
    "# Create the tables"
   ]
  },
  {
   "cell_type": "code",
   "execution_count": 7,
   "id": "144204ce-bf9b-47e8-b235-728047d9bc9f",
   "metadata": {},
   "outputs": [],
   "source": [
    "cursor = conn.cursor()"
   ]
  },
  {
   "cell_type": "code",
   "execution_count": 22,
   "id": "6bc1fffc-c3a3-4a62-b956-530ba9f9acad",
   "metadata": {},
   "outputs": [],
   "source": [
    "cursor.execute('''CREATE TABLE orders (\n",
    "                    order_id INT PRIMARY KEY, \n",
    "                    customer_id INT,\n",
    "                    order_status INT,\n",
    "                    order_date DATE,\n",
    "                    required_date DATE,\n",
    "                    shipped_date DATE ,\n",
    "                    store_id INT,\n",
    "                    staff_id INT\n",
    "                )''')\n",
    "conn.commit()"
   ]
  },
  {
   "cell_type": "code",
   "execution_count": 77,
   "id": "eb5f63a2-59f7-450e-900d-dc628315b7bc",
   "metadata": {},
   "outputs": [],
   "source": [
    "cursor.execute('''CREATE TABLE order_items (\n",
    "                    order_id INT, \n",
    "                    item_id VARCHAR(255),\n",
    "                    product_id INT,\n",
    "                    quantity INT,\n",
    "                    list_price FLOAT,\n",
    "                    discount FLOAT\n",
    "                )''')\n",
    "conn.commit()"
   ]
  },
  {
   "cell_type": "markdown",
   "id": "5deb28c9-7e38-4368-a6b8-956f8d1ded6d",
   "metadata": {},
   "source": [
    "# Write the data of csv file into the table"
   ]
  },
  {
   "cell_type": "code",
   "execution_count": 64,
   "id": "b8d274d4-380b-4eed-9119-d23cd0997e4d",
   "metadata": {},
   "outputs": [],
   "source": [
    "cursor = conn.cursor()\n",
    "\n",
    "for index, row in orders.iterrows():\n",
    "    cursor.execute(\n",
    "        f\"INSERT INTO orders (order_id, customer_id, order_status, order_date, required_date, shipped_date, store_id, staff_id) VALUES (?, ?, ?, ?, ?, ?, ?, ?)\",\n",
    "        row['order_id'], row['customer_id'] ,row['order_status'], row['order_date'], row['required_date'], row['shipped_date'], row['store_id'], row['staff_id']\n",
    "    )\n",
    "\n",
    "conn.commit()"
   ]
  },
  {
   "cell_type": "code",
   "execution_count": 79,
   "id": "5957b526-dce9-4107-8e27-bb73f7c15478",
   "metadata": {},
   "outputs": [],
   "source": [
    "cursor = conn.cursor()\n",
    "\n",
    "for index, row in orderitems.iterrows():\n",
    "    cursor.execute(\n",
    "        f\"INSERT INTO order_items (order_id, item_id, product_id, quantity, list_price, discount) VALUES (?, ?, ?, ?, ?, ?)\",\n",
    "        row['order_id'], row['item_id'] ,row['product_id'], row['quantity'], row['list_price'], row['discount']\n",
    "    )\n",
    "\n",
    "conn.commit()"
   ]
  },
  {
   "cell_type": "code",
   "execution_count": null,
   "id": "1f2982b6-312f-4c05-9845-2f6d45b22a82",
   "metadata": {},
   "outputs": [],
   "source": []
  },
  {
   "cell_type": "code",
   "execution_count": null,
   "id": "bc3c8205-0295-42d8-9e9e-3f4395edcc68",
   "metadata": {},
   "outputs": [],
   "source": []
  },
  {
   "cell_type": "markdown",
   "id": "be0a111c-852d-40d1-97e8-0ebbd6c0bbb5",
   "metadata": {},
   "source": [
    "# Extract the data from SQL-Server"
   ]
  },
  {
   "cell_type": "markdown",
   "id": "1cc44a99-ab6f-4e2a-bcc5-47c7bd5199e3",
   "metadata": {},
   "source": [
    "## Orders Table"
   ]
  },
  {
   "cell_type": "code",
   "execution_count": 8,
   "id": "849c9d41-b4fe-4b76-875d-e2ff49238b8a",
   "metadata": {},
   "outputs": [
    {
     "name": "stderr",
     "output_type": "stream",
     "text": [
      "C:\\Users\\Abdelrahman\\AppData\\Local\\Temp\\ipykernel_14384\\4085080963.py:4: UserWarning: pandas only supports SQLAlchemy connectable (engine/connection) or database string URI or sqlite3 DBAPI2 connection. Other DBAPI2 objects are not tested. Please consider using SQLAlchemy.\n",
      "  df1 = pd.read_sql(query, conn)\n"
     ]
    }
   ],
   "source": [
    "query = 'SELECT * FROM orders'\n",
    "\n",
    "# Extract data from the table into a DataFrame\n",
    "df1 = pd.read_sql(query, conn)"
   ]
  },
  {
   "cell_type": "code",
   "execution_count": 9,
   "id": "74574d91-7df2-44ba-b234-1cabdc5a3b0d",
   "metadata": {},
   "outputs": [
    {
     "data": {
      "text/html": [
       "<div>\n",
       "<style scoped>\n",
       "    .dataframe tbody tr th:only-of-type {\n",
       "        vertical-align: middle;\n",
       "    }\n",
       "\n",
       "    .dataframe tbody tr th {\n",
       "        vertical-align: top;\n",
       "    }\n",
       "\n",
       "    .dataframe thead th {\n",
       "        text-align: right;\n",
       "    }\n",
       "</style>\n",
       "<table border=\"1\" class=\"dataframe\">\n",
       "  <thead>\n",
       "    <tr style=\"text-align: right;\">\n",
       "      <th></th>\n",
       "      <th>order_id</th>\n",
       "      <th>customer_id</th>\n",
       "      <th>order_status</th>\n",
       "      <th>order_date</th>\n",
       "      <th>required_date</th>\n",
       "      <th>shipped_date</th>\n",
       "      <th>store_id</th>\n",
       "      <th>staff_id</th>\n",
       "    </tr>\n",
       "  </thead>\n",
       "  <tbody>\n",
       "    <tr>\n",
       "      <th>0</th>\n",
       "      <td>1</td>\n",
       "      <td>259</td>\n",
       "      <td>4</td>\n",
       "      <td>2016-01-01</td>\n",
       "      <td>2016-01-03</td>\n",
       "      <td>2016-01-03</td>\n",
       "      <td>1</td>\n",
       "      <td>2</td>\n",
       "    </tr>\n",
       "    <tr>\n",
       "      <th>1</th>\n",
       "      <td>2</td>\n",
       "      <td>1212</td>\n",
       "      <td>4</td>\n",
       "      <td>2016-01-01</td>\n",
       "      <td>2016-01-04</td>\n",
       "      <td>2016-01-03</td>\n",
       "      <td>2</td>\n",
       "      <td>6</td>\n",
       "    </tr>\n",
       "    <tr>\n",
       "      <th>2</th>\n",
       "      <td>3</td>\n",
       "      <td>523</td>\n",
       "      <td>4</td>\n",
       "      <td>2016-01-02</td>\n",
       "      <td>2016-01-05</td>\n",
       "      <td>2016-01-03</td>\n",
       "      <td>2</td>\n",
       "      <td>7</td>\n",
       "    </tr>\n",
       "    <tr>\n",
       "      <th>3</th>\n",
       "      <td>4</td>\n",
       "      <td>175</td>\n",
       "      <td>4</td>\n",
       "      <td>2016-01-03</td>\n",
       "      <td>2016-01-04</td>\n",
       "      <td>2016-01-05</td>\n",
       "      <td>1</td>\n",
       "      <td>3</td>\n",
       "    </tr>\n",
       "    <tr>\n",
       "      <th>4</th>\n",
       "      <td>5</td>\n",
       "      <td>1324</td>\n",
       "      <td>4</td>\n",
       "      <td>2016-01-03</td>\n",
       "      <td>2016-01-06</td>\n",
       "      <td>2016-01-06</td>\n",
       "      <td>2</td>\n",
       "      <td>6</td>\n",
       "    </tr>\n",
       "  </tbody>\n",
       "</table>\n",
       "</div>"
      ],
      "text/plain": [
       "   order_id  customer_id  order_status  order_date required_date shipped_date  \\\n",
       "0         1          259             4  2016-01-01    2016-01-03   2016-01-03   \n",
       "1         2         1212             4  2016-01-01    2016-01-04   2016-01-03   \n",
       "2         3          523             4  2016-01-02    2016-01-05   2016-01-03   \n",
       "3         4          175             4  2016-01-03    2016-01-04   2016-01-05   \n",
       "4         5         1324             4  2016-01-03    2016-01-06   2016-01-06   \n",
       "\n",
       "   store_id  staff_id  \n",
       "0         1         2  \n",
       "1         2         6  \n",
       "2         2         7  \n",
       "3         1         3  \n",
       "4         2         6  "
      ]
     },
     "execution_count": 9,
     "metadata": {},
     "output_type": "execute_result"
    }
   ],
   "source": [
    "df1.head()"
   ]
  },
  {
   "cell_type": "code",
   "execution_count": 10,
   "id": "f7b43a42-724e-461b-991c-154dfb47952b",
   "metadata": {},
   "outputs": [
    {
     "name": "stdout",
     "output_type": "stream",
     "text": [
      "<class 'pandas.core.frame.DataFrame'>\n",
      "RangeIndex: 1445 entries, 0 to 1444\n",
      "Data columns (total 8 columns):\n",
      " #   Column         Non-Null Count  Dtype \n",
      "---  ------         --------------  ----- \n",
      " 0   order_id       1445 non-null   int64 \n",
      " 1   customer_id    1445 non-null   int64 \n",
      " 2   order_status   1445 non-null   int64 \n",
      " 3   order_date     1445 non-null   object\n",
      " 4   required_date  1445 non-null   object\n",
      " 5   shipped_date   1445 non-null   object\n",
      " 6   store_id       1445 non-null   int64 \n",
      " 7   staff_id       1445 non-null   int64 \n",
      "dtypes: int64(5), object(3)\n",
      "memory usage: 90.4+ KB\n"
     ]
    }
   ],
   "source": [
    "df1.info()"
   ]
  },
  {
   "cell_type": "code",
   "execution_count": 11,
   "id": "26486947-8c45-48a8-b48b-f4a97ed8ca3e",
   "metadata": {},
   "outputs": [
    {
     "data": {
      "text/plain": [
       "order_id         0\n",
       "customer_id      0\n",
       "order_status     0\n",
       "order_date       0\n",
       "required_date    0\n",
       "shipped_date     0\n",
       "store_id         0\n",
       "staff_id         0\n",
       "dtype: int64"
      ]
     },
     "execution_count": 11,
     "metadata": {},
     "output_type": "execute_result"
    }
   ],
   "source": [
    "df1.isna().sum()"
   ]
  },
  {
   "cell_type": "code",
   "execution_count": 12,
   "id": "07ce823f-4ae8-4064-a010-97fe30f368ce",
   "metadata": {},
   "outputs": [
    {
     "data": {
      "text/html": [
       "<div>\n",
       "<style scoped>\n",
       "    .dataframe tbody tr th:only-of-type {\n",
       "        vertical-align: middle;\n",
       "    }\n",
       "\n",
       "    .dataframe tbody tr th {\n",
       "        vertical-align: top;\n",
       "    }\n",
       "\n",
       "    .dataframe thead th {\n",
       "        text-align: right;\n",
       "    }\n",
       "</style>\n",
       "<table border=\"1\" class=\"dataframe\">\n",
       "  <thead>\n",
       "    <tr style=\"text-align: right;\">\n",
       "      <th></th>\n",
       "      <th>order_id</th>\n",
       "      <th>customer_id</th>\n",
       "      <th>order_status</th>\n",
       "      <th>order_date</th>\n",
       "      <th>required_date</th>\n",
       "      <th>shipped_date</th>\n",
       "      <th>store_id</th>\n",
       "      <th>staff_id</th>\n",
       "      <th>Extraction_Date</th>\n",
       "      <th>source</th>\n",
       "    </tr>\n",
       "  </thead>\n",
       "  <tbody>\n",
       "    <tr>\n",
       "      <th>0</th>\n",
       "      <td>1</td>\n",
       "      <td>259</td>\n",
       "      <td>4</td>\n",
       "      <td>2016-01-01</td>\n",
       "      <td>2016-01-03</td>\n",
       "      <td>2016-01-03</td>\n",
       "      <td>1</td>\n",
       "      <td>2</td>\n",
       "      <td>1.714563e+09</td>\n",
       "      <td>SQL-Server</td>\n",
       "    </tr>\n",
       "    <tr>\n",
       "      <th>1</th>\n",
       "      <td>2</td>\n",
       "      <td>1212</td>\n",
       "      <td>4</td>\n",
       "      <td>2016-01-01</td>\n",
       "      <td>2016-01-04</td>\n",
       "      <td>2016-01-03</td>\n",
       "      <td>2</td>\n",
       "      <td>6</td>\n",
       "      <td>1.714563e+09</td>\n",
       "      <td>SQL-Server</td>\n",
       "    </tr>\n",
       "    <tr>\n",
       "      <th>2</th>\n",
       "      <td>3</td>\n",
       "      <td>523</td>\n",
       "      <td>4</td>\n",
       "      <td>2016-01-02</td>\n",
       "      <td>2016-01-05</td>\n",
       "      <td>2016-01-03</td>\n",
       "      <td>2</td>\n",
       "      <td>7</td>\n",
       "      <td>1.714563e+09</td>\n",
       "      <td>SQL-Server</td>\n",
       "    </tr>\n",
       "    <tr>\n",
       "      <th>3</th>\n",
       "      <td>4</td>\n",
       "      <td>175</td>\n",
       "      <td>4</td>\n",
       "      <td>2016-01-03</td>\n",
       "      <td>2016-01-04</td>\n",
       "      <td>2016-01-05</td>\n",
       "      <td>1</td>\n",
       "      <td>3</td>\n",
       "      <td>1.714563e+09</td>\n",
       "      <td>SQL-Server</td>\n",
       "    </tr>\n",
       "    <tr>\n",
       "      <th>4</th>\n",
       "      <td>5</td>\n",
       "      <td>1324</td>\n",
       "      <td>4</td>\n",
       "      <td>2016-01-03</td>\n",
       "      <td>2016-01-06</td>\n",
       "      <td>2016-01-06</td>\n",
       "      <td>2</td>\n",
       "      <td>6</td>\n",
       "      <td>1.714563e+09</td>\n",
       "      <td>SQL-Server</td>\n",
       "    </tr>\n",
       "  </tbody>\n",
       "</table>\n",
       "</div>"
      ],
      "text/plain": [
       "   order_id  customer_id  order_status  order_date required_date shipped_date  \\\n",
       "0         1          259             4  2016-01-01    2016-01-03   2016-01-03   \n",
       "1         2         1212             4  2016-01-01    2016-01-04   2016-01-03   \n",
       "2         3          523             4  2016-01-02    2016-01-05   2016-01-03   \n",
       "3         4          175             4  2016-01-03    2016-01-04   2016-01-05   \n",
       "4         5         1324             4  2016-01-03    2016-01-06   2016-01-06   \n",
       "\n",
       "   store_id  staff_id  Extraction_Date      source  \n",
       "0         1         2     1.714563e+09  SQL-Server  \n",
       "1         2         6     1.714563e+09  SQL-Server  \n",
       "2         2         7     1.714563e+09  SQL-Server  \n",
       "3         1         3     1.714563e+09  SQL-Server  \n",
       "4         2         6     1.714563e+09  SQL-Server  "
      ]
     },
     "execution_count": 12,
     "metadata": {},
     "output_type": "execute_result"
    }
   ],
   "source": [
    "import time\n",
    "df1['Extraction_Date'] = time.time()\n",
    "df1['source'] = 'SQL-Server'\n",
    "\n",
    "df1.head()"
   ]
  },
  {
   "cell_type": "markdown",
   "id": "4ff56063-cbf7-43fe-8637-e56b5167d359",
   "metadata": {},
   "source": [
    "## Order_items Table"
   ]
  },
  {
   "cell_type": "code",
   "execution_count": 20,
   "id": "3b7c25e7-e904-463f-ae39-d6ff6baee1f4",
   "metadata": {},
   "outputs": [
    {
     "name": "stderr",
     "output_type": "stream",
     "text": [
      "C:\\Users\\Abdelrahman\\AppData\\Local\\Temp\\ipykernel_27256\\455844377.py:4: UserWarning: pandas only supports SQLAlchemy connectable (engine/connection) or database string URI or sqlite3 DBAPI2 connection. Other DBAPI2 objects are not tested. Please consider using SQLAlchemy.\n",
      "  df2 = pd.read_sql(query2, conn)\n"
     ]
    }
   ],
   "source": [
    "query2 = 'SELECT * FROM order_items'\n",
    "\n",
    "# Extract data from the table into a DataFrame\n",
    "df2 = pd.read_sql(query2, conn)"
   ]
  },
  {
   "cell_type": "code",
   "execution_count": 21,
   "id": "a4a1558a-104d-42c2-9731-8e81fb444695",
   "metadata": {},
   "outputs": [
    {
     "data": {
      "text/html": [
       "<div>\n",
       "<style scoped>\n",
       "    .dataframe tbody tr th:only-of-type {\n",
       "        vertical-align: middle;\n",
       "    }\n",
       "\n",
       "    .dataframe tbody tr th {\n",
       "        vertical-align: top;\n",
       "    }\n",
       "\n",
       "    .dataframe thead th {\n",
       "        text-align: right;\n",
       "    }\n",
       "</style>\n",
       "<table border=\"1\" class=\"dataframe\">\n",
       "  <thead>\n",
       "    <tr style=\"text-align: right;\">\n",
       "      <th></th>\n",
       "      <th>order_id</th>\n",
       "      <th>item_id</th>\n",
       "      <th>product_id</th>\n",
       "      <th>quantity</th>\n",
       "      <th>list_price</th>\n",
       "      <th>discount</th>\n",
       "    </tr>\n",
       "  </thead>\n",
       "  <tbody>\n",
       "    <tr>\n",
       "      <th>0</th>\n",
       "      <td>1</td>\n",
       "      <td>1</td>\n",
       "      <td>20</td>\n",
       "      <td>1</td>\n",
       "      <td>599.99</td>\n",
       "      <td>0.20</td>\n",
       "    </tr>\n",
       "    <tr>\n",
       "      <th>1</th>\n",
       "      <td>1</td>\n",
       "      <td>2</td>\n",
       "      <td>8</td>\n",
       "      <td>2</td>\n",
       "      <td>1799.99</td>\n",
       "      <td>0.07</td>\n",
       "    </tr>\n",
       "    <tr>\n",
       "      <th>2</th>\n",
       "      <td>1</td>\n",
       "      <td>3</td>\n",
       "      <td>10</td>\n",
       "      <td>2</td>\n",
       "      <td>1549.00</td>\n",
       "      <td>0.05</td>\n",
       "    </tr>\n",
       "    <tr>\n",
       "      <th>3</th>\n",
       "      <td>1</td>\n",
       "      <td>4</td>\n",
       "      <td>16</td>\n",
       "      <td>2</td>\n",
       "      <td>599.99</td>\n",
       "      <td>0.05</td>\n",
       "    </tr>\n",
       "    <tr>\n",
       "      <th>4</th>\n",
       "      <td>1</td>\n",
       "      <td>5</td>\n",
       "      <td>4</td>\n",
       "      <td>1</td>\n",
       "      <td>2899.99</td>\n",
       "      <td>0.20</td>\n",
       "    </tr>\n",
       "  </tbody>\n",
       "</table>\n",
       "</div>"
      ],
      "text/plain": [
       "   order_id item_id  product_id  quantity  list_price  discount\n",
       "0         1       1          20         1      599.99      0.20\n",
       "1         1       2           8         2     1799.99      0.07\n",
       "2         1       3          10         2     1549.00      0.05\n",
       "3         1       4          16         2      599.99      0.05\n",
       "4         1       5           4         1     2899.99      0.20"
      ]
     },
     "execution_count": 21,
     "metadata": {},
     "output_type": "execute_result"
    }
   ],
   "source": [
    "df2.head()"
   ]
  },
  {
   "cell_type": "code",
   "execution_count": 22,
   "id": "ee9cfec8-6bc6-4b4a-847e-506055fe52e5",
   "metadata": {},
   "outputs": [
    {
     "name": "stdout",
     "output_type": "stream",
     "text": [
      "<class 'pandas.core.frame.DataFrame'>\n",
      "RangeIndex: 4764 entries, 0 to 4763\n",
      "Data columns (total 6 columns):\n",
      " #   Column      Non-Null Count  Dtype  \n",
      "---  ------      --------------  -----  \n",
      " 0   order_id    4764 non-null   int64  \n",
      " 1   item_id     4764 non-null   object \n",
      " 2   product_id  4764 non-null   int64  \n",
      " 3   quantity    4764 non-null   int64  \n",
      " 4   list_price  4764 non-null   float64\n",
      " 5   discount    4764 non-null   float64\n",
      "dtypes: float64(2), int64(3), object(1)\n",
      "memory usage: 223.4+ KB\n"
     ]
    }
   ],
   "source": [
    "df2.info()"
   ]
  },
  {
   "cell_type": "code",
   "execution_count": 23,
   "id": "0ee8dbf8-8fa8-41a3-ac2a-4afb1888c1f0",
   "metadata": {},
   "outputs": [
    {
     "data": {
      "text/plain": [
       "order_id      0\n",
       "item_id       0\n",
       "product_id    0\n",
       "quantity      0\n",
       "list_price    0\n",
       "discount      0\n",
       "dtype: int64"
      ]
     },
     "execution_count": 23,
     "metadata": {},
     "output_type": "execute_result"
    }
   ],
   "source": [
    "df2.isna().sum()"
   ]
  },
  {
   "cell_type": "code",
   "execution_count": 24,
   "id": "7267b968-b0e3-4fad-a2db-d0737ed9c957",
   "metadata": {},
   "outputs": [
    {
     "data": {
      "text/html": [
       "<div>\n",
       "<style scoped>\n",
       "    .dataframe tbody tr th:only-of-type {\n",
       "        vertical-align: middle;\n",
       "    }\n",
       "\n",
       "    .dataframe tbody tr th {\n",
       "        vertical-align: top;\n",
       "    }\n",
       "\n",
       "    .dataframe thead th {\n",
       "        text-align: right;\n",
       "    }\n",
       "</style>\n",
       "<table border=\"1\" class=\"dataframe\">\n",
       "  <thead>\n",
       "    <tr style=\"text-align: right;\">\n",
       "      <th></th>\n",
       "      <th>order_id</th>\n",
       "      <th>item_id</th>\n",
       "      <th>product_id</th>\n",
       "      <th>quantity</th>\n",
       "      <th>list_price</th>\n",
       "      <th>discount</th>\n",
       "      <th>current_timestamp</th>\n",
       "      <th>source</th>\n",
       "    </tr>\n",
       "  </thead>\n",
       "  <tbody>\n",
       "    <tr>\n",
       "      <th>0</th>\n",
       "      <td>1</td>\n",
       "      <td>1</td>\n",
       "      <td>20</td>\n",
       "      <td>1</td>\n",
       "      <td>599.99</td>\n",
       "      <td>0.20</td>\n",
       "      <td>1.714482e+09</td>\n",
       "      <td>SQL-Server</td>\n",
       "    </tr>\n",
       "    <tr>\n",
       "      <th>1</th>\n",
       "      <td>1</td>\n",
       "      <td>2</td>\n",
       "      <td>8</td>\n",
       "      <td>2</td>\n",
       "      <td>1799.99</td>\n",
       "      <td>0.07</td>\n",
       "      <td>1.714482e+09</td>\n",
       "      <td>SQL-Server</td>\n",
       "    </tr>\n",
       "    <tr>\n",
       "      <th>2</th>\n",
       "      <td>1</td>\n",
       "      <td>3</td>\n",
       "      <td>10</td>\n",
       "      <td>2</td>\n",
       "      <td>1549.00</td>\n",
       "      <td>0.05</td>\n",
       "      <td>1.714482e+09</td>\n",
       "      <td>SQL-Server</td>\n",
       "    </tr>\n",
       "    <tr>\n",
       "      <th>3</th>\n",
       "      <td>1</td>\n",
       "      <td>4</td>\n",
       "      <td>16</td>\n",
       "      <td>2</td>\n",
       "      <td>599.99</td>\n",
       "      <td>0.05</td>\n",
       "      <td>1.714482e+09</td>\n",
       "      <td>SQL-Server</td>\n",
       "    </tr>\n",
       "    <tr>\n",
       "      <th>4</th>\n",
       "      <td>1</td>\n",
       "      <td>5</td>\n",
       "      <td>4</td>\n",
       "      <td>1</td>\n",
       "      <td>2899.99</td>\n",
       "      <td>0.20</td>\n",
       "      <td>1.714482e+09</td>\n",
       "      <td>SQL-Server</td>\n",
       "    </tr>\n",
       "  </tbody>\n",
       "</table>\n",
       "</div>"
      ],
      "text/plain": [
       "   order_id item_id  product_id  quantity  list_price  discount  \\\n",
       "0         1       1          20         1      599.99      0.20   \n",
       "1         1       2           8         2     1799.99      0.07   \n",
       "2         1       3          10         2     1549.00      0.05   \n",
       "3         1       4          16         2      599.99      0.05   \n",
       "4         1       5           4         1     2899.99      0.20   \n",
       "\n",
       "   current_timestamp      source  \n",
       "0       1.714482e+09  SQL-Server  \n",
       "1       1.714482e+09  SQL-Server  \n",
       "2       1.714482e+09  SQL-Server  \n",
       "3       1.714482e+09  SQL-Server  \n",
       "4       1.714482e+09  SQL-Server  "
      ]
     },
     "execution_count": 24,
     "metadata": {},
     "output_type": "execute_result"
    }
   ],
   "source": [
    "import time\n",
    "df2['current_timestamp'] = time.time()\n",
    "df2['source'] = 'SQL-Server'\n",
    "\n",
    "df2.head()"
   ]
  },
  {
   "cell_type": "code",
   "execution_count": 25,
   "id": "b485855b-b825-4f7a-9ac2-fbccf655b04b",
   "metadata": {},
   "outputs": [],
   "source": [
    "def extract_data(dataframe, tableName):\n",
    "    dataframe.to_csv('landing\\\\{}.csv'.format(tableName), index=False)"
   ]
  },
  {
   "cell_type": "code",
   "execution_count": 16,
   "id": "327b83bf-cb2a-483c-ab92-8acb9ac5a2bd",
   "metadata": {},
   "outputs": [],
   "source": [
    "extract_data(df1, 'orders')"
   ]
  },
  {
   "cell_type": "code",
   "execution_count": 26,
   "id": "8ff6b775-cf32-4a8a-9ca8-9eece8bcaa3d",
   "metadata": {},
   "outputs": [],
   "source": [
    "extract_data(df2, 'order_items')"
   ]
  },
  {
   "cell_type": "code",
   "execution_count": 27,
   "id": "7c33faa1-870f-473b-af58-edf13dab88f2",
   "metadata": {},
   "outputs": [
    {
     "data": {
      "text/html": [
       "<div>\n",
       "<style scoped>\n",
       "    .dataframe tbody tr th:only-of-type {\n",
       "        vertical-align: middle;\n",
       "    }\n",
       "\n",
       "    .dataframe tbody tr th {\n",
       "        vertical-align: top;\n",
       "    }\n",
       "\n",
       "    .dataframe thead th {\n",
       "        text-align: right;\n",
       "    }\n",
       "</style>\n",
       "<table border=\"1\" class=\"dataframe\">\n",
       "  <thead>\n",
       "    <tr style=\"text-align: right;\">\n",
       "      <th></th>\n",
       "      <th>order_id</th>\n",
       "      <th>item_id</th>\n",
       "      <th>product_id</th>\n",
       "      <th>quantity</th>\n",
       "      <th>list_price</th>\n",
       "      <th>discount</th>\n",
       "      <th>current_timestamp</th>\n",
       "      <th>source</th>\n",
       "    </tr>\n",
       "  </thead>\n",
       "  <tbody>\n",
       "    <tr>\n",
       "      <th>0</th>\n",
       "      <td>1</td>\n",
       "      <td>1</td>\n",
       "      <td>20</td>\n",
       "      <td>1</td>\n",
       "      <td>599.99</td>\n",
       "      <td>0.20</td>\n",
       "      <td>1.714482e+09</td>\n",
       "      <td>SQL-Server</td>\n",
       "    </tr>\n",
       "    <tr>\n",
       "      <th>1</th>\n",
       "      <td>1</td>\n",
       "      <td>2</td>\n",
       "      <td>8</td>\n",
       "      <td>2</td>\n",
       "      <td>1799.99</td>\n",
       "      <td>0.07</td>\n",
       "      <td>1.714482e+09</td>\n",
       "      <td>SQL-Server</td>\n",
       "    </tr>\n",
       "    <tr>\n",
       "      <th>2</th>\n",
       "      <td>1</td>\n",
       "      <td>3</td>\n",
       "      <td>10</td>\n",
       "      <td>2</td>\n",
       "      <td>1549.00</td>\n",
       "      <td>0.05</td>\n",
       "      <td>1.714482e+09</td>\n",
       "      <td>SQL-Server</td>\n",
       "    </tr>\n",
       "    <tr>\n",
       "      <th>3</th>\n",
       "      <td>1</td>\n",
       "      <td>4</td>\n",
       "      <td>16</td>\n",
       "      <td>2</td>\n",
       "      <td>599.99</td>\n",
       "      <td>0.05</td>\n",
       "      <td>1.714482e+09</td>\n",
       "      <td>SQL-Server</td>\n",
       "    </tr>\n",
       "    <tr>\n",
       "      <th>4</th>\n",
       "      <td>1</td>\n",
       "      <td>5</td>\n",
       "      <td>4</td>\n",
       "      <td>1</td>\n",
       "      <td>2899.99</td>\n",
       "      <td>0.20</td>\n",
       "      <td>1.714482e+09</td>\n",
       "      <td>SQL-Server</td>\n",
       "    </tr>\n",
       "    <tr>\n",
       "      <th>...</th>\n",
       "      <td>...</td>\n",
       "      <td>...</td>\n",
       "      <td>...</td>\n",
       "      <td>...</td>\n",
       "      <td>...</td>\n",
       "      <td>...</td>\n",
       "      <td>...</td>\n",
       "      <td>...</td>\n",
       "    </tr>\n",
       "    <tr>\n",
       "      <th>4759</th>\n",
       "      <td>1615</td>\n",
       "      <td>9</td>\n",
       "      <td>182</td>\n",
       "      <td>1</td>\n",
       "      <td>2499.99</td>\n",
       "      <td>0.20</td>\n",
       "      <td>1.714482e+09</td>\n",
       "      <td>SQL-Server</td>\n",
       "    </tr>\n",
       "    <tr>\n",
       "      <th>4760</th>\n",
       "      <td>1612</td>\n",
       "      <td>'sz258l'</td>\n",
       "      <td>289</td>\n",
       "      <td>2</td>\n",
       "      <td>319.99</td>\n",
       "      <td>0.05</td>\n",
       "      <td>1.714482e+09</td>\n",
       "      <td>SQL-Server</td>\n",
       "    </tr>\n",
       "    <tr>\n",
       "      <th>4761</th>\n",
       "      <td>1612</td>\n",
       "      <td>'sz756l'</td>\n",
       "      <td>101</td>\n",
       "      <td>2</td>\n",
       "      <td>339.99</td>\n",
       "      <td>0.20</td>\n",
       "      <td>1.714482e+09</td>\n",
       "      <td>SQL-Server</td>\n",
       "    </tr>\n",
       "    <tr>\n",
       "      <th>4762</th>\n",
       "      <td>1612</td>\n",
       "      <td>'sz758k'</td>\n",
       "      <td>293</td>\n",
       "      <td>2</td>\n",
       "      <td>319.99</td>\n",
       "      <td>0.07</td>\n",
       "      <td>1.714482e+09</td>\n",
       "      <td>SQL-Server</td>\n",
       "    </tr>\n",
       "    <tr>\n",
       "      <th>4763</th>\n",
       "      <td>1612</td>\n",
       "      <td>'sz758l'</td>\n",
       "      <td>60</td>\n",
       "      <td>1</td>\n",
       "      <td>1559.99</td>\n",
       "      <td>0.10</td>\n",
       "      <td>1.714482e+09</td>\n",
       "      <td>SQL-Server</td>\n",
       "    </tr>\n",
       "  </tbody>\n",
       "</table>\n",
       "<p>4764 rows × 8 columns</p>\n",
       "</div>"
      ],
      "text/plain": [
       "      order_id   item_id  product_id  quantity  list_price  discount  \\\n",
       "0            1         1          20         1      599.99      0.20   \n",
       "1            1         2           8         2     1799.99      0.07   \n",
       "2            1         3          10         2     1549.00      0.05   \n",
       "3            1         4          16         2      599.99      0.05   \n",
       "4            1         5           4         1     2899.99      0.20   \n",
       "...        ...       ...         ...       ...         ...       ...   \n",
       "4759      1615         9         182         1     2499.99      0.20   \n",
       "4760      1612  'sz258l'         289         2      319.99      0.05   \n",
       "4761      1612  'sz756l'         101         2      339.99      0.20   \n",
       "4762      1612  'sz758k'         293         2      319.99      0.07   \n",
       "4763      1612  'sz758l'          60         1     1559.99      0.10   \n",
       "\n",
       "      current_timestamp      source  \n",
       "0          1.714482e+09  SQL-Server  \n",
       "1          1.714482e+09  SQL-Server  \n",
       "2          1.714482e+09  SQL-Server  \n",
       "3          1.714482e+09  SQL-Server  \n",
       "4          1.714482e+09  SQL-Server  \n",
       "...                 ...         ...  \n",
       "4759       1.714482e+09  SQL-Server  \n",
       "4760       1.714482e+09  SQL-Server  \n",
       "4761       1.714482e+09  SQL-Server  \n",
       "4762       1.714482e+09  SQL-Server  \n",
       "4763       1.714482e+09  SQL-Server  \n",
       "\n",
       "[4764 rows x 8 columns]"
      ]
     },
     "execution_count": 27,
     "metadata": {},
     "output_type": "execute_result"
    }
   ],
   "source": [
    "df2"
   ]
  },
  {
   "cell_type": "code",
   "execution_count": null,
   "id": "d9215d42-5bfb-4625-9a07-68192384b5db",
   "metadata": {},
   "outputs": [],
   "source": []
  }
 ],
 "metadata": {
  "kernelspec": {
   "display_name": "Python 3 (ipykernel)",
   "language": "python",
   "name": "python3"
  },
  "language_info": {
   "codemirror_mode": {
    "name": "ipython",
    "version": 3
   },
   "file_extension": ".py",
   "mimetype": "text/x-python",
   "name": "python",
   "nbconvert_exporter": "python",
   "pygments_lexer": "ipython3",
   "version": "3.12.1"
  }
 },
 "nbformat": 4,
 "nbformat_minor": 5
}
