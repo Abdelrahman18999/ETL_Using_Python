{
 "cells": [
  {
   "cell_type": "code",
   "execution_count": 9,
   "id": "2810354e-58d4-4d19-88d5-37dfe724dd70",
   "metadata": {},
   "outputs": [],
   "source": [
    "import pandas\n",
    "import os\n",
    "import time\n",
    "import shutil"
   ]
  },
  {
   "cell_type": "code",
   "execution_count": 14,
   "id": "ad98bb2a-ca01-4d6e-82c3-16495b24b152",
   "metadata": {},
   "outputs": [],
   "source": [
    "currentTime = time.time()\n",
    "source = 'datalack'\n",
    "\n",
    "def extract_datalake(path_to_data_folders, fileName):\n",
    "    df = pd.read_csv(\"{}\\\\{}\\\\{}.csv\".format(path_to_data_folders, fileName, fileName))\n",
    "    df['current_timestamp'] = currentTime\n",
    "    df['source'] = source\n",
    "    df.to_csv('landing\\\\{}.csv'.format(fileName), index=False)"
   ]
  },
  {
   "cell_type": "code",
   "execution_count": 17,
   "id": "87ad28cf-3392-42fc-b88d-1cc3820f3955",
   "metadata": {},
   "outputs": [],
   "source": [
    "import os\n",
    "import pandas as pd\n",
    "\n",
    "# Path to the folder\n",
    "path_to_data_folders = 'D:\\\\ITI\\\\Python\\\\ITI_Python_for_Data_Management\\\\bikestore_dim'\n",
    "\n",
    "# List files in the folder\n",
    "files = os.listdir(path_to_data_folders)\n",
    "\n",
    "# Loop through each file\n",
    "for file_name in files:\n",
    "    extract_datalake(path_to_data_folders, file_name)"
   ]
  }
 ],
 "metadata": {
  "kernelspec": {
   "display_name": "Python 3 (ipykernel)",
   "language": "python",
   "name": "python3"
  },
  "language_info": {
   "codemirror_mode": {
    "name": "ipython",
    "version": 3
   },
   "file_extension": ".py",
   "mimetype": "text/x-python",
   "name": "python",
   "nbconvert_exporter": "python",
   "pygments_lexer": "ipython3",
   "version": "3.12.1"
  }
 },
 "nbformat": 4,
 "nbformat_minor": 5
}
