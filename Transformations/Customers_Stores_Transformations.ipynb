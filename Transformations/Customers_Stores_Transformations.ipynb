{
 "cells": [
  {
   "cell_type": "code",
   "execution_count": 1,
   "id": "3e8ad608-2f77-459f-984c-b0c5f4da518a",
   "metadata": {},
   "outputs": [],
   "source": [
    "import pandas as pd"
   ]
  },
  {
   "cell_type": "code",
   "execution_count": 2,
   "id": "198a8719-0055-44f3-af22-d32306cf213d",
   "metadata": {},
   "outputs": [
    {
     "data": {
      "text/html": [
       "<div>\n",
       "<style scoped>\n",
       "    .dataframe tbody tr th:only-of-type {\n",
       "        vertical-align: middle;\n",
       "    }\n",
       "\n",
       "    .dataframe tbody tr th {\n",
       "        vertical-align: top;\n",
       "    }\n",
       "\n",
       "    .dataframe thead th {\n",
       "        text-align: right;\n",
       "    }\n",
       "</style>\n",
       "<table border=\"1\" class=\"dataframe\">\n",
       "  <thead>\n",
       "    <tr style=\"text-align: right;\">\n",
       "      <th></th>\n",
       "      <th>Unnamed: 0</th>\n",
       "      <th>customer_id</th>\n",
       "      <th>first_name</th>\n",
       "      <th>last_name</th>\n",
       "      <th>phone</th>\n",
       "      <th>email</th>\n",
       "      <th>street</th>\n",
       "      <th>city</th>\n",
       "      <th>state</th>\n",
       "      <th>zip_code</th>\n",
       "      <th>Extraction_Date</th>\n",
       "      <th>source</th>\n",
       "    </tr>\n",
       "  </thead>\n",
       "  <tbody>\n",
       "    <tr>\n",
       "      <th>0</th>\n",
       "      <td>0</td>\n",
       "      <td>1</td>\n",
       "      <td>Debra</td>\n",
       "      <td>Burks</td>\n",
       "      <td>UNKNOWN</td>\n",
       "      <td>debra.burks@yahoo.com</td>\n",
       "      <td>9273 Thorne Ave.</td>\n",
       "      <td>Orchard Park</td>\n",
       "      <td>NY</td>\n",
       "      <td>14127</td>\n",
       "      <td>2024-05-01 11:42:23.564626217</td>\n",
       "      <td>datalack</td>\n",
       "    </tr>\n",
       "    <tr>\n",
       "      <th>1</th>\n",
       "      <td>1</td>\n",
       "      <td>2</td>\n",
       "      <td>Kasha</td>\n",
       "      <td>Todd</td>\n",
       "      <td>UNKNOWN</td>\n",
       "      <td>kasha.todd@yahoo.com</td>\n",
       "      <td>910 Vine Street</td>\n",
       "      <td>Campbell</td>\n",
       "      <td>CA</td>\n",
       "      <td>95008</td>\n",
       "      <td>2024-05-01 11:42:23.564626217</td>\n",
       "      <td>datalack</td>\n",
       "    </tr>\n",
       "    <tr>\n",
       "      <th>2</th>\n",
       "      <td>2</td>\n",
       "      <td>3</td>\n",
       "      <td>Tameka</td>\n",
       "      <td>Fisher</td>\n",
       "      <td>UNKNOWN</td>\n",
       "      <td>tameka.fisher@aol.com</td>\n",
       "      <td>769C Honey Creek St.</td>\n",
       "      <td>Redondo Beach</td>\n",
       "      <td>CA</td>\n",
       "      <td>90278</td>\n",
       "      <td>2024-05-01 11:42:23.564626217</td>\n",
       "      <td>datalack</td>\n",
       "    </tr>\n",
       "    <tr>\n",
       "      <th>3</th>\n",
       "      <td>3</td>\n",
       "      <td>4</td>\n",
       "      <td>Daryl</td>\n",
       "      <td>Spence</td>\n",
       "      <td>UNKNOWN</td>\n",
       "      <td>daryl.spence@aol.com</td>\n",
       "      <td>988 Pearl Lane</td>\n",
       "      <td>Uniondale</td>\n",
       "      <td>NY</td>\n",
       "      <td>11553</td>\n",
       "      <td>2024-05-01 11:42:23.564626217</td>\n",
       "      <td>datalack</td>\n",
       "    </tr>\n",
       "    <tr>\n",
       "      <th>4</th>\n",
       "      <td>4</td>\n",
       "      <td>5</td>\n",
       "      <td>Charolette</td>\n",
       "      <td>Rice</td>\n",
       "      <td>(916) 381-6003</td>\n",
       "      <td>charolette.rice@msn.com</td>\n",
       "      <td>107 River Dr.</td>\n",
       "      <td>Sacramento</td>\n",
       "      <td>CA</td>\n",
       "      <td>95820</td>\n",
       "      <td>2024-05-01 11:42:23.564626217</td>\n",
       "      <td>datalack</td>\n",
       "    </tr>\n",
       "  </tbody>\n",
       "</table>\n",
       "</div>"
      ],
      "text/plain": [
       "   Unnamed: 0  customer_id  first_name last_name           phone  \\\n",
       "0           0            1       Debra     Burks         UNKNOWN   \n",
       "1           1            2       Kasha      Todd         UNKNOWN   \n",
       "2           2            3      Tameka    Fisher         UNKNOWN   \n",
       "3           3            4       Daryl    Spence         UNKNOWN   \n",
       "4           4            5  Charolette      Rice  (916) 381-6003   \n",
       "\n",
       "                     email                 street           city state  \\\n",
       "0    debra.burks@yahoo.com      9273 Thorne Ave.    Orchard Park    NY   \n",
       "1     kasha.todd@yahoo.com       910 Vine Street        Campbell    CA   \n",
       "2    tameka.fisher@aol.com  769C Honey Creek St.   Redondo Beach    CA   \n",
       "3     daryl.spence@aol.com        988 Pearl Lane       Uniondale    NY   \n",
       "4  charolette.rice@msn.com         107 River Dr.      Sacramento    CA   \n",
       "\n",
       "   zip_code                Extraction_Date    source  \n",
       "0     14127  2024-05-01 11:42:23.564626217  datalack  \n",
       "1     95008  2024-05-01 11:42:23.564626217  datalack  \n",
       "2     90278  2024-05-01 11:42:23.564626217  datalack  \n",
       "3     11553  2024-05-01 11:42:23.564626217  datalack  \n",
       "4     95820  2024-05-01 11:42:23.564626217  datalack  "
      ]
     },
     "execution_count": 2,
     "metadata": {},
     "output_type": "execute_result"
    }
   ],
   "source": [
    "customers = pd.read_csv(\"D:\\\\ITI\\\\Python\\\\ITI_Python_for_Data_Management\\\\Extraction\\\\Staging_1\\\\customers\\\\customers.csv\")\n",
    "customers.head()"
   ]
  },
  {
   "cell_type": "code",
   "execution_count": 4,
   "id": "2aeac771-b021-486d-a014-c3c4ad53231a",
   "metadata": {},
   "outputs": [
    {
     "data": {
      "text/plain": [
       "Index(['customer_id', 'first_name', 'last_name', 'phone', 'email', 'street',\n",
       "       'city', 'state', 'zip_code', 'Extraction_Date', 'source'],\n",
       "      dtype='object')"
      ]
     },
     "execution_count": 4,
     "metadata": {},
     "output_type": "execute_result"
    }
   ],
   "source": [
    "customers = customers.drop('Unnamed: 0', axis=1)\n",
    "customers.columns"
   ]
  },
  {
   "cell_type": "code",
   "execution_count": 12,
   "id": "a539866d-c736-47d7-b0d8-38b0d6ceac89",
   "metadata": {},
   "outputs": [
    {
     "name": "stdout",
     "output_type": "stream",
     "text": [
      "<class 'pandas.core.frame.DataFrame'>\n",
      "RangeIndex: 1445 entries, 0 to 1444\n",
      "Data columns (total 11 columns):\n",
      " #   Column           Non-Null Count  Dtype \n",
      "---  ------           --------------  ----- \n",
      " 0   customer_id      1445 non-null   int64 \n",
      " 1   first_name       1445 non-null   object\n",
      " 2   last_name        1445 non-null   object\n",
      " 3   phone            1445 non-null   object\n",
      " 4   email            1445 non-null   object\n",
      " 5   street           1445 non-null   object\n",
      " 6   city             1445 non-null   object\n",
      " 7   state            1445 non-null   object\n",
      " 8   zip_code         1445 non-null   int64 \n",
      " 9   Extraction_Date  1445 non-null   object\n",
      " 10  source           1445 non-null   object\n",
      "dtypes: int64(2), object(9)\n",
      "memory usage: 124.3+ KB\n"
     ]
    }
   ],
   "source": [
    "customers.info()"
   ]
  },
  {
   "cell_type": "code",
   "execution_count": 8,
   "id": "6c1685c5-76c8-4064-aa2b-8bb27437b80a",
   "metadata": {},
   "outputs": [
    {
     "data": {
      "text/plain": [
       "(1445, 11)"
      ]
     },
     "execution_count": 8,
     "metadata": {},
     "output_type": "execute_result"
    }
   ],
   "source": [
    "customers.shape"
   ]
  },
  {
   "cell_type": "code",
   "execution_count": 3,
   "id": "d317a805-47c5-413d-b381-67a6eae30cf5",
   "metadata": {},
   "outputs": [
    {
     "data": {
      "text/html": [
       "<div>\n",
       "<style scoped>\n",
       "    .dataframe tbody tr th:only-of-type {\n",
       "        vertical-align: middle;\n",
       "    }\n",
       "\n",
       "    .dataframe tbody tr th {\n",
       "        vertical-align: top;\n",
       "    }\n",
       "\n",
       "    .dataframe thead th {\n",
       "        text-align: right;\n",
       "    }\n",
       "</style>\n",
       "<table border=\"1\" class=\"dataframe\">\n",
       "  <thead>\n",
       "    <tr style=\"text-align: right;\">\n",
       "      <th></th>\n",
       "      <th>Unnamed: 0</th>\n",
       "      <th>store_id</th>\n",
       "      <th>store_name</th>\n",
       "      <th>phone</th>\n",
       "      <th>email</th>\n",
       "      <th>street</th>\n",
       "      <th>city</th>\n",
       "      <th>state</th>\n",
       "      <th>zip_code</th>\n",
       "      <th>Extraction_Date</th>\n",
       "      <th>source</th>\n",
       "    </tr>\n",
       "  </thead>\n",
       "  <tbody>\n",
       "    <tr>\n",
       "      <th>0</th>\n",
       "      <td>1</td>\n",
       "      <td>2</td>\n",
       "      <td>Baldwin Bikes</td>\n",
       "      <td>(516) 379-8888</td>\n",
       "      <td>baldwin@bikes.shop</td>\n",
       "      <td>4200 Chestnut Lane</td>\n",
       "      <td>Baldwin</td>\n",
       "      <td>NY</td>\n",
       "      <td>11432.0</td>\n",
       "      <td>2024-05-01 11:42:23.564626217</td>\n",
       "      <td>datalack</td>\n",
       "    </tr>\n",
       "    <tr>\n",
       "      <th>1</th>\n",
       "      <td>2</td>\n",
       "      <td>3</td>\n",
       "      <td>Rowlett Bikes</td>\n",
       "      <td>(972) 530-5555</td>\n",
       "      <td>rowlett@bikes.shop</td>\n",
       "      <td>8000 Fairway Avenue</td>\n",
       "      <td>Rowlett</td>\n",
       "      <td>TX</td>\n",
       "      <td>75088.0</td>\n",
       "      <td>2024-05-01 11:42:23.564626217</td>\n",
       "      <td>datalack</td>\n",
       "    </tr>\n",
       "  </tbody>\n",
       "</table>\n",
       "</div>"
      ],
      "text/plain": [
       "   Unnamed: 0  store_id     store_name           phone               email  \\\n",
       "0           1         2  Baldwin Bikes  (516) 379-8888  baldwin@bikes.shop   \n",
       "1           2         3  Rowlett Bikes  (972) 530-5555  rowlett@bikes.shop   \n",
       "\n",
       "                street     city state  zip_code  \\\n",
       "0   4200 Chestnut Lane  Baldwin    NY   11432.0   \n",
       "1  8000 Fairway Avenue  Rowlett    TX   75088.0   \n",
       "\n",
       "                 Extraction_Date    source  \n",
       "0  2024-05-01 11:42:23.564626217  datalack  \n",
       "1  2024-05-01 11:42:23.564626217  datalack  "
      ]
     },
     "execution_count": 3,
     "metadata": {},
     "output_type": "execute_result"
    }
   ],
   "source": [
    "stores = pd.read_csv(\"D:\\\\ITI\\\\Python\\\\ITI_Python_for_Data_Management\\\\Extraction\\\\Staging_1\\\\stores\\\\stores.csv\")\n",
    "stores.head()"
   ]
  },
  {
   "cell_type": "code",
   "execution_count": 5,
   "id": "d3f1aaab-455a-4d6e-871e-ee03533c46f7",
   "metadata": {},
   "outputs": [
    {
     "data": {
      "text/plain": [
       "Index(['store_id', 'store_name', 'phone', 'email', 'street', 'city', 'state',\n",
       "       'zip_code', 'Extraction_Date', 'source'],\n",
       "      dtype='object')"
      ]
     },
     "execution_count": 5,
     "metadata": {},
     "output_type": "execute_result"
    }
   ],
   "source": [
    "stores = stores.drop('Unnamed: 0', axis=1)\n",
    "stores.columns"
   ]
  },
  {
   "cell_type": "code",
   "execution_count": 13,
   "id": "e0145a4d-b5a0-4e6a-90f1-8906d7a8e1d2",
   "metadata": {},
   "outputs": [
    {
     "name": "stdout",
     "output_type": "stream",
     "text": [
      "<class 'pandas.core.frame.DataFrame'>\n",
      "RangeIndex: 2 entries, 0 to 1\n",
      "Data columns (total 10 columns):\n",
      " #   Column           Non-Null Count  Dtype  \n",
      "---  ------           --------------  -----  \n",
      " 0   store_id         2 non-null      int64  \n",
      " 1   store_name       2 non-null      object \n",
      " 2   phone            2 non-null      object \n",
      " 3   email            2 non-null      object \n",
      " 4   street           2 non-null      object \n",
      " 5   city             2 non-null      object \n",
      " 6   state            2 non-null      object \n",
      " 7   zip_code         2 non-null      float64\n",
      " 8   Extraction_Date  2 non-null      object \n",
      " 9   source           2 non-null      object \n",
      "dtypes: float64(1), int64(1), object(8)\n",
      "memory usage: 292.0+ bytes\n"
     ]
    }
   ],
   "source": [
    "stores.info()"
   ]
  },
  {
   "cell_type": "code",
   "execution_count": 40,
   "id": "28253fe8-a149-408a-8388-0cb973d30d99",
   "metadata": {},
   "outputs": [
    {
     "data": {
      "text/html": [
       "<div>\n",
       "<style scoped>\n",
       "    .dataframe tbody tr th:only-of-type {\n",
       "        vertical-align: middle;\n",
       "    }\n",
       "\n",
       "    .dataframe tbody tr th {\n",
       "        vertical-align: top;\n",
       "    }\n",
       "\n",
       "    .dataframe thead th {\n",
       "        text-align: right;\n",
       "    }\n",
       "</style>\n",
       "<table border=\"1\" class=\"dataframe\">\n",
       "  <thead>\n",
       "    <tr style=\"text-align: right;\">\n",
       "      <th></th>\n",
       "      <th>city</th>\n",
       "      <th>state</th>\n",
       "    </tr>\n",
       "  </thead>\n",
       "  <tbody>\n",
       "    <tr>\n",
       "      <th>0</th>\n",
       "      <td>Baldwin</td>\n",
       "      <td>NY</td>\n",
       "    </tr>\n",
       "    <tr>\n",
       "      <th>1</th>\n",
       "      <td>Rowlett</td>\n",
       "      <td>TX</td>\n",
       "    </tr>\n",
       "  </tbody>\n",
       "</table>\n",
       "</div>"
      ],
      "text/plain": [
       "      city state\n",
       "0  Baldwin    NY\n",
       "1  Rowlett    TX"
      ]
     },
     "execution_count": 40,
     "metadata": {},
     "output_type": "execute_result"
    }
   ],
   "source": [
    "store_locations = stores[['city', 'state']].drop_duplicates()\n",
    "store_locations.head()"
   ]
  },
  {
   "cell_type": "code",
   "execution_count": 45,
   "id": "13b15662-4136-4760-a6cf-ddd931273092",
   "metadata": {},
   "outputs": [],
   "source": [
    "# Create a set of unique (state, city) combinations in stores\n",
    "store_locations = set(zip(stores['state'], stores['city']))\n",
    "\n",
    "# Add a new column to customers\n",
    "customers['exists_in_stores'] = customers.apply(lambda row: 'YES' if (row['state'], row['city']) in store_locations else 'NO', axis=1)"
   ]
  },
  {
   "cell_type": "code",
   "execution_count": 46,
   "id": "28c894e3-5ac2-4e5f-ba29-8b1cba5d7b6a",
   "metadata": {},
   "outputs": [
    {
     "data": {
      "text/html": [
       "<div>\n",
       "<style scoped>\n",
       "    .dataframe tbody tr th:only-of-type {\n",
       "        vertical-align: middle;\n",
       "    }\n",
       "\n",
       "    .dataframe tbody tr th {\n",
       "        vertical-align: top;\n",
       "    }\n",
       "\n",
       "    .dataframe thead th {\n",
       "        text-align: right;\n",
       "    }\n",
       "</style>\n",
       "<table border=\"1\" class=\"dataframe\">\n",
       "  <thead>\n",
       "    <tr style=\"text-align: right;\">\n",
       "      <th></th>\n",
       "      <th>customer_id</th>\n",
       "      <th>first_name</th>\n",
       "      <th>last_name</th>\n",
       "      <th>phone</th>\n",
       "      <th>email</th>\n",
       "      <th>street</th>\n",
       "      <th>city</th>\n",
       "      <th>state</th>\n",
       "      <th>zip_code</th>\n",
       "      <th>Extraction_Date</th>\n",
       "      <th>source</th>\n",
       "      <th>exists_in_stores</th>\n",
       "    </tr>\n",
       "  </thead>\n",
       "  <tbody>\n",
       "    <tr>\n",
       "      <th>0</th>\n",
       "      <td>1</td>\n",
       "      <td>Debra</td>\n",
       "      <td>Burks</td>\n",
       "      <td>UNKNOWN</td>\n",
       "      <td>debra.burks@yahoo.com</td>\n",
       "      <td>9273 Thorne Ave.</td>\n",
       "      <td>Orchard Park</td>\n",
       "      <td>NY</td>\n",
       "      <td>14127</td>\n",
       "      <td>2024-05-01 11:42:23.564626217</td>\n",
       "      <td>datalack</td>\n",
       "      <td>NO</td>\n",
       "    </tr>\n",
       "    <tr>\n",
       "      <th>1</th>\n",
       "      <td>2</td>\n",
       "      <td>Kasha</td>\n",
       "      <td>Todd</td>\n",
       "      <td>UNKNOWN</td>\n",
       "      <td>kasha.todd@yahoo.com</td>\n",
       "      <td>910 Vine Street</td>\n",
       "      <td>Campbell</td>\n",
       "      <td>CA</td>\n",
       "      <td>95008</td>\n",
       "      <td>2024-05-01 11:42:23.564626217</td>\n",
       "      <td>datalack</td>\n",
       "      <td>NO</td>\n",
       "    </tr>\n",
       "    <tr>\n",
       "      <th>2</th>\n",
       "      <td>3</td>\n",
       "      <td>Tameka</td>\n",
       "      <td>Fisher</td>\n",
       "      <td>UNKNOWN</td>\n",
       "      <td>tameka.fisher@aol.com</td>\n",
       "      <td>769C Honey Creek St.</td>\n",
       "      <td>Redondo Beach</td>\n",
       "      <td>CA</td>\n",
       "      <td>90278</td>\n",
       "      <td>2024-05-01 11:42:23.564626217</td>\n",
       "      <td>datalack</td>\n",
       "      <td>NO</td>\n",
       "    </tr>\n",
       "    <tr>\n",
       "      <th>3</th>\n",
       "      <td>4</td>\n",
       "      <td>Daryl</td>\n",
       "      <td>Spence</td>\n",
       "      <td>UNKNOWN</td>\n",
       "      <td>daryl.spence@aol.com</td>\n",
       "      <td>988 Pearl Lane</td>\n",
       "      <td>Uniondale</td>\n",
       "      <td>NY</td>\n",
       "      <td>11553</td>\n",
       "      <td>2024-05-01 11:42:23.564626217</td>\n",
       "      <td>datalack</td>\n",
       "      <td>NO</td>\n",
       "    </tr>\n",
       "    <tr>\n",
       "      <th>4</th>\n",
       "      <td>5</td>\n",
       "      <td>Charolette</td>\n",
       "      <td>Rice</td>\n",
       "      <td>(916) 381-6003</td>\n",
       "      <td>charolette.rice@msn.com</td>\n",
       "      <td>107 River Dr.</td>\n",
       "      <td>Sacramento</td>\n",
       "      <td>CA</td>\n",
       "      <td>95820</td>\n",
       "      <td>2024-05-01 11:42:23.564626217</td>\n",
       "      <td>datalack</td>\n",
       "      <td>NO</td>\n",
       "    </tr>\n",
       "  </tbody>\n",
       "</table>\n",
       "</div>"
      ],
      "text/plain": [
       "   customer_id  first_name last_name           phone                    email  \\\n",
       "0            1       Debra     Burks         UNKNOWN    debra.burks@yahoo.com   \n",
       "1            2       Kasha      Todd         UNKNOWN     kasha.todd@yahoo.com   \n",
       "2            3      Tameka    Fisher         UNKNOWN    tameka.fisher@aol.com   \n",
       "3            4       Daryl    Spence         UNKNOWN     daryl.spence@aol.com   \n",
       "4            5  Charolette      Rice  (916) 381-6003  charolette.rice@msn.com   \n",
       "\n",
       "                  street           city state  zip_code  \\\n",
       "0      9273 Thorne Ave.    Orchard Park    NY     14127   \n",
       "1       910 Vine Street        Campbell    CA     95008   \n",
       "2  769C Honey Creek St.   Redondo Beach    CA     90278   \n",
       "3        988 Pearl Lane       Uniondale    NY     11553   \n",
       "4         107 River Dr.      Sacramento    CA     95820   \n",
       "\n",
       "                 Extraction_Date    source exists_in_stores  \n",
       "0  2024-05-01 11:42:23.564626217  datalack               NO  \n",
       "1  2024-05-01 11:42:23.564626217  datalack               NO  \n",
       "2  2024-05-01 11:42:23.564626217  datalack               NO  \n",
       "3  2024-05-01 11:42:23.564626217  datalack               NO  \n",
       "4  2024-05-01 11:42:23.564626217  datalack               NO  "
      ]
     },
     "execution_count": 46,
     "metadata": {},
     "output_type": "execute_result"
    }
   ],
   "source": [
    "customers.head()"
   ]
  },
  {
   "cell_type": "code",
   "execution_count": 47,
   "id": "c8a7a6f9-16ef-4bdc-90b3-d1e669e7e83d",
   "metadata": {},
   "outputs": [
    {
     "data": {
      "text/plain": [
       "exists_in_stores\n",
       "NO     1430\n",
       "YES      15\n",
       "Name: count, dtype: int64"
      ]
     },
     "execution_count": 47,
     "metadata": {},
     "output_type": "execute_result"
    }
   ],
   "source": [
    "customers.exists_in_stores.value_counts()"
   ]
  },
  {
   "cell_type": "code",
   "execution_count": 48,
   "id": "efe46fe3-b6b2-4640-a5e8-c486b0e08717",
   "metadata": {},
   "outputs": [],
   "source": [
    "customers.to_csv(\"cutomers_stores_transformation.csv\")"
   ]
  },
  {
   "cell_type": "code",
   "execution_count": null,
   "id": "9f304a2a-c7a5-476c-8566-a5fb3180bc95",
   "metadata": {},
   "outputs": [],
   "source": []
  }
 ],
 "metadata": {
  "kernelspec": {
   "display_name": "Python 3 (ipykernel)",
   "language": "python",
   "name": "python3"
  },
  "language_info": {
   "codemirror_mode": {
    "name": "ipython",
    "version": 3
   },
   "file_extension": ".py",
   "mimetype": "text/x-python",
   "name": "python",
   "nbconvert_exporter": "python",
   "pygments_lexer": "ipython3",
   "version": "3.12.1"
  }
 },
 "nbformat": 4,
 "nbformat_minor": 5
}
