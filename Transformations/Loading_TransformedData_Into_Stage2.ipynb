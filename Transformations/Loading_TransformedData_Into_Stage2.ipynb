{
 "cells": [
  {
   "cell_type": "code",
   "execution_count": 2,
   "id": "2a1b9a68-09aa-4e71-8697-163f0ce587b7",
   "metadata": {},
   "outputs": [],
   "source": [
    "import pandas as pd\n",
    "import os\n",
    "import shutil"
   ]
  },
  {
   "cell_type": "markdown",
   "id": "8636d78a-a05d-45c7-9907-6a181bd51040",
   "metadata": {},
   "source": [
    "# Moving Transformed Data"
   ]
  },
  {
   "cell_type": "code",
   "execution_count": 7,
   "id": "6fafd1e5-668b-43c3-b9a3-68b1bf87003a",
   "metadata": {},
   "outputs": [],
   "source": [
    "def load_into_stage2(transformed_data_path, staging2_path, fileName):\n",
    "    df = pd.read_csv(os.path.join(transformed_data_path, fileName))\n",
    "    # Create the directory if it does not exist\n",
    "    os.makedirs(os.path.join(staging2_path, fileName.split(\".\")[0]), exist_ok=True)\n",
    "    df.to_csv(os.path.join(staging2_path, fileName.split(\".\")[0], fileName), index=False)"
   ]
  },
  {
   "cell_type": "code",
   "execution_count": 8,
   "id": "d46f3baa-e614-4cc5-9516-70940912229a",
   "metadata": {},
   "outputs": [],
   "source": [
    "staging2_path = 'D:\\\\ITI\\\\Python\\\\ITI_Python_for_Data_Management\\\\Extraction\\\\Staging_2'\n",
    "transformed_data_path = 'Transformed_Data'\n",
    "\n",
    "# List files in the folder\n",
    "transformed_files = os.listdir(transformed_data_path)\n",
    "\n",
    "# Loop through each file\n",
    "for file_name in transformed_files:\n",
    "    load_into_stage2(transformed_data_path, staging2_path, file_name)"
   ]
  },
  {
   "cell_type": "markdown",
   "id": "499b7b9d-4e67-4c41-9dd6-3d53d29564e1",
   "metadata": {},
   "source": [
    "# Moving The other Data"
   ]
  },
  {
   "cell_type": "code",
   "execution_count": 18,
   "id": "da7680cb-347e-485f-8d75-8facf115cccf",
   "metadata": {},
   "outputs": [],
   "source": [
    "def load_into_stage2(staging1_path, staging2_path, fileName):\n",
    "    df = pd.read_csv(os.path.join(staging1_path, \"{}\\\\{}.csv\".format(fileName, fileName)))\n",
    "    os.makedirs(os.path.join(staging2_path, fileName), exist_ok=True)\n",
    "    df.to_csv(os.path.join(staging2_path, fileName, \"{}.csv\".format(fileName)), index=False)\n",
    "\n",
    "staging1_path = 'D:\\\\ITI\\\\Python\\\\ITI_Python_for_Data_Management\\\\Extraction\\\\Staging_1'\n",
    "staging2_path = 'D:\\\\ITI\\\\Python\\\\ITI_Python_for_Data_Management\\\\Extraction\\\\Staging_2'\n",
    "written_list = ['brands', 'categories', 'products', 'staffs', 'stocks', 'stores']\n",
    "\n",
    "# Loop through each file\n",
    "for file_name in written_list:\n",
    "    load_into_stage2(staging1_path, staging2_path, file_name)"
   ]
  },
  {
   "cell_type": "code",
   "execution_count": null,
   "id": "a816b43a-5886-4295-95c9-6f865f2ddc45",
   "metadata": {},
   "outputs": [],
   "source": []
  }
 ],
 "metadata": {
  "kernelspec": {
   "display_name": "Python 3 (ipykernel)",
   "language": "python",
   "name": "python3"
  },
  "language_info": {
   "codemirror_mode": {
    "name": "ipython",
    "version": 3
   },
   "file_extension": ".py",
   "mimetype": "text/x-python",
   "name": "python",
   "nbconvert_exporter": "python",
   "pygments_lexer": "ipython3",
   "version": "3.12.1"
  }
 },
 "nbformat": 4,
 "nbformat_minor": 5
}
